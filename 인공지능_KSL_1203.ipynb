{
 "cells": [
  {
   "cell_type": "markdown",
   "id": "731376d1",
   "metadata": {},
   "source": [
    "## 0. 모듈 불러오기"
   ]
  },
  {
   "cell_type": "code",
   "execution_count": 1,
   "id": "52d4c3d5",
   "metadata": {},
   "outputs": [],
   "source": [
    "import os\n",
    "import glob\n",
    "from pathlib import Path\n",
    "\n",
    "import pandas as pd\n",
    "import numpy as np\n",
    "import seaborn as sns\n",
    "import matplotlib.pyplot as plt\n",
    "import random\n",
    "import math\n",
    "\n",
    "import pickle\n",
    "import cv2\n",
    "import mediapipe as mp\n",
    "\n",
    "from tensorflow.keras.preprocessing.image import ImageDataGenerator"
   ]
  },
  {
   "cell_type": "markdown",
   "id": "d123d904",
   "metadata": {},
   "source": [
    "## 1. 데이터 확인"
   ]
  },
  {
   "cell_type": "code",
   "execution_count": 4,
   "id": "94304a5b",
   "metadata": {},
   "outputs": [
    {
     "data": {
      "text/html": [
       "<div>\n",
       "<style scoped>\n",
       "    .dataframe tbody tr th:only-of-type {\n",
       "        vertical-align: middle;\n",
       "    }\n",
       "\n",
       "    .dataframe tbody tr th {\n",
       "        vertical-align: top;\n",
       "    }\n",
       "\n",
       "    .dataframe thead th {\n",
       "        text-align: right;\n",
       "    }\n",
       "</style>\n",
       "<table border=\"1\" class=\"dataframe\">\n",
       "  <thead>\n",
       "    <tr style=\"text-align: right;\">\n",
       "      <th></th>\n",
       "      <th>name</th>\n",
       "      <th>fold</th>\n",
       "      <th>class</th>\n",
       "      <th>num</th>\n",
       "      <th>path</th>\n",
       "      <th>label</th>\n",
       "    </tr>\n",
       "  </thead>\n",
       "  <tbody>\n",
       "    <tr>\n",
       "      <th>0</th>\n",
       "      <td>00_01.0045.jpg</td>\n",
       "      <td>00_01</td>\n",
       "      <td>1</td>\n",
       "      <td>45</td>\n",
       "      <td>C:/Users/HOME/Desktop/AI_project/KSL/KSL_rgb/0...</td>\n",
       "      <td>hi</td>\n",
       "    </tr>\n",
       "    <tr>\n",
       "      <th>1</th>\n",
       "      <td>00_01.0046.jpg</td>\n",
       "      <td>00_01</td>\n",
       "      <td>1</td>\n",
       "      <td>46</td>\n",
       "      <td>C:/Users/HOME/Desktop/AI_project/KSL/KSL_rgb/0...</td>\n",
       "      <td>hi</td>\n",
       "    </tr>\n",
       "    <tr>\n",
       "      <th>2</th>\n",
       "      <td>00_01.0047.jpg</td>\n",
       "      <td>00_01</td>\n",
       "      <td>1</td>\n",
       "      <td>47</td>\n",
       "      <td>C:/Users/HOME/Desktop/AI_project/KSL/KSL_rgb/0...</td>\n",
       "      <td>hi</td>\n",
       "    </tr>\n",
       "    <tr>\n",
       "      <th>3</th>\n",
       "      <td>00_01.0048.jpg</td>\n",
       "      <td>00_01</td>\n",
       "      <td>1</td>\n",
       "      <td>48</td>\n",
       "      <td>C:/Users/HOME/Desktop/AI_project/KSL/KSL_rgb/0...</td>\n",
       "      <td>hi</td>\n",
       "    </tr>\n",
       "    <tr>\n",
       "      <th>4</th>\n",
       "      <td>00_01.0049.jpg</td>\n",
       "      <td>00_01</td>\n",
       "      <td>1</td>\n",
       "      <td>49</td>\n",
       "      <td>C:/Users/HOME/Desktop/AI_project/KSL/KSL_rgb/0...</td>\n",
       "      <td>hi</td>\n",
       "    </tr>\n",
       "    <tr>\n",
       "      <th>...</th>\n",
       "      <td>...</td>\n",
       "      <td>...</td>\n",
       "      <td>...</td>\n",
       "      <td>...</td>\n",
       "      <td>...</td>\n",
       "      <td>...</td>\n",
       "    </tr>\n",
       "    <tr>\n",
       "      <th>3595</th>\n",
       "      <td>19_77.0072.jpg</td>\n",
       "      <td>19_77</td>\n",
       "      <td>77</td>\n",
       "      <td>72</td>\n",
       "      <td>C:/Users/HOME/Desktop/AI_project/KSL/KSL_rgb/1...</td>\n",
       "      <td>care</td>\n",
       "    </tr>\n",
       "    <tr>\n",
       "      <th>3596</th>\n",
       "      <td>19_77.0073.jpg</td>\n",
       "      <td>19_77</td>\n",
       "      <td>77</td>\n",
       "      <td>73</td>\n",
       "      <td>C:/Users/HOME/Desktop/AI_project/KSL/KSL_rgb/1...</td>\n",
       "      <td>care</td>\n",
       "    </tr>\n",
       "    <tr>\n",
       "      <th>3597</th>\n",
       "      <td>19_77.0074.jpg</td>\n",
       "      <td>19_77</td>\n",
       "      <td>77</td>\n",
       "      <td>74</td>\n",
       "      <td>C:/Users/HOME/Desktop/AI_project/KSL/KSL_rgb/1...</td>\n",
       "      <td>care</td>\n",
       "    </tr>\n",
       "    <tr>\n",
       "      <th>3598</th>\n",
       "      <td>19_77.0075.jpg</td>\n",
       "      <td>19_77</td>\n",
       "      <td>77</td>\n",
       "      <td>75</td>\n",
       "      <td>C:/Users/HOME/Desktop/AI_project/KSL/KSL_rgb/1...</td>\n",
       "      <td>care</td>\n",
       "    </tr>\n",
       "    <tr>\n",
       "      <th>3599</th>\n",
       "      <td>19_77.0076.jpg</td>\n",
       "      <td>19_77</td>\n",
       "      <td>77</td>\n",
       "      <td>76</td>\n",
       "      <td>C:/Users/HOME/Desktop/AI_project/KSL/KSL_rgb/1...</td>\n",
       "      <td>care</td>\n",
       "    </tr>\n",
       "  </tbody>\n",
       "</table>\n",
       "<p>3600 rows × 6 columns</p>\n",
       "</div>"
      ],
      "text/plain": [
       "                name   fold  class  num  \\\n",
       "0     00_01.0045.jpg  00_01      1   45   \n",
       "1     00_01.0046.jpg  00_01      1   46   \n",
       "2     00_01.0047.jpg  00_01      1   47   \n",
       "3     00_01.0048.jpg  00_01      1   48   \n",
       "4     00_01.0049.jpg  00_01      1   49   \n",
       "...              ...    ...    ...  ...   \n",
       "3595  19_77.0072.jpg  19_77     77   72   \n",
       "3596  19_77.0073.jpg  19_77     77   73   \n",
       "3597  19_77.0074.jpg  19_77     77   74   \n",
       "3598  19_77.0075.jpg  19_77     77   75   \n",
       "3599  19_77.0076.jpg  19_77     77   76   \n",
       "\n",
       "                                                   path label  \n",
       "0     C:/Users/HOME/Desktop/AI_project/KSL/KSL_rgb/0...    hi  \n",
       "1     C:/Users/HOME/Desktop/AI_project/KSL/KSL_rgb/0...    hi  \n",
       "2     C:/Users/HOME/Desktop/AI_project/KSL/KSL_rgb/0...    hi  \n",
       "3     C:/Users/HOME/Desktop/AI_project/KSL/KSL_rgb/0...    hi  \n",
       "4     C:/Users/HOME/Desktop/AI_project/KSL/KSL_rgb/0...    hi  \n",
       "...                                                 ...   ...  \n",
       "3595  C:/Users/HOME/Desktop/AI_project/KSL/KSL_rgb/1...  care  \n",
       "3596  C:/Users/HOME/Desktop/AI_project/KSL/KSL_rgb/1...  care  \n",
       "3597  C:/Users/HOME/Desktop/AI_project/KSL/KSL_rgb/1...  care  \n",
       "3598  C:/Users/HOME/Desktop/AI_project/KSL/KSL_rgb/1...  care  \n",
       "3599  C:/Users/HOME/Desktop/AI_project/KSL/KSL_rgb/1...  care  \n",
       "\n",
       "[3600 rows x 6 columns]"
      ]
     },
     "execution_count": 4,
     "metadata": {},
     "output_type": "execute_result"
    }
   ],
   "source": [
    "#한 폴더당 중심 동작 20개씩 뽑음\n",
    "select_df=pd.read_csv('C:/Users/HOME/Desktop/AI_project/KSL/DF_select.csv')\n",
    "select_df"
   ]
  },
  {
   "cell_type": "code",
   "execution_count": null,
   "id": "9be71020",
   "metadata": {},
   "outputs": [],
   "source": [
    "datagen = ImageDataGenerator(rescale=1. / 255, validation_split=0.25)\n",
    "train_generator = datagen.flow_from_dataframe(\n",
    "          dataframe=select_df,\n",
    "          batch_size=128,\n",
    "          class_mode='categorical',\n",
    "          shuffle=True,\n",
    "          x_col='path',\n",
    "          y_col='label',\n",
    "          subset = 'training')\n",
    "\n",
    "valid_generator = datagen.flow_from_dataframe(\n",
    "          dataframe=select_df,\n",
    "          batch_size=128,\n",
    "          class_mode='categorical',\n",
    "          shuffle=True,\n",
    "          x_col='path',\n",
    "          y_col='label',\n",
    "          subset = 'validation')"
   ]
  },
  {
   "cell_type": "markdown",
   "id": "f164fd83",
   "metadata": {},
   "source": [
    "### CNN"
   ]
  },
  {
   "cell_type": "code",
   "execution_count": null,
   "id": "1d669026",
   "metadata": {},
   "outputs": [],
   "source": [
    "from tensorflow.keras import models, layers, Model\n",
    "from tensorflow.keras.models import Sequential\n",
    "from tensorflow.keras.layers import Conv2D, MaxPooling2D, Activation\n",
    "from tensorflow.keras.layers import Dense, Dropout, Flatten, BatchNormalization\n",
    "from tensorflow import keras"
   ]
  },
  {
   "cell_type": "code",
   "execution_count": null,
   "id": "c7554acb",
   "metadata": {},
   "outputs": [],
   "source": [
    "from keras.callbacks import ModelCheckpoint"
   ]
  },
  {
   "cell_type": "code",
   "execution_count": null,
   "id": "a30f1bb5",
   "metadata": {},
   "outputs": [],
   "source": [
    "pool_size = 2\n",
    "    \n",
    "model1 = Sequential([\n",
    "  keras.Input(shape=(256,256,3)),\n",
    "  Conv2D(filters = 30, kernel_size = (3,3), padding='same'),  \n",
    "  BatchNormalization(),                                       \n",
    "  Activation('relu'),\n",
    "  Conv2D(filters = 30, kernel_size = (3,3), padding='same'),  \n",
    "  BatchNormalization(),                                       \n",
    "  Activation('relu'),                                           \n",
    "  MaxPooling2D(pool_size=pool_size),                         \n",
    "\n",
    "  Conv2D(filters = 50, kernel_size = (3,3), padding='same'),\n",
    "  BatchNormalization(),\n",
    "  Activation('relu'),\n",
    "  Conv2D(filters = 50, kernel_size = (3,3), padding='same'),  \n",
    "  BatchNormalization(),                                       \n",
    "  Activation('relu'),   \n",
    "  MaxPooling2D(pool_size=pool_size),                         \n",
    "\n",
    "  Conv2D(filters = 80, kernel_size = (3,3), padding='same'),\n",
    "  BatchNormalization(),\n",
    "  Activation('relu'),\n",
    "  Conv2D(filters = 80, kernel_size = (3,3), padding='same'),  \n",
    "  BatchNormalization(),                                       \n",
    "  Activation('relu'),   \n",
    "  MaxPooling2D(pool_size=pool_size),                         \n",
    "\n",
    "  Flatten(),\n",
    "  Dense(50),\n",
    "  Activation('relu'),                                          \n",
    "  \n",
    "  Dense(10, activation='softmax'),\n",
    "])\n",
    "\n",
    "model1.summary()"
   ]
  },
  {
   "cell_type": "code",
   "execution_count": null,
   "id": "1f7590b1",
   "metadata": {},
   "outputs": [],
   "source": [
    "model1.compile(\n",
    "  optimizer='adam',\n",
    "  loss='categorical_crossentropy',\n",
    "  metrics=['accuracy'],\n",
    ")"
   ]
  },
  {
   "cell_type": "code",
   "execution_count": null,
   "id": "351412d4",
   "metadata": {},
   "outputs": [],
   "source": [
    "#cnn\n",
    "history1= model1.fit(\n",
    "    train_generator,\n",
    "    epochs=10,\n",
    "    validation_data=valid_generator,\n",
    "    shuffle=True)"
   ]
  },
  {
   "cell_type": "markdown",
   "id": "a29eb044",
   "metadata": {},
   "source": [
    "### CNN+LSTM"
   ]
  },
  {
   "cell_type": "code",
   "execution_count": null,
   "id": "e6cec0bd",
   "metadata": {},
   "outputs": [],
   "source": [
    "from keras.layers import Dense, Dropout, Flatten, Conv2D, BatchNormalization, MaxPooling2D,\\\n",
    "                        Permute, TimeDistributed, Bidirectional,GRU, LeakyReLU, SimpleRNN,\\\n",
    "LSTM, GlobalAveragePooling2D, SeparableConv2D, ZeroPadding2D, Reshape\n",
    "from keras import models\n",
    "from keras import layers\n",
    "import tensorflow as tf"
   ]
  },
  {
   "cell_type": "code",
   "execution_count": null,
   "id": "b9755dd6",
   "metadata": {},
   "outputs": [],
   "source": [
    "Model = Sequential()\n",
    "\n",
    "Model.add(SeparableConv2D(12,(3,3),activation=\"relu\",\n",
    "                 input_shape=(256,256,3)))\n",
    "Model.add(BatchNormalization())\n",
    "Model.add(MaxPooling2D((2,2)))\n",
    "\n",
    "#\n",
    "Model.add(SeparableConv2D(24,(3,3),\n",
    "                 activation=\"relu\",padding=\"same\"))\n",
    "Model.add(Dropout(0.2))\n",
    "Model.add(MaxPooling2D((2,2)))\n",
    "\n",
    "#\n",
    "Model.add(TimeDistributed(Flatten()))\n",
    "Model.add(Bidirectional(LSTM(64,\n",
    "                                  return_sequences=True,\n",
    "                                  dropout=0.5,\n",
    "                                  recurrent_dropout=0.5)))\n",
    "Model.add(Bidirectional(LSTM(64,\n",
    "                                  return_sequences=True,\n",
    "                                  dropout=0.5,\n",
    "                                  recurrent_dropout=0.5)))\n",
    "\n",
    "#\n",
    "Model.add(Flatten())\n",
    "Model.add(Dense(128,activation=\"relu\"))\n",
    "Model.add(Dropout(0.5))\n",
    "Model.add(Dense(10,activation=\"sigmoid\"))"
   ]
  },
  {
   "cell_type": "code",
   "execution_count": null,
   "id": "071a1401",
   "metadata": {},
   "outputs": [],
   "source": [
    "Model.compile(\n",
    "  optimizer='adam',\n",
    "  loss='categorical_crossentropy',\n",
    "  metrics=['accuracy'],\n",
    ")"
   ]
  },
  {
   "cell_type": "code",
   "execution_count": null,
   "id": "28b29fa5",
   "metadata": {},
   "outputs": [],
   "source": [
    "checkpoint_filepath = 'C:/Users/HOME/Desktop/AI_project/KSL/h5/' + 'best_model_{val_accuracy:.4f}.h5'\n",
    "model_checkpoint_callback = ModelCheckpoint(\n",
    "    filepath=checkpoint_filepath,\n",
    "    save_weights_only=True,\n",
    "    monitor='val_accuracy',\n",
    "    mode='max',\n",
    "    save_best_only=True,\n",
    "    verbose=1)"
   ]
  },
  {
   "cell_type": "code",
   "execution_count": null,
   "id": "6f20ae9b",
   "metadata": {},
   "outputs": [],
   "source": [
    "history2= Model.fit(\n",
    "    train_generator,\n",
    "    epochs=10,\n",
    "    validation_data=valid_generator,\n",
    "    shuffle=True)"
   ]
  },
  {
   "cell_type": "markdown",
   "id": "af72cb59",
   "metadata": {},
   "source": [
    "### VGG16\n",
    "- 하려다가 실패함"
   ]
  },
  {
   "cell_type": "code",
   "execution_count": null,
   "id": "a6f4356a",
   "metadata": {},
   "outputs": [],
   "source": [
    "from keras.applications.vgg16 import VGG16"
   ]
  },
  {
   "cell_type": "code",
   "execution_count": null,
   "id": "53311144",
   "metadata": {},
   "outputs": [],
   "source": [
    "base_model = VGG16(weights='imagenet', include_top=False, input_shape=(256,256,3), classes=10)"
   ]
  },
  {
   "cell_type": "code",
   "execution_count": null,
   "id": "67222d57",
   "metadata": {},
   "outputs": [],
   "source": [
    "base_model.trainable = False"
   ]
  },
  {
   "cell_type": "code",
   "execution_count": null,
   "id": "ae7dfd84",
   "metadata": {},
   "outputs": [],
   "source": [
    "base_model.compile(\n",
    "  optimizer='adam',\n",
    "  loss='categorical_crossentropy',\n",
    "  metrics=['accuracy'],\n",
    ")"
   ]
  },
  {
   "cell_type": "code",
   "execution_count": null,
   "id": "791abde9",
   "metadata": {},
   "outputs": [],
   "source": [
    "history3= base_model.fit(\n",
    "    train_generator,\n",
    "    epochs=10,\n",
    "    validation_data=valid_generator,\n",
    "    shuffle=True)"
   ]
  }
 ],
 "metadata": {
  "kernelspec": {
   "display_name": "Python 3 (ipykernel)",
   "language": "python",
   "name": "python3"
  },
  "language_info": {
   "codemirror_mode": {
    "name": "ipython",
    "version": 3
   },
   "file_extension": ".py",
   "mimetype": "text/x-python",
   "name": "python",
   "nbconvert_exporter": "python",
   "pygments_lexer": "ipython3",
   "version": "3.9.13"
  }
 },
 "nbformat": 4,
 "nbformat_minor": 5
}
