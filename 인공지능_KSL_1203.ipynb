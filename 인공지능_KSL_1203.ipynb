{
 "cells": [
  {
   "cell_type": "markdown",
   "id": "731376d1",
   "metadata": {},
   "source": [
    "## 0. 모듈 불러오기"
   ]
  },
  {
   "cell_type": "code",
   "execution_count": null,
   "id": "52d4c3d5",
   "metadata": {},
   "outputs": [],
   "source": [
    "import os\n",
    "import glob\n",
    "from pathlib import Path\n",
    "\n",
    "import pandas as pd\n",
    "import numpy as np\n",
    "import seaborn as sns\n",
    "import matplotlib.pyplot as plt\n",
    "import random\n",
    "import math\n",
    "\n",
    "import pickle\n",
    "import cv2\n",
    "import mediapipe as mp"
   ]
  },
  {
   "cell_type": "markdown",
   "id": "d123d904",
   "metadata": {},
   "source": [
    "## 1. 데이터 확인"
   ]
  },
  {
   "cell_type": "code",
   "execution_count": null,
   "id": "b6d5ebab",
   "metadata": {},
   "outputs": [],
   "source": [
    "directory = \"C:/Users/HOME/Desktop/AI_project/KSL/KSL_rgb\""
   ]
  },
  {
   "cell_type": "code",
   "execution_count": null,
   "id": "e59934d6",
   "metadata": {},
   "outputs": [],
   "source": [
    "Class_name = os.listdir(directory)"
   ]
  },
  {
   "cell_type": "code",
   "execution_count": null,
   "id": "8e049178",
   "metadata": {
    "scrolled": true
   },
   "outputs": [],
   "source": [
    "print(Class_name)"
   ]
  },
  {
   "cell_type": "code",
   "execution_count": null,
   "id": "f1c93fa5",
   "metadata": {},
   "outputs": [],
   "source": [
    "data = []\n",
    "for i in Class_name:\n",
    "    path = os.path.join(directory, i)\n",
    "    file_list = os.listdir(path)\n",
    "    \n",
    "    for j in file_list:\n",
    "        name = j\n",
    "        label1 = i\n",
    "        label2 = i[3:5]\n",
    "        num = j[6:10]\n",
    "    \n",
    "        eda = [name, label1, label2, num]\n",
    "        data.append(eda)"
   ]
  },
  {
   "cell_type": "code",
   "execution_count": null,
   "id": "e1cad969",
   "metadata": {},
   "outputs": [],
   "source": [
    "DF=pd.DataFrame(data, columns=['name','fold','class','num'])\n",
    "DF['path']=directory+'/'+DF['fold']+'/'+DF['name']\n",
    "DF"
   ]
  },
  {
   "cell_type": "code",
   "execution_count": null,
   "id": "0b5d1a7b",
   "metadata": {},
   "outputs": [],
   "source": [
    "DF_select=DF[(DF['class']=='15')|(DF['class']=='13')|(DF['class']=='60')|(DF['class']=='01')|(DF['class']=='07')|\n",
    "             (DF['class']=='55')|(DF['class']=='77')|(DF['class']=='11')|(DF['class']=='16')|(DF['class']=='17')]\n",
    "DF_select['class']=DF_select['class'].astype(int)\n",
    "DF_select['num']=DF_select['num'].astype(int)\n",
    "DF_select"
   ]
  },
  {
   "cell_type": "code",
   "execution_count": null,
   "id": "c3663ffd",
   "metadata": {},
   "outputs": [],
   "source": [
    "with open('C:/Users/HOME/Desktop/AI_project/KSL/class_label.p','rb') as f:\n",
    "    Labels=pickle.load(f)"
   ]
  },
  {
   "cell_type": "code",
   "execution_count": null,
   "id": "a155abd6",
   "metadata": {
    "scrolled": true
   },
   "outputs": [],
   "source": [
    "DF_label=pd.DataFrame({'class' : Labels.keys(),'label' : Labels.values()})\n",
    "DF_label"
   ]
  },
  {
   "cell_type": "code",
   "execution_count": null,
   "id": "2e0f0876",
   "metadata": {},
   "outputs": [],
   "source": [
    "DF_select = pd.merge(DF_select, DF_label, on='class')\n",
    "DF_select"
   ]
  },
  {
   "cell_type": "code",
   "execution_count": null,
   "id": "1796d93f",
   "metadata": {},
   "outputs": [],
   "source": [
    "dfdf=DF_select[(DF_select['num']>=31)&(DF_select['num']<=50)]\n",
    "dfdf"
   ]
  },
  {
   "cell_type": "code",
   "execution_count": null,
   "id": "009f7869",
   "metadata": {},
   "outputs": [],
   "source": [
    "aa= pd.DataFrame(os.listdir('C:/Users/HOME/Desktop/AI_project/KSL/MP'), columns=['name'])\n",
    "aa"
   ]
  },
  {
   "cell_type": "code",
   "execution_count": null,
   "id": "bbf2cd6c",
   "metadata": {},
   "outputs": [],
   "source": [
    "bb = pd.merge(aa, DF_select, on='name')\n",
    "bb"
   ]
  },
  {
   "cell_type": "code",
   "execution_count": null,
   "id": "87c0a5d2",
   "metadata": {},
   "outputs": [],
   "source": [
    "from tensorflow.keras.preprocessing.image import ImageDataGenerator"
   ]
  },
  {
   "cell_type": "code",
   "execution_count": null,
   "id": "9be71020",
   "metadata": {},
   "outputs": [],
   "source": [
    "datagen = ImageDataGenerator(rescale=1. / 255, validation_split=0.25)\n",
    "train_generator = datagen.flow_from_dataframe(\n",
    "          dataframe=bb,\n",
    "          batch_size=128,\n",
    "          class_mode='categorical',\n",
    "          shuffle=True,\n",
    "          x_col='path',\n",
    "          y_col='label',\n",
    "          subset = 'training')\n",
    "\n",
    "valid_generator = datagen.flow_from_dataframe(\n",
    "          dataframe=bb,\n",
    "          batch_size=128,\n",
    "          class_mode='categorical',\n",
    "          shuffle=True,\n",
    "          x_col='path',\n",
    "          y_col='label',\n",
    "          subset = 'validation')"
   ]
  },
  {
   "cell_type": "code",
   "execution_count": null,
   "id": "1d669026",
   "metadata": {},
   "outputs": [],
   "source": [
    "from tensorflow.keras import models, layers, Model\n",
    "from tensorflow.keras.models import Sequential\n",
    "from tensorflow.keras.layers import Conv2D, MaxPooling2D, Activation\n",
    "from tensorflow.keras.layers import Dense, Dropout, Flatten, BatchNormalization\n",
    "from tensorflow import keras"
   ]
  },
  {
   "cell_type": "code",
   "execution_count": null,
   "id": "c7554acb",
   "metadata": {},
   "outputs": [],
   "source": [
    "from keras.callbacks import ModelCheckpoint"
   ]
  },
  {
   "cell_type": "code",
   "execution_count": null,
   "id": "a30f1bb5",
   "metadata": {},
   "outputs": [],
   "source": [
    "pool_size = 2\n",
    "    \n",
    "model1 = Sequential([\n",
    "  keras.Input(shape=(256,256,3)),\n",
    "  Conv2D(filters = 30, kernel_size = (3,3), padding='same'),  \n",
    "  BatchNormalization(),                                       \n",
    "  Activation('relu'),\n",
    "  Conv2D(filters = 30, kernel_size = (3,3), padding='same'),  \n",
    "  BatchNormalization(),                                       \n",
    "  Activation('relu'),                                           \n",
    "  MaxPooling2D(pool_size=pool_size),                         \n",
    "\n",
    "  Conv2D(filters = 50, kernel_size = (3,3), padding='same'),\n",
    "  BatchNormalization(),\n",
    "  Activation('relu'),\n",
    "  Conv2D(filters = 50, kernel_size = (3,3), padding='same'),  \n",
    "  BatchNormalization(),                                       \n",
    "  Activation('relu'),   \n",
    "  MaxPooling2D(pool_size=pool_size),                         \n",
    "\n",
    "  Conv2D(filters = 80, kernel_size = (3,3), padding='same'),\n",
    "  BatchNormalization(),\n",
    "  Activation('relu'),\n",
    "  Conv2D(filters = 80, kernel_size = (3,3), padding='same'),  \n",
    "  BatchNormalization(),                                       \n",
    "  Activation('relu'),   \n",
    "  MaxPooling2D(pool_size=pool_size),                         \n",
    "\n",
    "  Flatten(),\n",
    "  Dense(50),\n",
    "  Activation('relu'),                                          \n",
    "  \n",
    "  Dense(10, activation='softmax'),\n",
    "])\n",
    "\n",
    "model.summary()"
   ]
  },
  {
   "cell_type": "code",
   "execution_count": null,
   "id": "e6cec0bd",
   "metadata": {},
   "outputs": [],
   "source": [
    "from keras.layers import Dense, Dropout, Flatten, Conv2D, BatchNormalization, MaxPooling2D,\\\n",
    "                        Permute, TimeDistributed, Bidirectional,GRU, LeakyReLU, SimpleRNN,\\\n",
    "LSTM, GlobalAveragePooling2D, SeparableConv2D, ZeroPadding2D, Reshape\n",
    "from keras import models\n",
    "from keras import layers\n",
    "import tensorflow as tf"
   ]
  },
  {
   "cell_type": "code",
   "execution_count": null,
   "id": "b9755dd6",
   "metadata": {},
   "outputs": [],
   "source": [
    "Model = Sequential()\n",
    "\n",
    "Model.add(SeparableConv2D(12,(3,3),activation=\"relu\",\n",
    "                 input_shape=(256,256,3)))\n",
    "Model.add(BatchNormalization())\n",
    "Model.add(MaxPooling2D((2,2)))\n",
    "\n",
    "#\n",
    "Model.add(SeparableConv2D(24,(3,3),\n",
    "                 activation=\"relu\",padding=\"same\"))\n",
    "Model.add(Dropout(0.2))\n",
    "Model.add(MaxPooling2D((2,2)))\n",
    "\n",
    "#\n",
    "Model.add(TimeDistributed(Flatten()))\n",
    "Model.add(Bidirectional(LSTM(64,\n",
    "                                  return_sequences=True,\n",
    "                                  dropout=0.5,\n",
    "                                  recurrent_dropout=0.5)))\n",
    "Model.add(Bidirectional(LSTM(64,\n",
    "                                  return_sequences=True,\n",
    "                                  dropout=0.5,\n",
    "                                  recurrent_dropout=0.5)))\n",
    "\n",
    "#\n",
    "Model.add(Flatten())\n",
    "Model.add(Dense(128,activation=\"relu\"))\n",
    "Model.add(Dropout(0.5))\n",
    "Model.add(Dense(10,activation=\"sigmoid\"))"
   ]
  },
  {
   "cell_type": "code",
   "execution_count": null,
   "id": "071a1401",
   "metadata": {},
   "outputs": [],
   "source": [
    "Model.compile(\n",
    "  optimizer='adam',\n",
    "  loss='categorical_crossentropy',\n",
    "  metrics=['accuracy'],\n",
    ")"
   ]
  },
  {
   "cell_type": "code",
   "execution_count": null,
   "id": "28b29fa5",
   "metadata": {},
   "outputs": [],
   "source": [
    "checkpoint_filepath = 'C:/Users/HOME/Desktop/AI_project/KSL/h5/' + 'best_model_{val_accuracy:.4f}.h5'\n",
    "model_checkpoint_callback = ModelCheckpoint(\n",
    "    filepath=checkpoint_filepath,\n",
    "    save_weights_only=True,\n",
    "    monitor='val_accuracy',\n",
    "    mode='max',\n",
    "    save_best_only=True,\n",
    "    verbose=1)"
   ]
  },
  {
   "cell_type": "code",
   "execution_count": null,
   "id": "351412d4",
   "metadata": {},
   "outputs": [],
   "source": [
    "#cnn\n",
    "history1= model1.fit(\n",
    "    train_generator,\n",
    "    epochs=10,\n",
    "    validation_data=valid_generator,\n",
    "    shuffle=True)"
   ]
  },
  {
   "cell_type": "code",
   "execution_count": null,
   "id": "6f20ae9b",
   "metadata": {},
   "outputs": [],
   "source": [
    "history2= Model.fit(\n",
    "    train_generator,\n",
    "    epochs=10,\n",
    "    validation_data=valid_generator,\n",
    "    shuffle=True)"
   ]
  },
  {
   "cell_type": "code",
   "execution_count": null,
   "id": "a6f4356a",
   "metadata": {},
   "outputs": [],
   "source": [
    "from keras.applications.vgg16 import VGG16"
   ]
  },
  {
   "cell_type": "code",
   "execution_count": null,
   "id": "53311144",
   "metadata": {},
   "outputs": [],
   "source": [
    "base_model = VGG16(weights='imagenet', include_top=False, input_shape=(256,256,3), classes=10)"
   ]
  },
  {
   "cell_type": "code",
   "execution_count": null,
   "id": "67222d57",
   "metadata": {},
   "outputs": [],
   "source": [
    "base_model.trainable = False"
   ]
  },
  {
   "cell_type": "code",
   "execution_count": null,
   "id": "ae7dfd84",
   "metadata": {},
   "outputs": [],
   "source": [
    "base_model.compile(\n",
    "  optimizer='adam',\n",
    "  loss='categorical_crossentropy',\n",
    "  metrics=['accuracy'],\n",
    ")"
   ]
  },
  {
   "cell_type": "code",
   "execution_count": null,
   "id": "791abde9",
   "metadata": {},
   "outputs": [],
   "source": [
    "history3= base_model.fit(\n",
    "    train_generator,\n",
    "    epochs=10,\n",
    "    validation_data=valid_generator,\n",
    "    shuffle=True)"
   ]
  }
 ],
 "metadata": {
  "kernelspec": {
   "display_name": "Python 3 (ipykernel)",
   "language": "python",
   "name": "python3"
  },
  "language_info": {
   "codemirror_mode": {
    "name": "ipython",
    "version": 3
   },
   "file_extension": ".py",
   "mimetype": "text/x-python",
   "name": "python",
   "nbconvert_exporter": "python",
   "pygments_lexer": "ipython3",
   "version": "3.9.13"
  }
 },
 "nbformat": 4,
 "nbformat_minor": 5
}
