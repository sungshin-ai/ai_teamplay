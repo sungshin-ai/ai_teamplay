{
  "nbformat": 4,
  "nbformat_minor": 0,
  "metadata": {
    "colab": {
      "provenance": [],
      "mount_file_id": "1bDG9WrrqTL9DNeUtEsUolyPTUXTRr5tq",
      "authorship_tag": "ABX9TyO2i0Kw8EuEo3USPGwg1vRE",
      "include_colab_link": true
    },
    "kernelspec": {
      "name": "python3",
      "display_name": "Python 3"
    },
    "language_info": {
      "name": "python"
    }
  },
  "cells": [
    {
      "cell_type": "markdown",
      "metadata": {
        "id": "view-in-github",
        "colab_type": "text"
      },
      "source": [
        "<a href=\"https://colab.research.google.com/github/sungshin-ai/ai_teamplay/blob/main/Inception_V3.ipynb\" target=\"_parent\"><img src=\"https://colab.research.google.com/assets/colab-badge.svg\" alt=\"Open In Colab\"/></a>"
      ]
    },
    {
      "cell_type": "markdown",
      "source": [
        "## 0. 모듈"
      ],
      "metadata": {
        "id": "UdhpfRfFNje1"
      }
    },
    {
      "cell_type": "code",
      "execution_count": null,
      "metadata": {
        "id": "-C53WJVuI2n2"
      },
      "outputs": [],
      "source": [
        "import os\n",
        "import glob\n",
        "from pathlib import Path\n",
        "\n",
        "import pandas as pd\n",
        "import numpy as np\n",
        "import seaborn as sns\n",
        "import matplotlib.pyplot as plt\n",
        "import random\n",
        "import math\n",
        "\n",
        "import pickle\n",
        "import cv2"
      ]
    },
    {
      "cell_type": "code",
      "source": [
        "from tensorflow.keras.preprocessing.image import ImageDataGenerator\n",
        "from tensorflow.keras import models, layers, Model\n",
        "from tensorflow.keras.applications.inception_v3 import InceptionV3\n",
        "from keras.applications.inception_v3 import preprocess_input #InceptionV3, Xception, InceptionResNetV2\n",
        "#from keras.applications.imagenet_utils import preprocess_input #others\n",
        "from sklearn.model_selection import train_test_split\n",
        "\n",
        "from tensorflow.keras.models import Sequential\n",
        "from tensorflow.keras.layers import Conv2D, MaxPooling2D, Activation\n",
        "from tensorflow.keras.layers import Dense, Dropout, Flatten, BatchNormalization\n",
        "\n",
        "from tensorflow import keras\n",
        "from PIL import Image\n",
        "import tensorflow as tf\n",
        "\n",
        "from keras.callbacks import ModelCheckpoint"
      ],
      "metadata": {
        "id": "Woma4On5MEl-"
      },
      "execution_count": null,
      "outputs": []
    },
    {
      "cell_type": "markdown",
      "source": [
        "## 1. 데이터"
      ],
      "metadata": {
        "id": "QY3Mey3-N254"
      }
    },
    {
      "cell_type": "code",
      "source": [
        "select_df['path']='/content/drive/MyDrive/KSL_rgb/'+select_df['name']"
      ],
      "metadata": {
        "id": "zW22hBgRN8o6"
      },
      "execution_count": null,
      "outputs": []
    },
    {
      "cell_type": "code",
      "source": [
        "select_df=pd.read_csv('/content/drive/MyDrive/DF_select.csv')\n",
        "select_df"
      ],
      "metadata": {
        "id": "JxJQUOU4N-lj"
      },
      "execution_count": null,
      "outputs": []
    },
    {
      "cell_type": "code",
      "source": [
        "datagen = ImageDataGenerator(rescale=1. / 255, validation_split=0.25)\n",
        "train_generator = datagen.flow_from_dataframe(\n",
        "          dataframe=select_df,\n",
        "          batch_size=128,\n",
        "          class_mode='categorical',\n",
        "          shuffle=True,\n",
        "          x_col='path',\n",
        "          y_col='label',\n",
        "          subset = 'training')\n",
        "\n",
        "valid_generator = datagen.flow_from_dataframe(\n",
        "          dataframe=select_df,\n",
        "          batch_size=128,\n",
        "          class_mode='categorical',\n",
        "          shuffle=True,\n",
        "          x_col='path',\n",
        "          y_col='label',\n",
        "          subset = 'validation')"
      ],
      "metadata": {
        "id": "L8DIn54POCnt"
      },
      "execution_count": null,
      "outputs": []
    },
    {
      "cell_type": "markdown",
      "source": [
        "# InceptionV3"
      ],
      "metadata": {
        "id": "gGQRxyOlNsSL"
      }
    },
    {
      "cell_type": "code",
      "source": [
        "InceptionV3(\n",
        "    include_top=True, # classification (softmax) 부분을 포함할 것인지 선택하는 것입니다.\n",
        "    weights=\"imagenet\", # imageNet으로 pre-trained 된 모델을 받을 것인지를 선택하는 것입니다. 만약 pre-trained 된 모델을 받길 원하지 않는다면 None으로 넣으면 됩니다.\n",
        "    input_tensor=None, \n",
        "    input_shape=None,\n",
        "    pooling=None,\n",
        "    classes=1000,\n",
        "    classifier_activation=\"softmax\",\n",
        ")"
      ],
      "metadata": {
        "id": "O2itDlLcMtCK"
      },
      "execution_count": null,
      "outputs": []
    },
    {
      "cell_type": "markdown",
      "source": [
        "## 2. 모델 학습/검증"
      ],
      "metadata": {
        "id": "kC24JwYMObbr"
      }
    },
    {
      "cell_type": "code",
      "source": [
        "base_model = InceptionV3(weights='imagenet', include_top=False, pooling='avg') #Downloading data from https://github.com/fchollet/deep-learning-models/releases/download/v0.5/inception_v3_weights_tf_dim_ordering_tf_kernels.h5\n",
        "\n",
        "#base_model.summary()\n",
        "\n",
        "net = Dense(units=10)(base_model.output)\n",
        "net = Activation('softmax')(net)\n",
        "model = Model(inputs=base_model.input, outputs=net)\n",
        "\n",
        "model.summary()"
      ],
      "metadata": {
        "id": "RSNZ3_kuMvhe"
      },
      "execution_count": null,
      "outputs": []
    },
    {
      "cell_type": "code",
      "source": [
        "checkpoint_filepath = '/content/drive/MyDrive/keras/checkpoint/best_inc.ckpt'\n",
        "model_checkpoint_callback = ModelCheckpoint(\n",
        "    filepath=checkpoint_filepath,\n",
        "    save_weights_only=True,\n",
        "    monitor='val_accuracy',\n",
        "    mode='max',\n",
        "    save_best_only=True,\n",
        "    verbose=1)"
      ],
      "metadata": {
        "id": "xevD0e40Mxoa"
      },
      "execution_count": null,
      "outputs": []
    },
    {
      "cell_type": "code",
      "source": [
        "model.compile(\n",
        "    loss='categorical_crossentropy',\n",
        "    optimizer='adam',\n",
        "    metrics=['accuracy'])"
      ],
      "metadata": {
        "id": "30LHRVhJMzeS"
      },
      "execution_count": null,
      "outputs": []
    },
    {
      "cell_type": "code",
      "source": [
        "history = model.fit(\n",
        "          train_generator,\n",
        "          epochs=10,\n",
        "          validation_data=valid_generator, \n",
        "          callbacks=[model_checkpoint_callback]\n",
        ")"
      ],
      "metadata": {
        "id": "qTx0GUniNbEO"
      },
      "execution_count": null,
      "outputs": []
    }
  ]
}