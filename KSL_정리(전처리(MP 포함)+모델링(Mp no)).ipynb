{
 "cells": [
  {
   "cell_type": "markdown",
   "id": "731376d1",
   "metadata": {
    "id": "731376d1"
   },
   "source": [
    "## 0. 모듈 불러오기"
   ]
  },
  {
   "cell_type": "code",
   "execution_count": null,
   "id": "tD_i68rxZwmW",
   "metadata": {
    "colab": {
     "base_uri": "https://localhost:8080/"
    },
    "id": "tD_i68rxZwmW",
    "outputId": "82bcff11-8632-4657-ba07-8c52db030468"
   },
   "outputs": [
    {
     "name": "stdout",
     "output_type": "stream",
     "text": [
      "Mounted at /content/drive\n"
     ]
    }
   ],
   "source": [
    "from google.colab import drive\n",
    "drive.mount('/content/drive')"
   ]
  },
  {
   "cell_type": "code",
   "execution_count": 33,
   "id": "52d4c3d5",
   "metadata": {
    "id": "52d4c3d5"
   },
   "outputs": [],
   "source": [
    "import os\n",
    "import glob\n",
    "from pathlib import Path\n",
    "\n",
    "import pandas as pd\n",
    "import numpy as np\n",
    "import seaborn as sns\n",
    "import matplotlib.pyplot as plt\n",
    "import random\n",
    "import math\n",
    "\n",
    "import pickle\n",
    "import cv2\n",
    "#import mediapipe as mp\n",
    "\n",
    "from tensorflow.keras.preprocessing.image import ImageDataGenerator\n",
    "\n",
    "from tensorflow.keras import models, layers, Model\n",
    "from tensorflow.keras.models import Sequential\n",
    "from tensorflow.keras.layers import Conv2D, MaxPooling2D, Activation\n",
    "from tensorflow.keras.layers import Dense, Dropout, Flatten, BatchNormalization\n",
    "from tensorflow import keras\n",
    "\n",
    "from keras.callbacks import ModelCheckpoint\n",
    "\n",
    "from keras.layers import Dense, Dropout, Flatten, Conv2D, BatchNormalization, MaxPooling2D,\\\n",
    "                        Permute, TimeDistributed, Bidirectional,GRU, LeakyReLU, SimpleRNN,\\\n",
    "LSTM, GlobalAveragePooling2D, SeparableConv2D, ZeroPadding2D, Reshape\n",
    "from keras import models\n",
    "from keras import layers\n",
    "import tensorflow as tf"
   ]
  },
  {
   "cell_type": "markdown",
   "id": "d123d904",
   "metadata": {
    "id": "d123d904"
   },
   "source": [
    "## 1. 영상 데이터 확인"
   ]
  },
  {
   "cell_type": "code",
   "execution_count": null,
   "id": "09ee404b",
   "metadata": {
    "id": "09ee404b"
   },
   "outputs": [],
   "source": [
    "Main_Video_Path = Path('C:/Users/HOME/Desktop/AI_project/KSL/KSL_ACTION_VIDEO')\n",
    "Video_Path = list(Main_Video_Path.glob(r'*/*.MP4'))\n",
    "Video_Labels = list(map(lambda x: os.path.split(os.path.split(x)[0])[1],Video_Path))\n",
    "Video_Path_Series = pd.Series(Video_Path,name='MP4').astype(str)\n",
    "Video_Labels_Series = pd.Series(Video_Labels,name='CATEGORY')\n",
    "video_df = pd.concat([Video_Path_Series,Video_Labels_Series],axis=1)"
   ]
  },
  {
   "cell_type": "code",
   "execution_count": null,
   "id": "55cdafbb",
   "metadata": {
    "id": "55cdafbb"
   },
   "outputs": [],
   "source": [
    "video_df.sort_values(by=['CATEGORY'],ignore_index=True,inplace=True)"
   ]
  },
  {
   "cell_type": "code",
   "execution_count": null,
   "id": "a0413f07",
   "metadata": {
    "id": "a0413f07",
    "outputId": "c40e7ac7-b8ee-4962-836d-9fa88fbc76eb"
   },
   "outputs": [
    {
     "data": {
      "text/html": [
       "<div>\n",
       "<style scoped>\n",
       "    .dataframe tbody tr th:only-of-type {\n",
       "        vertical-align: middle;\n",
       "    }\n",
       "\n",
       "    .dataframe tbody tr th {\n",
       "        vertical-align: top;\n",
       "    }\n",
       "\n",
       "    .dataframe thead th {\n",
       "        text-align: right;\n",
       "    }\n",
       "</style>\n",
       "<table border=\"1\" class=\"dataframe\">\n",
       "  <thead>\n",
       "    <tr style=\"text-align: right;\">\n",
       "      <th></th>\n",
       "      <th>MP4</th>\n",
       "      <th>CATEGORY</th>\n",
       "    </tr>\n",
       "  </thead>\n",
       "  <tbody>\n",
       "    <tr>\n",
       "      <th>0</th>\n",
       "      <td>C:\\Users\\HOME\\Desktop\\AI_project\\KSL\\KSL_ACTIO...</td>\n",
       "      <td>01</td>\n",
       "    </tr>\n",
       "    <tr>\n",
       "      <th>1</th>\n",
       "      <td>C:\\Users\\HOME\\Desktop\\AI_project\\KSL\\KSL_ACTIO...</td>\n",
       "      <td>01</td>\n",
       "    </tr>\n",
       "    <tr>\n",
       "      <th>2</th>\n",
       "      <td>C:\\Users\\HOME\\Desktop\\AI_project\\KSL\\KSL_ACTIO...</td>\n",
       "      <td>01</td>\n",
       "    </tr>\n",
       "    <tr>\n",
       "      <th>3</th>\n",
       "      <td>C:\\Users\\HOME\\Desktop\\AI_project\\KSL\\KSL_ACTIO...</td>\n",
       "      <td>01</td>\n",
       "    </tr>\n",
       "    <tr>\n",
       "      <th>4</th>\n",
       "      <td>C:\\Users\\HOME\\Desktop\\AI_project\\KSL\\KSL_ACTIO...</td>\n",
       "      <td>01</td>\n",
       "    </tr>\n",
       "    <tr>\n",
       "      <th>...</th>\n",
       "      <td>...</td>\n",
       "      <td>...</td>\n",
       "    </tr>\n",
       "    <tr>\n",
       "      <th>1224</th>\n",
       "      <td>C:\\Users\\HOME\\Desktop\\AI_project\\KSL\\KSL_ACTIO...</td>\n",
       "      <td>77</td>\n",
       "    </tr>\n",
       "    <tr>\n",
       "      <th>1225</th>\n",
       "      <td>C:\\Users\\HOME\\Desktop\\AI_project\\KSL\\KSL_ACTIO...</td>\n",
       "      <td>77</td>\n",
       "    </tr>\n",
       "    <tr>\n",
       "      <th>1226</th>\n",
       "      <td>C:\\Users\\HOME\\Desktop\\AI_project\\KSL\\KSL_ACTIO...</td>\n",
       "      <td>77</td>\n",
       "    </tr>\n",
       "    <tr>\n",
       "      <th>1227</th>\n",
       "      <td>C:\\Users\\HOME\\Desktop\\AI_project\\KSL\\KSL_ACTIO...</td>\n",
       "      <td>77</td>\n",
       "    </tr>\n",
       "    <tr>\n",
       "      <th>1228</th>\n",
       "      <td>C:\\Users\\HOME\\Desktop\\AI_project\\KSL\\KSL_ACTIO...</td>\n",
       "      <td>77</td>\n",
       "    </tr>\n",
       "  </tbody>\n",
       "</table>\n",
       "<p>1229 rows × 2 columns</p>\n",
       "</div>"
      ],
      "text/plain": [
       "                                                    MP4 CATEGORY\n",
       "0     C:\\Users\\HOME\\Desktop\\AI_project\\KSL\\KSL_ACTIO...       01\n",
       "1     C:\\Users\\HOME\\Desktop\\AI_project\\KSL\\KSL_ACTIO...       01\n",
       "2     C:\\Users\\HOME\\Desktop\\AI_project\\KSL\\KSL_ACTIO...       01\n",
       "3     C:\\Users\\HOME\\Desktop\\AI_project\\KSL\\KSL_ACTIO...       01\n",
       "4     C:\\Users\\HOME\\Desktop\\AI_project\\KSL\\KSL_ACTIO...       01\n",
       "...                                                 ...      ...\n",
       "1224  C:\\Users\\HOME\\Desktop\\AI_project\\KSL\\KSL_ACTIO...       77\n",
       "1225  C:\\Users\\HOME\\Desktop\\AI_project\\KSL\\KSL_ACTIO...       77\n",
       "1226  C:\\Users\\HOME\\Desktop\\AI_project\\KSL\\KSL_ACTIO...       77\n",
       "1227  C:\\Users\\HOME\\Desktop\\AI_project\\KSL\\KSL_ACTIO...       77\n",
       "1228  C:\\Users\\HOME\\Desktop\\AI_project\\KSL\\KSL_ACTIO...       77\n",
       "\n",
       "[1229 rows x 2 columns]"
      ]
     },
     "execution_count": 117,
     "metadata": {},
     "output_type": "execute_result"
    }
   ],
   "source": [
    "video_df"
   ]
  },
  {
   "cell_type": "code",
   "execution_count": null,
   "id": "b3499fad",
   "metadata": {
    "id": "b3499fad",
    "outputId": "d71f1732-077b-47d3-9fc5-1364fd4e871a"
   },
   "outputs": [
    {
     "data": {
      "text/html": [
       "<div>\n",
       "<style scoped>\n",
       "    .dataframe tbody tr th:only-of-type {\n",
       "        vertical-align: middle;\n",
       "    }\n",
       "\n",
       "    .dataframe tbody tr th {\n",
       "        vertical-align: top;\n",
       "    }\n",
       "\n",
       "    .dataframe thead th {\n",
       "        text-align: right;\n",
       "    }\n",
       "</style>\n",
       "<table border=\"1\" class=\"dataframe\">\n",
       "  <thead>\n",
       "    <tr style=\"text-align: right;\">\n",
       "      <th></th>\n",
       "      <th>MP4</th>\n",
       "    </tr>\n",
       "    <tr>\n",
       "      <th>CATEGORY</th>\n",
       "      <th></th>\n",
       "    </tr>\n",
       "  </thead>\n",
       "  <tbody>\n",
       "    <tr>\n",
       "      <th>01</th>\n",
       "      <td>20</td>\n",
       "    </tr>\n",
       "    <tr>\n",
       "      <th>02</th>\n",
       "      <td>20</td>\n",
       "    </tr>\n",
       "    <tr>\n",
       "      <th>03</th>\n",
       "      <td>20</td>\n",
       "    </tr>\n",
       "    <tr>\n",
       "      <th>04</th>\n",
       "      <td>20</td>\n",
       "    </tr>\n",
       "    <tr>\n",
       "      <th>05</th>\n",
       "      <td>19</td>\n",
       "    </tr>\n",
       "    <tr>\n",
       "      <th>...</th>\n",
       "      <td>...</td>\n",
       "    </tr>\n",
       "    <tr>\n",
       "      <th>71</th>\n",
       "      <td>14</td>\n",
       "    </tr>\n",
       "    <tr>\n",
       "      <th>72</th>\n",
       "      <td>19</td>\n",
       "    </tr>\n",
       "    <tr>\n",
       "      <th>74</th>\n",
       "      <td>20</td>\n",
       "    </tr>\n",
       "    <tr>\n",
       "      <th>76</th>\n",
       "      <td>20</td>\n",
       "    </tr>\n",
       "    <tr>\n",
       "      <th>77</th>\n",
       "      <td>20</td>\n",
       "    </tr>\n",
       "  </tbody>\n",
       "</table>\n",
       "<p>67 rows × 1 columns</p>\n",
       "</div>"
      ],
      "text/plain": [
       "          MP4\n",
       "CATEGORY     \n",
       "01         20\n",
       "02         20\n",
       "03         20\n",
       "04         20\n",
       "05         19\n",
       "...       ...\n",
       "71         14\n",
       "72         19\n",
       "74         20\n",
       "76         20\n",
       "77         20\n",
       "\n",
       "[67 rows x 1 columns]"
      ]
     },
     "execution_count": 118,
     "metadata": {},
     "output_type": "execute_result"
    }
   ],
   "source": [
    "video_df.groupby('CATEGORY').agg('count')"
   ]
  },
  {
   "cell_type": "markdown",
   "id": "7309be93",
   "metadata": {
    "id": "7309be93"
   },
   "source": [
    "- 라벨(카테고리)는 총 67개"
   ]
  },
  {
   "cell_type": "code",
   "execution_count": null,
   "id": "1ea34168",
   "metadata": {
    "id": "1ea34168",
    "outputId": "11f97817-e2a6-4aa3-9916-a4200572bdab"
   },
   "outputs": [
    {
     "data": {
      "text/plain": [
       "<AxesSubplot:xlabel='CATEGORY', ylabel='count'>"
      ]
     },
     "execution_count": 119,
     "metadata": {},
     "output_type": "execute_result"
    },
    {
     "data": {
      "image/png": "[encoded data removed]",
      "text/plain": [
       "<Figure size 1500x1200 with 1 Axes>"
      ]
     },
     "metadata": {},
     "output_type": "display_data"
    }
   ],
   "source": [
    "plt.figure(figsize=(15,12))\n",
    "sns.countplot(data=video_df, x='CATEGORY')"
   ]
  },
  {
   "cell_type": "markdown",
   "id": "Qu3jucoJwjJ6",
   "metadata": {
    "id": "Qu3jucoJwjJ6"
   },
   "source": [
    "### 선정한 10개 단어만 분리"
   ]
  },
  {
   "cell_type": "code",
   "execution_count": null,
   "id": "dd36be9c",
   "metadata": {
    "id": "dd36be9c",
    "outputId": "a357d953-29f3-4d13-df97-24cb83c12cbe"
   },
   "outputs": [
    {
     "data": {
      "text/html": [
       "<div>\n",
       "<style scoped>\n",
       "    .dataframe tbody tr th:only-of-type {\n",
       "        vertical-align: middle;\n",
       "    }\n",
       "\n",
       "    .dataframe tbody tr th {\n",
       "        vertical-align: top;\n",
       "    }\n",
       "\n",
       "    .dataframe thead th {\n",
       "        text-align: right;\n",
       "    }\n",
       "</style>\n",
       "<table border=\"1\" class=\"dataframe\">\n",
       "  <thead>\n",
       "    <tr style=\"text-align: right;\">\n",
       "      <th></th>\n",
       "      <th>MP4</th>\n",
       "      <th>CATEGORY</th>\n",
       "    </tr>\n",
       "  </thead>\n",
       "  <tbody>\n",
       "    <tr>\n",
       "      <th>0</th>\n",
       "      <td>C:\\Users\\HOME\\Desktop\\AI_project\\KSL\\KSL_ACTIO...</td>\n",
       "      <td>01</td>\n",
       "    </tr>\n",
       "    <tr>\n",
       "      <th>1</th>\n",
       "      <td>C:\\Users\\HOME\\Desktop\\AI_project\\KSL\\KSL_ACTIO...</td>\n",
       "      <td>01</td>\n",
       "    </tr>\n",
       "    <tr>\n",
       "      <th>2</th>\n",
       "      <td>C:\\Users\\HOME\\Desktop\\AI_project\\KSL\\KSL_ACTIO...</td>\n",
       "      <td>01</td>\n",
       "    </tr>\n",
       "    <tr>\n",
       "      <th>3</th>\n",
       "      <td>C:\\Users\\HOME\\Desktop\\AI_project\\KSL\\KSL_ACTIO...</td>\n",
       "      <td>01</td>\n",
       "    </tr>\n",
       "    <tr>\n",
       "      <th>4</th>\n",
       "      <td>C:\\Users\\HOME\\Desktop\\AI_project\\KSL\\KSL_ACTIO...</td>\n",
       "      <td>01</td>\n",
       "    </tr>\n",
       "    <tr>\n",
       "      <th>...</th>\n",
       "      <td>...</td>\n",
       "      <td>...</td>\n",
       "    </tr>\n",
       "    <tr>\n",
       "      <th>1224</th>\n",
       "      <td>C:\\Users\\HOME\\Desktop\\AI_project\\KSL\\KSL_ACTIO...</td>\n",
       "      <td>77</td>\n",
       "    </tr>\n",
       "    <tr>\n",
       "      <th>1225</th>\n",
       "      <td>C:\\Users\\HOME\\Desktop\\AI_project\\KSL\\KSL_ACTIO...</td>\n",
       "      <td>77</td>\n",
       "    </tr>\n",
       "    <tr>\n",
       "      <th>1226</th>\n",
       "      <td>C:\\Users\\HOME\\Desktop\\AI_project\\KSL\\KSL_ACTIO...</td>\n",
       "      <td>77</td>\n",
       "    </tr>\n",
       "    <tr>\n",
       "      <th>1227</th>\n",
       "      <td>C:\\Users\\HOME\\Desktop\\AI_project\\KSL\\KSL_ACTIO...</td>\n",
       "      <td>77</td>\n",
       "    </tr>\n",
       "    <tr>\n",
       "      <th>1228</th>\n",
       "      <td>C:\\Users\\HOME\\Desktop\\AI_project\\KSL\\KSL_ACTIO...</td>\n",
       "      <td>77</td>\n",
       "    </tr>\n",
       "  </tbody>\n",
       "</table>\n",
       "<p>180 rows × 2 columns</p>\n",
       "</div>"
      ],
      "text/plain": [
       "                                                    MP4 CATEGORY\n",
       "0     C:\\Users\\HOME\\Desktop\\AI_project\\KSL\\KSL_ACTIO...       01\n",
       "1     C:\\Users\\HOME\\Desktop\\AI_project\\KSL\\KSL_ACTIO...       01\n",
       "2     C:\\Users\\HOME\\Desktop\\AI_project\\KSL\\KSL_ACTIO...       01\n",
       "3     C:\\Users\\HOME\\Desktop\\AI_project\\KSL\\KSL_ACTIO...       01\n",
       "4     C:\\Users\\HOME\\Desktop\\AI_project\\KSL\\KSL_ACTIO...       01\n",
       "...                                                 ...      ...\n",
       "1224  C:\\Users\\HOME\\Desktop\\AI_project\\KSL\\KSL_ACTIO...       77\n",
       "1225  C:\\Users\\HOME\\Desktop\\AI_project\\KSL\\KSL_ACTIO...       77\n",
       "1226  C:\\Users\\HOME\\Desktop\\AI_project\\KSL\\KSL_ACTIO...       77\n",
       "1227  C:\\Users\\HOME\\Desktop\\AI_project\\KSL\\KSL_ACTIO...       77\n",
       "1228  C:\\Users\\HOME\\Desktop\\AI_project\\KSL\\KSL_ACTIO...       77\n",
       "\n",
       "[180 rows x 2 columns]"
      ]
     },
     "execution_count": 120,
     "metadata": {},
     "output_type": "execute_result"
    }
   ],
   "source": [
    "video_df_slct=video_df[(video_df['CATEGORY']=='15')|(video_df['CATEGORY']=='13')|(video_df['CATEGORY']=='60')|\n",
    "                       (video_df['CATEGORY']=='01')|(video_df['CATEGORY']=='07')|(video_df['CATEGORY']=='55')|\n",
    "                       (video_df['CATEGORY']=='77')|(video_df['CATEGORY']=='11')|(video_df['CATEGORY']=='16')|\n",
    "                       (video_df['CATEGORY']=='17')]\n",
    "video_df_slct"
   ]
  },
  {
   "cell_type": "code",
   "execution_count": null,
   "id": "ovtk5A5IwRYf",
   "metadata": {
    "colab": {
     "base_uri": "https://localhost:8080/",
     "height": 394
    },
    "id": "ovtk5A5IwRYf",
    "outputId": "1368968a-f665-4478-f5e1-fb040967e1dd"
   },
   "outputs": [
    {
     "data": {
      "text/html": [
       "\n",
       "  <div id=\"df-444a4194-90c3-4ca3-9536-f800ff2781de\">\n",
       "    <div class=\"colab-df-container\">\n",
       "      <div>\n",
       "<style scoped>\n",
       "    .dataframe tbody tr th:only-of-type {\n",
       "        vertical-align: middle;\n",
       "    }\n",
       "\n",
       "    .dataframe tbody tr th {\n",
       "        vertical-align: top;\n",
       "    }\n",
       "\n",
       "    .dataframe thead th {\n",
       "        text-align: right;\n",
       "    }\n",
       "</style>\n",
       "<table border=\"1\" class=\"dataframe\">\n",
       "  <thead>\n",
       "    <tr style=\"text-align: right;\">\n",
       "      <th></th>\n",
       "      <th>MP4</th>\n",
       "    </tr>\n",
       "    <tr>\n",
       "      <th>CATEGORY</th>\n",
       "      <th></th>\n",
       "    </tr>\n",
       "  </thead>\n",
       "  <tbody>\n",
       "    <tr>\n",
       "      <th>01</th>\n",
       "      <td>20</td>\n",
       "    </tr>\n",
       "    <tr>\n",
       "      <th>07</th>\n",
       "      <td>19</td>\n",
       "    </tr>\n",
       "    <tr>\n",
       "      <th>11</th>\n",
       "      <td>15</td>\n",
       "    </tr>\n",
       "    <tr>\n",
       "      <th>13</th>\n",
       "      <td>20</td>\n",
       "    </tr>\n",
       "    <tr>\n",
       "      <th>15</th>\n",
       "      <td>16</td>\n",
       "    </tr>\n",
       "    <tr>\n",
       "      <th>16</th>\n",
       "      <td>17</td>\n",
       "    </tr>\n",
       "    <tr>\n",
       "      <th>17</th>\n",
       "      <td>19</td>\n",
       "    </tr>\n",
       "    <tr>\n",
       "      <th>55</th>\n",
       "      <td>19</td>\n",
       "    </tr>\n",
       "    <tr>\n",
       "      <th>60</th>\n",
       "      <td>15</td>\n",
       "    </tr>\n",
       "    <tr>\n",
       "      <th>77</th>\n",
       "      <td>20</td>\n",
       "    </tr>\n",
       "  </tbody>\n",
       "</table>\n",
       "</div>\n",
       "      <button class=\"colab-df-convert\" onclick=\"convertToInteractive('df-444a4194-90c3-4ca3-9536-f800ff2781de')\"\n",
       "              title=\"Convert this dataframe to an interactive table.\"\n",
       "              style=\"display:none;\">\n",
       "        \n",
       "  <svg xmlns=\"http://www.w3.org/2000/svg\" height=\"24px\"viewBox=\"0 0 24 24\"\n",
       "       width=\"24px\">\n",
       "    <path d=\"M0 0h24v24H0V0z\" fill=\"none\"/>\n",
       "    <path d=\"M18.56 5.44l.94 2.06.94-2.06 2.06-.94-2.06-.94-.94-2.06-.94 2.06-2.06.94zm-11 1L8.5 8.5l.94-2.06 2.06-.94-2.06-.94L8.5 2.5l-.94 2.06-2.06.94zm10 10l.94 2.06.94-2.06 2.06-.94-2.06-.94-.94-2.06-.94 2.06-2.06.94z\"/><path d=\"M17.41 7.96l-1.37-1.37c-.4-.4-.92-.59-1.43-.59-.52 0-1.04.2-1.43.59L10.3 9.45l-7.72 7.72c-.78.78-.78 2.05 0 2.83L4 21.41c.39.39.9.59 1.41.59.51 0 1.02-.2 1.41-.59l7.78-7.78 2.81-2.81c.8-.78.8-2.07 0-2.86zM5.41 20L4 18.59l7.72-7.72 1.47 1.35L5.41 20z\"/>\n",
       "  </svg>\n",
       "      </button>\n",
       "      \n",
       "  <style>\n",
       "    .colab-df-container {\n",
       "      display:flex;\n",
       "      flex-wrap:wrap;\n",
       "      gap: 12px;\n",
       "    }\n",
       "\n",
       "    .colab-df-convert {\n",
       "      background-color: #E8F0FE;\n",
       "      border: none;\n",
       "      border-radius: 50%;\n",
       "      cursor: pointer;\n",
       "      display: none;\n",
       "      fill: #1967D2;\n",
       "      height: 32px;\n",
       "      padding: 0 0 0 0;\n",
       "      width: 32px;\n",
       "    }\n",
       "\n",
       "    .colab-df-convert:hover {\n",
       "      background-color: #E2EBFA;\n",
       "      box-shadow: 0px 1px 2px rgba(60, 64, 67, 0.3), 0px 1px 3px 1px rgba(60, 64, 67, 0.15);\n",
       "      fill: #174EA6;\n",
       "    }\n",
       "\n",
       "    [theme=dark] .colab-df-convert {\n",
       "      background-color: #3B4455;\n",
       "      fill: #D2E3FC;\n",
       "    }\n",
       "\n",
       "    [theme=dark] .colab-df-convert:hover {\n",
       "      background-color: #434B5C;\n",
       "      box-shadow: 0px 1px 3px 1px rgba(0, 0, 0, 0.15);\n",
       "      filter: drop-shadow(0px 1px 2px rgba(0, 0, 0, 0.3));\n",
       "      fill: #FFFFFF;\n",
       "    }\n",
       "  </style>\n",
       "\n",
       "      <script>\n",
       "        const buttonEl =\n",
       "          document.querySelector('#df-444a4194-90c3-4ca3-9536-f800ff2781de button.colab-df-convert');\n",
       "        buttonEl.style.display =\n",
       "          google.colab.kernel.accessAllowed ? 'block' : 'none';\n",
       "\n",
       "        async function convertToInteractive(key) {\n",
       "          const element = document.querySelector('#df-444a4194-90c3-4ca3-9536-f800ff2781de');\n",
       "          const dataTable =\n",
       "            await google.colab.kernel.invokeFunction('convertToInteractive',\n",
       "                                                     [key], {});\n",
       "          if (!dataTable) return;\n",
       "\n",
       "          const docLinkHtml = 'Like what you see? Visit the ' +\n",
       "            '<a target=\"_blank\" href=https://colab.research.google.com/notebooks/data_table.ipynb>data table notebook</a>'\n",
       "            + ' to learn more about interactive tables.';\n",
       "          element.innerHTML = '';\n",
       "          dataTable['output_type'] = 'display_data';\n",
       "          await google.colab.output.renderOutput(dataTable, element);\n",
       "          const docLink = document.createElement('div');\n",
       "          docLink.innerHTML = docLinkHtml;\n",
       "          element.appendChild(docLink);\n",
       "        }\n",
       "      </script>\n",
       "    </div>\n",
       "  </div>\n",
       "  "
      ],
      "text/plain": [
       "          MP4\n",
       "CATEGORY     \n",
       "01         20\n",
       "07         19\n",
       "11         15\n",
       "13         20\n",
       "15         16\n",
       "16         17\n",
       "17         19\n",
       "55         19\n",
       "60         15\n",
       "77         20"
      ]
     },
     "execution_count": 10,
     "metadata": {},
     "output_type": "execute_result"
    }
   ],
   "source": [
    "video_df_slct.groupby('CATEGORY').agg('count')"
   ]
  },
  {
   "cell_type": "code",
   "execution_count": null,
   "id": "nsXza85MwUai",
   "metadata": {
    "colab": {
     "base_uri": "https://localhost:8080/",
     "height": 298
    },
    "id": "nsXza85MwUai",
    "outputId": "99fa26c2-043f-4b94-b89f-0f768c7fa05e"
   },
   "outputs": [
    {
     "data": {
      "text/plain": [
       "<matplotlib.axes._subplots.AxesSubplot at 0x7f533bc123d0>"
      ]
     },
     "execution_count": 11,
     "metadata": {},
     "output_type": "execute_result"
    },
    {
     "data": {
      "image/png": "[encoded data removed]",
      "text/plain": [
       "<Figure size 432x288 with 1 Axes>"
      ]
     },
     "metadata": {
      "needs_background": "light"
     },
     "output_type": "display_data"
    }
   ],
   "source": [
    "sns.countplot(data=video_df_slct, x='CATEGORY')"
   ]
  },
  {
   "cell_type": "markdown",
   "id": "ab622f29",
   "metadata": {
    "id": "ab622f29"
   },
   "source": [
    "- 라벨별로 14~20개의 영상이 존재함"
   ]
  },
  {
   "cell_type": "code",
   "execution_count": null,
   "id": "19492139",
   "metadata": {
    "id": "19492139"
   },
   "outputs": [],
   "source": []
  },
  {
   "cell_type": "markdown",
   "id": "NrjLFPJ-wxMh",
   "metadata": {
    "id": "NrjLFPJ-wxMh"
   },
   "source": [
    "## 2. 이미지(프레임) 데이터 확인 및 전처리"
   ]
  },
  {
   "cell_type": "markdown",
   "id": "kLR-UFZ9xAMg",
   "metadata": {
    "id": "kLR-UFZ9xAMg"
   },
   "source": [
    "### 파일에 대한 정보를 데이터프레임으로 만들기"
   ]
  },
  {
   "cell_type": "code",
   "execution_count": null,
   "id": "b6d5ebab",
   "metadata": {
    "id": "b6d5ebab"
   },
   "outputs": [],
   "source": [
    "directory='/content/drive/MyDrive/data/KSL_rgb (1)'"
   ]
  },
  {
   "cell_type": "code",
   "execution_count": null,
   "id": "e59934d6",
   "metadata": {
    "id": "e59934d6"
   },
   "outputs": [],
   "source": [
    "Class_name = os.listdir(directory)"
   ]
  },
  {
   "cell_type": "code",
   "execution_count": null,
   "id": "f1c93fa5",
   "metadata": {
    "id": "f1c93fa5"
   },
   "outputs": [],
   "source": [
    "data = []\n",
    "for i in Class_name:\n",
    "    path = os.path.join(directory, i)\n",
    "    file_list = os.listdir(path)\n",
    "    \n",
    "    for j in file_list:\n",
    "        name = j\n",
    "        label1 = i\n",
    "        label2 = i[3:5]\n",
    "        num = j[6:10]\n",
    "    \n",
    "        eda = [name, label1, label2, num]\n",
    "        data.append(eda)"
   ]
  },
  {
   "cell_type": "code",
   "execution_count": null,
   "id": "fbiGVRiRxYBe",
   "metadata": {
    "id": "fbiGVRiRxYBe"
   },
   "outputs": [],
   "source": [
    "DF=pd.DataFrame(data, columns=['name','fold','class','num'])\n",
    "DF['path']=directory+'/'+DF['fold']+'/'+DF['name']"
   ]
  },
  {
   "cell_type": "code",
   "execution_count": null,
   "id": "e1Va9WR0xoTR",
   "metadata": {
    "id": "e1Va9WR0xoTR"
   },
   "outputs": [],
   "source": [
    "##선정한 10개 데이터만 선택\n",
    "DF_select=DF[(DF['class']=='15')|(DF['class']=='13')|(DF['class']=='60')|(DF['class']=='01')|(DF['class']=='07')|\n",
    "             (DF['class']=='55')|(DF['class']=='77')|(DF['class']=='11')|(DF['class']=='16')|(DF['class']=='17')]\n",
    "DF_select['class']=DF_select['class'].astype(int)\n",
    "DF_select['num']=DF_select['num'].astype(int)"
   ]
  },
  {
   "cell_type": "code",
   "execution_count": null,
   "id": "uKbkn3-bxoTR",
   "metadata": {
    "id": "uKbkn3-bxoTR"
   },
   "outputs": [],
   "source": [
    "with open('C:/Users/HOME/Desktop/AI_project/KSL/class_label.p','rb') as f:\n",
    "    Labels=pickle.load(f)"
   ]
  },
  {
   "cell_type": "code",
   "execution_count": null,
   "id": "oJQlyZHqxoTS",
   "metadata": {
    "id": "oJQlyZHqxoTS",
    "scrolled": true
   },
   "outputs": [],
   "source": [
    "DF_label=pd.DataFrame({'class' : Labels.keys(),'label' : Labels.values()})"
   ]
  },
  {
   "cell_type": "code",
   "execution_count": null,
   "id": "0Wt1RLm8xoTS",
   "metadata": {
    "id": "0Wt1RLm8xoTS",
    "outputId": "40e59ac1-cf67-4f3a-a41c-eeb0edefaa73"
   },
   "outputs": [
    {
     "data": {
      "text/html": [
       "<div>\n",
       "<style scoped>\n",
       "    .dataframe tbody tr th:only-of-type {\n",
       "        vertical-align: middle;\n",
       "    }\n",
       "\n",
       "    .dataframe tbody tr th {\n",
       "        vertical-align: top;\n",
       "    }\n",
       "\n",
       "    .dataframe thead th {\n",
       "        text-align: right;\n",
       "    }\n",
       "</style>\n",
       "<table border=\"1\" class=\"dataframe\">\n",
       "  <thead>\n",
       "    <tr style=\"text-align: right;\">\n",
       "      <th></th>\n",
       "      <th>name</th>\n",
       "      <th>fold</th>\n",
       "      <th>class</th>\n",
       "      <th>num</th>\n",
       "      <th>path</th>\n",
       "      <th>label</th>\n",
       "    </tr>\n",
       "  </thead>\n",
       "  <tbody>\n",
       "    <tr>\n",
       "      <th>0</th>\n",
       "      <td>00_01.0001.jpg</td>\n",
       "      <td>00_01</td>\n",
       "      <td>1</td>\n",
       "      <td>1</td>\n",
       "      <td>C:/Users/HOME/Desktop/AI_project/KSL/KSL_rgb/0...</td>\n",
       "      <td>hi</td>\n",
       "    </tr>\n",
       "    <tr>\n",
       "      <th>1</th>\n",
       "      <td>00_01.0002.jpg</td>\n",
       "      <td>00_01</td>\n",
       "      <td>1</td>\n",
       "      <td>2</td>\n",
       "      <td>C:/Users/HOME/Desktop/AI_project/KSL/KSL_rgb/0...</td>\n",
       "      <td>hi</td>\n",
       "    </tr>\n",
       "    <tr>\n",
       "      <th>2</th>\n",
       "      <td>00_01.0003.jpg</td>\n",
       "      <td>00_01</td>\n",
       "      <td>1</td>\n",
       "      <td>3</td>\n",
       "      <td>C:/Users/HOME/Desktop/AI_project/KSL/KSL_rgb/0...</td>\n",
       "      <td>hi</td>\n",
       "    </tr>\n",
       "    <tr>\n",
       "      <th>3</th>\n",
       "      <td>00_01.0004.jpg</td>\n",
       "      <td>00_01</td>\n",
       "      <td>1</td>\n",
       "      <td>4</td>\n",
       "      <td>C:/Users/HOME/Desktop/AI_project/KSL/KSL_rgb/0...</td>\n",
       "      <td>hi</td>\n",
       "    </tr>\n",
       "    <tr>\n",
       "      <th>4</th>\n",
       "      <td>00_01.0005.jpg</td>\n",
       "      <td>00_01</td>\n",
       "      <td>1</td>\n",
       "      <td>5</td>\n",
       "      <td>C:/Users/HOME/Desktop/AI_project/KSL/KSL_rgb/0...</td>\n",
       "      <td>hi</td>\n",
       "    </tr>\n",
       "    <tr>\n",
       "      <th>...</th>\n",
       "      <td>...</td>\n",
       "      <td>...</td>\n",
       "      <td>...</td>\n",
       "      <td>...</td>\n",
       "      <td>...</td>\n",
       "      <td>...</td>\n",
       "    </tr>\n",
       "    <tr>\n",
       "      <th>16214</th>\n",
       "      <td>19_77.0123.jpg</td>\n",
       "      <td>19_77</td>\n",
       "      <td>77</td>\n",
       "      <td>123</td>\n",
       "      <td>C:/Users/HOME/Desktop/AI_project/KSL/KSL_rgb/1...</td>\n",
       "      <td>care</td>\n",
       "    </tr>\n",
       "    <tr>\n",
       "      <th>16215</th>\n",
       "      <td>19_77.0124.jpg</td>\n",
       "      <td>19_77</td>\n",
       "      <td>77</td>\n",
       "      <td>124</td>\n",
       "      <td>C:/Users/HOME/Desktop/AI_project/KSL/KSL_rgb/1...</td>\n",
       "      <td>care</td>\n",
       "    </tr>\n",
       "    <tr>\n",
       "      <th>16216</th>\n",
       "      <td>19_77.0125.jpg</td>\n",
       "      <td>19_77</td>\n",
       "      <td>77</td>\n",
       "      <td>125</td>\n",
       "      <td>C:/Users/HOME/Desktop/AI_project/KSL/KSL_rgb/1...</td>\n",
       "      <td>care</td>\n",
       "    </tr>\n",
       "    <tr>\n",
       "      <th>16217</th>\n",
       "      <td>19_77.0126.jpg</td>\n",
       "      <td>19_77</td>\n",
       "      <td>77</td>\n",
       "      <td>126</td>\n",
       "      <td>C:/Users/HOME/Desktop/AI_project/KSL/KSL_rgb/1...</td>\n",
       "      <td>care</td>\n",
       "    </tr>\n",
       "    <tr>\n",
       "      <th>16218</th>\n",
       "      <td>19_77.0127.jpg</td>\n",
       "      <td>19_77</td>\n",
       "      <td>77</td>\n",
       "      <td>127</td>\n",
       "      <td>C:/Users/HOME/Desktop/AI_project/KSL/KSL_rgb/1...</td>\n",
       "      <td>care</td>\n",
       "    </tr>\n",
       "  </tbody>\n",
       "</table>\n",
       "<p>16219 rows × 6 columns</p>\n",
       "</div>"
      ],
      "text/plain": [
       "                 name   fold  class  num  \\\n",
       "0      00_01.0001.jpg  00_01      1    1   \n",
       "1      00_01.0002.jpg  00_01      1    2   \n",
       "2      00_01.0003.jpg  00_01      1    3   \n",
       "3      00_01.0004.jpg  00_01      1    4   \n",
       "4      00_01.0005.jpg  00_01      1    5   \n",
       "...               ...    ...    ...  ...   \n",
       "16214  19_77.0123.jpg  19_77     77  123   \n",
       "16215  19_77.0124.jpg  19_77     77  124   \n",
       "16216  19_77.0125.jpg  19_77     77  125   \n",
       "16217  19_77.0126.jpg  19_77     77  126   \n",
       "16218  19_77.0127.jpg  19_77     77  127   \n",
       "\n",
       "                                                    path label  \n",
       "0      C:/Users/HOME/Desktop/AI_project/KSL/KSL_rgb/0...    hi  \n",
       "1      C:/Users/HOME/Desktop/AI_project/KSL/KSL_rgb/0...    hi  \n",
       "2      C:/Users/HOME/Desktop/AI_project/KSL/KSL_rgb/0...    hi  \n",
       "3      C:/Users/HOME/Desktop/AI_project/KSL/KSL_rgb/0...    hi  \n",
       "4      C:/Users/HOME/Desktop/AI_project/KSL/KSL_rgb/0...    hi  \n",
       "...                                                  ...   ...  \n",
       "16214  C:/Users/HOME/Desktop/AI_project/KSL/KSL_rgb/1...  care  \n",
       "16215  C:/Users/HOME/Desktop/AI_project/KSL/KSL_rgb/1...  care  \n",
       "16216  C:/Users/HOME/Desktop/AI_project/KSL/KSL_rgb/1...  care  \n",
       "16217  C:/Users/HOME/Desktop/AI_project/KSL/KSL_rgb/1...  care  \n",
       "16218  C:/Users/HOME/Desktop/AI_project/KSL/KSL_rgb/1...  care  \n",
       "\n",
       "[16219 rows x 6 columns]"
      ]
     },
     "execution_count": 39,
     "metadata": {},
     "output_type": "execute_result"
    }
   ],
   "source": [
    "#파일에 대한 최종 데이터프레임\n",
    "DF_select = pd.merge(DF_select, DF_label, on='class')\n",
    "DF_select"
   ]
  },
  {
   "cell_type": "markdown",
   "id": "9SScxQUgyHFU",
   "metadata": {
    "id": "9SScxQUgyHFU"
   },
   "source": [
    "- name : 파일명\n",
    "- fold : 폴더명\n",
    "- class : 클래스명(숫자)\n",
    "- num : 몇번째 프레임인지\n",
    "- path : 경로\n",
    "- label : 클래스명(뜻)"
   ]
  },
  {
   "cell_type": "markdown",
   "id": "I0_FxxZKzTvn",
   "metadata": {
    "id": "I0_FxxZKzTvn"
   },
   "source": [
    "### 미디어파이프\n",
    "- 손 모양이 중요하므로 손에 대한 정보를 추출하기 위해 진행\n",
    "- 미디어파이프 적용된 이미지는 따로 폴더에 저장"
   ]
  },
  {
   "cell_type": "code",
   "execution_count": null,
   "id": "kxUMbHCszsqx",
   "metadata": {
    "id": "kxUMbHCszsqx"
   },
   "outputs": [],
   "source": [
    "mp_drawing = mp.solutions.drawing_utils\n",
    "mp_drawing_styles = mp.solutions.drawing_styles\n",
    "mp_hands = mp.solutions.hands"
   ]
  },
  {
   "cell_type": "code",
   "execution_count": null,
   "id": "4v2dEt-ezqcR",
   "metadata": {
    "id": "4v2dEt-ezqcR",
    "outputId": "91dea747-d19a-43c4-94b6-d07bc260f9b4"
   },
   "outputs": [],
   "source": [
    "lmList = []\n",
    "\n",
    "with mp_hands.Hands(\n",
    "    static_image_mode=True, #움직임 없는 이미지 인식\n",
    "    max_num_hands=2, #최대 인식 손 개수\n",
    "    min_detection_confidence=0.5) as hands:\n",
    "    for file in select_df['path']:\n",
    "        image = cv2.flip(cv2.imread(file), 1)\n",
    "        results = hands.process(cv2.cvtColor(image, cv2.COLOR_BGR2RGB))\n",
    "\n",
    "        print('Handedness:', results.multi_handedness)\n",
    "        if not results.multi_hand_landmarks:\n",
    "            continue\n",
    "        image_height, image_width, _ = image.shape\n",
    "        annoted_image = image.copy()\n",
    "        for hand_landmarks in results.multi_hand_landmarks:\n",
    "            print('hand_landmarks:', hand_landmarks)\n",
    "            lmList.append([\n",
    "                file[-14:-4]+'.jpg',\n",
    "                hand_landmarks.landmark[mp_hands.HandLandmark.THUMB_TIP].x * image_width, \n",
    "                hand_landmarks.landmark[mp_hands.HandLandmark.THUMB_TIP].y * image_height,\n",
    "                hand_landmarks.landmark[mp_hands.HandLandmark.INDEX_FINGER_TIP].x * image_width, \n",
    "                hand_landmarks.landmark[mp_hands.HandLandmark.INDEX_FINGER_TIP].y * image_height,\n",
    "                hand_landmarks.landmark[mp_hands.HandLandmark.MIDDLE_FINGER_TIP].x * image_width, \n",
    "                hand_landmarks.landmark[mp_hands.HandLandmark.MIDDLE_FINGER_TIP].y * image_height,\n",
    "                hand_landmarks.landmark[mp_hands.HandLandmark.RING_FINGER_TIP].x * image_width, \n",
    "                hand_landmarks.landmark[mp_hands.HandLandmark.RING_FINGER_TIP].y * image_height,\n",
    "                hand_landmarks.landmark[mp_hands.HandLandmark.PINKY_TIP].x * image_width, \n",
    "                hand_landmarks.landmark[mp_hands.HandLandmark.PINKY_TIP].y * image_height,\n",
    "            ])\n",
    "            \n",
    "\n",
    "            mp_drawing.draw_landmarks(\n",
    "              annoted_image,\n",
    "              hand_landmarks,\n",
    "              mp_hands.HAND_CONNECTIONS,\n",
    "              mp_drawing_styles.DrawingSpec(color=(80,110,10), thickness=1, circle_radius=1),\n",
    "              mp_drawing_styles.DrawingSpec(color=(80,256,121), thickness=1, circle_radius=1))\n",
    "            cv2.imwrite(\n",
    "            'C:/Users/HOME/Desktop/AI_project/KSL/KSL_mp_3600/' + file[-14:-4] + '.jpg', cv2.flip(annoted_image, 1))"
   ]
  },
  {
   "cell_type": "code",
   "execution_count": null,
   "id": "PFsSDECj0ZAq",
   "metadata": {
    "id": "PFsSDECj0ZAq",
    "outputId": "578a40b4-3883-4c4e-e025-c5f0cca73b1d"
   },
   "outputs": [
    {
     "data": {
      "text/html": [
       "<div>\n",
       "<style scoped>\n",
       "    .dataframe tbody tr th:only-of-type {\n",
       "        vertical-align: middle;\n",
       "    }\n",
       "\n",
       "    .dataframe tbody tr th {\n",
       "        vertical-align: top;\n",
       "    }\n",
       "\n",
       "    .dataframe thead th {\n",
       "        text-align: right;\n",
       "    }\n",
       "</style>\n",
       "<table border=\"1\" class=\"dataframe\">\n",
       "  <thead>\n",
       "    <tr style=\"text-align: right;\">\n",
       "      <th></th>\n",
       "      <th>name</th>\n",
       "      <th>thumb_x</th>\n",
       "      <th>thumb_y</th>\n",
       "      <th>index_x</th>\n",
       "      <th>index_y</th>\n",
       "      <th>middle_x</th>\n",
       "      <th>middle_y</th>\n",
       "      <th>ring_x</th>\n",
       "      <th>ring_y</th>\n",
       "      <th>pinky_x</th>\n",
       "      <th>pinky_y</th>\n",
       "    </tr>\n",
       "  </thead>\n",
       "  <tbody>\n",
       "    <tr>\n",
       "      <th>0</th>\n",
       "      <td>00_01.0046.jpg</td>\n",
       "      <td>146.054169</td>\n",
       "      <td>83.985329</td>\n",
       "      <td>148.195770</td>\n",
       "      <td>90.121422</td>\n",
       "      <td>150.510498</td>\n",
       "      <td>92.527527</td>\n",
       "      <td>152.951202</td>\n",
       "      <td>93.261421</td>\n",
       "      <td>156.658066</td>\n",
       "      <td>91.576355</td>\n",
       "    </tr>\n",
       "    <tr>\n",
       "      <th>1</th>\n",
       "      <td>00_01.0047.jpg</td>\n",
       "      <td>146.592285</td>\n",
       "      <td>86.029869</td>\n",
       "      <td>148.484238</td>\n",
       "      <td>83.289421</td>\n",
       "      <td>151.111496</td>\n",
       "      <td>88.970001</td>\n",
       "      <td>154.152359</td>\n",
       "      <td>90.922333</td>\n",
       "      <td>157.715210</td>\n",
       "      <td>91.416679</td>\n",
       "    </tr>\n",
       "    <tr>\n",
       "      <th>2</th>\n",
       "      <td>00_01.0048.jpg</td>\n",
       "      <td>149.894150</td>\n",
       "      <td>93.380455</td>\n",
       "      <td>147.515060</td>\n",
       "      <td>92.055321</td>\n",
       "      <td>150.546951</td>\n",
       "      <td>92.396873</td>\n",
       "      <td>153.623566</td>\n",
       "      <td>93.212265</td>\n",
       "      <td>156.802139</td>\n",
       "      <td>93.088387</td>\n",
       "    </tr>\n",
       "    <tr>\n",
       "      <th>3</th>\n",
       "      <td>00_01.0049.jpg</td>\n",
       "      <td>149.160004</td>\n",
       "      <td>94.140656</td>\n",
       "      <td>148.358292</td>\n",
       "      <td>90.409233</td>\n",
       "      <td>150.847076</td>\n",
       "      <td>95.667648</td>\n",
       "      <td>153.752213</td>\n",
       "      <td>96.122932</td>\n",
       "      <td>157.373825</td>\n",
       "      <td>95.369423</td>\n",
       "    </tr>\n",
       "    <tr>\n",
       "      <th>4</th>\n",
       "      <td>00_07.0035.jpg</td>\n",
       "      <td>128.973709</td>\n",
       "      <td>122.620193</td>\n",
       "      <td>114.785782</td>\n",
       "      <td>122.874641</td>\n",
       "      <td>113.314781</td>\n",
       "      <td>127.133591</td>\n",
       "      <td>112.632797</td>\n",
       "      <td>133.263458</td>\n",
       "      <td>114.268280</td>\n",
       "      <td>142.579300</td>\n",
       "    </tr>\n",
       "  </tbody>\n",
       "</table>\n",
       "</div>"
      ],
      "text/plain": [
       "             name     thumb_x     thumb_y     index_x     index_y    middle_x  \\\n",
       "0  00_01.0046.jpg  146.054169   83.985329  148.195770   90.121422  150.510498   \n",
       "1  00_01.0047.jpg  146.592285   86.029869  148.484238   83.289421  151.111496   \n",
       "2  00_01.0048.jpg  149.894150   93.380455  147.515060   92.055321  150.546951   \n",
       "3  00_01.0049.jpg  149.160004   94.140656  148.358292   90.409233  150.847076   \n",
       "4  00_07.0035.jpg  128.973709  122.620193  114.785782  122.874641  113.314781   \n",
       "\n",
       "     middle_y      ring_x      ring_y     pinky_x     pinky_y  \n",
       "0   92.527527  152.951202   93.261421  156.658066   91.576355  \n",
       "1   88.970001  154.152359   90.922333  157.715210   91.416679  \n",
       "2   92.396873  153.623566   93.212265  156.802139   93.088387  \n",
       "3   95.667648  153.752213   96.122932  157.373825   95.369423  \n",
       "4  127.133591  112.632797  133.263458  114.268280  142.579300  "
      ]
     },
     "execution_count": 72,
     "metadata": {},
     "output_type": "execute_result"
    }
   ],
   "source": [
    "#파일명,엄지손가락x좌표,엄지손가락y좌표......새끼손가락x좌표,새끼손가락y좌표\n",
    "pd.DataFrame(lmList, columns=['name','thumb_x','thumb_y','index_x','index_y','middle_x','middle_y','ring_x','ring_y','pinky_x','pinky_y']).head()"
   ]
  },
  {
   "cell_type": "markdown",
   "id": "8rePAfzjylTz",
   "metadata": {
    "id": "8rePAfzjylTz"
   },
   "source": [
    "### 중요 동작 20개씩 뽑아내기\n",
    "\n",
    "(사진 보여주면서) 프레임들 속에는 아무 동작을 하지 않는 사진들도 있어서 중요 동작들만 뽑아냄"
   ]
  },
  {
   "cell_type": "code",
   "execution_count": 35,
   "id": "94304a5b",
   "metadata": {
    "colab": {
     "base_uri": "https://localhost:8080/",
     "height": 424
    },
    "id": "94304a5b",
    "outputId": "cc161d03-8083-4645-b880-04029333c691"
   },
   "outputs": [
    {
     "data": {
      "text/html": [
       "\n",
       "  <div id=\"df-1f8c28f5-e3f7-4782-8f56-c38df14b3634\">\n",
       "    <div class=\"colab-df-container\">\n",
       "      <div>\n",
       "<style scoped>\n",
       "    .dataframe tbody tr th:only-of-type {\n",
       "        vertical-align: middle;\n",
       "    }\n",
       "\n",
       "    .dataframe tbody tr th {\n",
       "        vertical-align: top;\n",
       "    }\n",
       "\n",
       "    .dataframe thead th {\n",
       "        text-align: right;\n",
       "    }\n",
       "</style>\n",
       "<table border=\"1\" class=\"dataframe\">\n",
       "  <thead>\n",
       "    <tr style=\"text-align: right;\">\n",
       "      <th></th>\n",
       "      <th>name</th>\n",
       "      <th>fold</th>\n",
       "      <th>class</th>\n",
       "      <th>num</th>\n",
       "      <th>path</th>\n",
       "      <th>label</th>\n",
       "    </tr>\n",
       "  </thead>\n",
       "  <tbody>\n",
       "    <tr>\n",
       "      <th>0</th>\n",
       "      <td>00_01.0045.jpg</td>\n",
       "      <td>00_01</td>\n",
       "      <td>1</td>\n",
       "      <td>45</td>\n",
       "      <td>C:/Users/HOME/Desktop/AI_project/KSL/KSL_rgb/0...</td>\n",
       "      <td>hi</td>\n",
       "    </tr>\n",
       "    <tr>\n",
       "      <th>1</th>\n",
       "      <td>00_01.0046.jpg</td>\n",
       "      <td>00_01</td>\n",
       "      <td>1</td>\n",
       "      <td>46</td>\n",
       "      <td>C:/Users/HOME/Desktop/AI_project/KSL/KSL_rgb/0...</td>\n",
       "      <td>hi</td>\n",
       "    </tr>\n",
       "    <tr>\n",
       "      <th>2</th>\n",
       "      <td>00_01.0047.jpg</td>\n",
       "      <td>00_01</td>\n",
       "      <td>1</td>\n",
       "      <td>47</td>\n",
       "      <td>C:/Users/HOME/Desktop/AI_project/KSL/KSL_rgb/0...</td>\n",
       "      <td>hi</td>\n",
       "    </tr>\n",
       "    <tr>\n",
       "      <th>3</th>\n",
       "      <td>00_01.0048.jpg</td>\n",
       "      <td>00_01</td>\n",
       "      <td>1</td>\n",
       "      <td>48</td>\n",
       "      <td>C:/Users/HOME/Desktop/AI_project/KSL/KSL_rgb/0...</td>\n",
       "      <td>hi</td>\n",
       "    </tr>\n",
       "    <tr>\n",
       "      <th>4</th>\n",
       "      <td>00_01.0049.jpg</td>\n",
       "      <td>00_01</td>\n",
       "      <td>1</td>\n",
       "      <td>49</td>\n",
       "      <td>C:/Users/HOME/Desktop/AI_project/KSL/KSL_rgb/0...</td>\n",
       "      <td>hi</td>\n",
       "    </tr>\n",
       "    <tr>\n",
       "      <th>...</th>\n",
       "      <td>...</td>\n",
       "      <td>...</td>\n",
       "      <td>...</td>\n",
       "      <td>...</td>\n",
       "      <td>...</td>\n",
       "      <td>...</td>\n",
       "    </tr>\n",
       "    <tr>\n",
       "      <th>3595</th>\n",
       "      <td>19_77.0072.jpg</td>\n",
       "      <td>19_77</td>\n",
       "      <td>77</td>\n",
       "      <td>72</td>\n",
       "      <td>C:/Users/HOME/Desktop/AI_project/KSL/KSL_rgb/1...</td>\n",
       "      <td>care</td>\n",
       "    </tr>\n",
       "    <tr>\n",
       "      <th>3596</th>\n",
       "      <td>19_77.0073.jpg</td>\n",
       "      <td>19_77</td>\n",
       "      <td>77</td>\n",
       "      <td>73</td>\n",
       "      <td>C:/Users/HOME/Desktop/AI_project/KSL/KSL_rgb/1...</td>\n",
       "      <td>care</td>\n",
       "    </tr>\n",
       "    <tr>\n",
       "      <th>3597</th>\n",
       "      <td>19_77.0074.jpg</td>\n",
       "      <td>19_77</td>\n",
       "      <td>77</td>\n",
       "      <td>74</td>\n",
       "      <td>C:/Users/HOME/Desktop/AI_project/KSL/KSL_rgb/1...</td>\n",
       "      <td>care</td>\n",
       "    </tr>\n",
       "    <tr>\n",
       "      <th>3598</th>\n",
       "      <td>19_77.0075.jpg</td>\n",
       "      <td>19_77</td>\n",
       "      <td>77</td>\n",
       "      <td>75</td>\n",
       "      <td>C:/Users/HOME/Desktop/AI_project/KSL/KSL_rgb/1...</td>\n",
       "      <td>care</td>\n",
       "    </tr>\n",
       "    <tr>\n",
       "      <th>3599</th>\n",
       "      <td>19_77.0076.jpg</td>\n",
       "      <td>19_77</td>\n",
       "      <td>77</td>\n",
       "      <td>76</td>\n",
       "      <td>C:/Users/HOME/Desktop/AI_project/KSL/KSL_rgb/1...</td>\n",
       "      <td>care</td>\n",
       "    </tr>\n",
       "  </tbody>\n",
       "</table>\n",
       "<p>3600 rows × 6 columns</p>\n",
       "</div>\n",
       "      <button class=\"colab-df-convert\" onclick=\"convertToInteractive('df-1f8c28f5-e3f7-4782-8f56-c38df14b3634')\"\n",
       "              title=\"Convert this dataframe to an interactive table.\"\n",
       "              style=\"display:none;\">\n",
       "        \n",
       "  <svg xmlns=\"http://www.w3.org/2000/svg\" height=\"24px\"viewBox=\"0 0 24 24\"\n",
       "       width=\"24px\">\n",
       "    <path d=\"M0 0h24v24H0V0z\" fill=\"none\"/>\n",
       "    <path d=\"M18.56 5.44l.94 2.06.94-2.06 2.06-.94-2.06-.94-.94-2.06-.94 2.06-2.06.94zm-11 1L8.5 8.5l.94-2.06 2.06-.94-2.06-.94L8.5 2.5l-.94 2.06-2.06.94zm10 10l.94 2.06.94-2.06 2.06-.94-2.06-.94-.94-2.06-.94 2.06-2.06.94z\"/><path d=\"M17.41 7.96l-1.37-1.37c-.4-.4-.92-.59-1.43-.59-.52 0-1.04.2-1.43.59L10.3 9.45l-7.72 7.72c-.78.78-.78 2.05 0 2.83L4 21.41c.39.39.9.59 1.41.59.51 0 1.02-.2 1.41-.59l7.78-7.78 2.81-2.81c.8-.78.8-2.07 0-2.86zM5.41 20L4 18.59l7.72-7.72 1.47 1.35L5.41 20z\"/>\n",
       "  </svg>\n",
       "      </button>\n",
       "      \n",
       "  <style>\n",
       "    .colab-df-container {\n",
       "      display:flex;\n",
       "      flex-wrap:wrap;\n",
       "      gap: 12px;\n",
       "    }\n",
       "\n",
       "    .colab-df-convert {\n",
       "      background-color: #E8F0FE;\n",
       "      border: none;\n",
       "      border-radius: 50%;\n",
       "      cursor: pointer;\n",
       "      display: none;\n",
       "      fill: #1967D2;\n",
       "      height: 32px;\n",
       "      padding: 0 0 0 0;\n",
       "      width: 32px;\n",
       "    }\n",
       "\n",
       "    .colab-df-convert:hover {\n",
       "      background-color: #E2EBFA;\n",
       "      box-shadow: 0px 1px 2px rgba(60, 64, 67, 0.3), 0px 1px 3px 1px rgba(60, 64, 67, 0.15);\n",
       "      fill: #174EA6;\n",
       "    }\n",
       "\n",
       "    [theme=dark] .colab-df-convert {\n",
       "      background-color: #3B4455;\n",
       "      fill: #D2E3FC;\n",
       "    }\n",
       "\n",
       "    [theme=dark] .colab-df-convert:hover {\n",
       "      background-color: #434B5C;\n",
       "      box-shadow: 0px 1px 3px 1px rgba(0, 0, 0, 0.15);\n",
       "      filter: drop-shadow(0px 1px 2px rgba(0, 0, 0, 0.3));\n",
       "      fill: #FFFFFF;\n",
       "    }\n",
       "  </style>\n",
       "\n",
       "      <script>\n",
       "        const buttonEl =\n",
       "          document.querySelector('#df-1f8c28f5-e3f7-4782-8f56-c38df14b3634 button.colab-df-convert');\n",
       "        buttonEl.style.display =\n",
       "          google.colab.kernel.accessAllowed ? 'block' : 'none';\n",
       "\n",
       "        async function convertToInteractive(key) {\n",
       "          const element = document.querySelector('#df-1f8c28f5-e3f7-4782-8f56-c38df14b3634');\n",
       "          const dataTable =\n",
       "            await google.colab.kernel.invokeFunction('convertToInteractive',\n",
       "                                                     [key], {});\n",
       "          if (!dataTable) return;\n",
       "\n",
       "          const docLinkHtml = 'Like what you see? Visit the ' +\n",
       "            '<a target=\"_blank\" href=https://colab.research.google.com/notebooks/data_table.ipynb>data table notebook</a>'\n",
       "            + ' to learn more about interactive tables.';\n",
       "          element.innerHTML = '';\n",
       "          dataTable['output_type'] = 'display_data';\n",
       "          await google.colab.output.renderOutput(dataTable, element);\n",
       "          const docLink = document.createElement('div');\n",
       "          docLink.innerHTML = docLinkHtml;\n",
       "          element.appendChild(docLink);\n",
       "        }\n",
       "      </script>\n",
       "    </div>\n",
       "  </div>\n",
       "  "
      ],
      "text/plain": [
       "                name   fold  class  num  \\\n",
       "0     00_01.0045.jpg  00_01      1   45   \n",
       "1     00_01.0046.jpg  00_01      1   46   \n",
       "2     00_01.0047.jpg  00_01      1   47   \n",
       "3     00_01.0048.jpg  00_01      1   48   \n",
       "4     00_01.0049.jpg  00_01      1   49   \n",
       "...              ...    ...    ...  ...   \n",
       "3595  19_77.0072.jpg  19_77     77   72   \n",
       "3596  19_77.0073.jpg  19_77     77   73   \n",
       "3597  19_77.0074.jpg  19_77     77   74   \n",
       "3598  19_77.0075.jpg  19_77     77   75   \n",
       "3599  19_77.0076.jpg  19_77     77   76   \n",
       "\n",
       "                                                   path label  \n",
       "0     C:/Users/HOME/Desktop/AI_project/KSL/KSL_rgb/0...    hi  \n",
       "1     C:/Users/HOME/Desktop/AI_project/KSL/KSL_rgb/0...    hi  \n",
       "2     C:/Users/HOME/Desktop/AI_project/KSL/KSL_rgb/0...    hi  \n",
       "3     C:/Users/HOME/Desktop/AI_project/KSL/KSL_rgb/0...    hi  \n",
       "4     C:/Users/HOME/Desktop/AI_project/KSL/KSL_rgb/0...    hi  \n",
       "...                                                 ...   ...  \n",
       "3595  C:/Users/HOME/Desktop/AI_project/KSL/KSL_rgb/1...  care  \n",
       "3596  C:/Users/HOME/Desktop/AI_project/KSL/KSL_rgb/1...  care  \n",
       "3597  C:/Users/HOME/Desktop/AI_project/KSL/KSL_rgb/1...  care  \n",
       "3598  C:/Users/HOME/Desktop/AI_project/KSL/KSL_rgb/1...  care  \n",
       "3599  C:/Users/HOME/Desktop/AI_project/KSL/KSL_rgb/1...  care  \n",
       "\n",
       "[3600 rows x 6 columns]"
      ]
     },
     "execution_count": 35,
     "metadata": {},
     "output_type": "execute_result"
    }
   ],
   "source": [
    "#한 폴더당 중심 동작 20개씩 뽑음\n",
    "select_df=pd.read_csv('/content/drive/MyDrive/data/DF_select.csv')"
   ]
  },
  {
   "cell_type": "code",
   "execution_count": 58,
   "id": "6IQ_EsmCaUih",
   "metadata": {
    "colab": {
     "base_uri": "https://localhost:8080/",
     "height": 424
    },
    "id": "6IQ_EsmCaUih",
    "outputId": "332dc7a3-3ed9-4c14-c66e-daf0b711d834"
   },
   "outputs": [
    {
     "data": {
      "text/html": [
       "\n",
       "  <div id=\"df-aa3fb88e-02c1-4ec2-adf2-315ec37dbdfd\">\n",
       "    <div class=\"colab-df-container\">\n",
       "      <div>\n",
       "<style scoped>\n",
       "    .dataframe tbody tr th:only-of-type {\n",
       "        vertical-align: middle;\n",
       "    }\n",
       "\n",
       "    .dataframe tbody tr th {\n",
       "        vertical-align: top;\n",
       "    }\n",
       "\n",
       "    .dataframe thead th {\n",
       "        text-align: right;\n",
       "    }\n",
       "</style>\n",
       "<table border=\"1\" class=\"dataframe\">\n",
       "  <thead>\n",
       "    <tr style=\"text-align: right;\">\n",
       "      <th></th>\n",
       "      <th>name</th>\n",
       "      <th>fold</th>\n",
       "      <th>class</th>\n",
       "      <th>num</th>\n",
       "      <th>path</th>\n",
       "      <th>label</th>\n",
       "    </tr>\n",
       "  </thead>\n",
       "  <tbody>\n",
       "    <tr>\n",
       "      <th>0</th>\n",
       "      <td>00_01.0045.jpg</td>\n",
       "      <td>00_01</td>\n",
       "      <td>1</td>\n",
       "      <td>45</td>\n",
       "      <td>/content/drive/MyDrive/data/KSL_rgb (1)/00_01/...</td>\n",
       "      <td>hi</td>\n",
       "    </tr>\n",
       "    <tr>\n",
       "      <th>1</th>\n",
       "      <td>00_01.0046.jpg</td>\n",
       "      <td>00_01</td>\n",
       "      <td>1</td>\n",
       "      <td>46</td>\n",
       "      <td>/content/drive/MyDrive/data/KSL_rgb (1)/00_01/...</td>\n",
       "      <td>hi</td>\n",
       "    </tr>\n",
       "    <tr>\n",
       "      <th>2</th>\n",
       "      <td>00_01.0047.jpg</td>\n",
       "      <td>00_01</td>\n",
       "      <td>1</td>\n",
       "      <td>47</td>\n",
       "      <td>/content/drive/MyDrive/data/KSL_rgb (1)/00_01/...</td>\n",
       "      <td>hi</td>\n",
       "    </tr>\n",
       "    <tr>\n",
       "      <th>3</th>\n",
       "      <td>00_01.0048.jpg</td>\n",
       "      <td>00_01</td>\n",
       "      <td>1</td>\n",
       "      <td>48</td>\n",
       "      <td>/content/drive/MyDrive/data/KSL_rgb (1)/00_01/...</td>\n",
       "      <td>hi</td>\n",
       "    </tr>\n",
       "    <tr>\n",
       "      <th>4</th>\n",
       "      <td>00_01.0049.jpg</td>\n",
       "      <td>00_01</td>\n",
       "      <td>1</td>\n",
       "      <td>49</td>\n",
       "      <td>/content/drive/MyDrive/data/KSL_rgb (1)/00_01/...</td>\n",
       "      <td>hi</td>\n",
       "    </tr>\n",
       "    <tr>\n",
       "      <th>...</th>\n",
       "      <td>...</td>\n",
       "      <td>...</td>\n",
       "      <td>...</td>\n",
       "      <td>...</td>\n",
       "      <td>...</td>\n",
       "      <td>...</td>\n",
       "    </tr>\n",
       "    <tr>\n",
       "      <th>3595</th>\n",
       "      <td>19_77.0072.jpg</td>\n",
       "      <td>19_77</td>\n",
       "      <td>77</td>\n",
       "      <td>72</td>\n",
       "      <td>/content/drive/MyDrive/data/KSL_rgb (1)/19_77/...</td>\n",
       "      <td>care</td>\n",
       "    </tr>\n",
       "    <tr>\n",
       "      <th>3596</th>\n",
       "      <td>19_77.0073.jpg</td>\n",
       "      <td>19_77</td>\n",
       "      <td>77</td>\n",
       "      <td>73</td>\n",
       "      <td>/content/drive/MyDrive/data/KSL_rgb (1)/19_77/...</td>\n",
       "      <td>care</td>\n",
       "    </tr>\n",
       "    <tr>\n",
       "      <th>3597</th>\n",
       "      <td>19_77.0074.jpg</td>\n",
       "      <td>19_77</td>\n",
       "      <td>77</td>\n",
       "      <td>74</td>\n",
       "      <td>/content/drive/MyDrive/data/KSL_rgb (1)/19_77/...</td>\n",
       "      <td>care</td>\n",
       "    </tr>\n",
       "    <tr>\n",
       "      <th>3598</th>\n",
       "      <td>19_77.0075.jpg</td>\n",
       "      <td>19_77</td>\n",
       "      <td>77</td>\n",
       "      <td>75</td>\n",
       "      <td>/content/drive/MyDrive/data/KSL_rgb (1)/19_77/...</td>\n",
       "      <td>care</td>\n",
       "    </tr>\n",
       "    <tr>\n",
       "      <th>3599</th>\n",
       "      <td>19_77.0076.jpg</td>\n",
       "      <td>19_77</td>\n",
       "      <td>77</td>\n",
       "      <td>76</td>\n",
       "      <td>/content/drive/MyDrive/data/KSL_rgb (1)/19_77/...</td>\n",
       "      <td>care</td>\n",
       "    </tr>\n",
       "  </tbody>\n",
       "</table>\n",
       "<p>3600 rows × 6 columns</p>\n",
       "</div>\n",
       "      <button class=\"colab-df-convert\" onclick=\"convertToInteractive('df-aa3fb88e-02c1-4ec2-adf2-315ec37dbdfd')\"\n",
       "              title=\"Convert this dataframe to an interactive table.\"\n",
       "              style=\"display:none;\">\n",
       "        \n",
       "  <svg xmlns=\"http://www.w3.org/2000/svg\" height=\"24px\"viewBox=\"0 0 24 24\"\n",
       "       width=\"24px\">\n",
       "    <path d=\"M0 0h24v24H0V0z\" fill=\"none\"/>\n",
       "    <path d=\"M18.56 5.44l.94 2.06.94-2.06 2.06-.94-2.06-.94-.94-2.06-.94 2.06-2.06.94zm-11 1L8.5 8.5l.94-2.06 2.06-.94-2.06-.94L8.5 2.5l-.94 2.06-2.06.94zm10 10l.94 2.06.94-2.06 2.06-.94-2.06-.94-.94-2.06-.94 2.06-2.06.94z\"/><path d=\"M17.41 7.96l-1.37-1.37c-.4-.4-.92-.59-1.43-.59-.52 0-1.04.2-1.43.59L10.3 9.45l-7.72 7.72c-.78.78-.78 2.05 0 2.83L4 21.41c.39.39.9.59 1.41.59.51 0 1.02-.2 1.41-.59l7.78-7.78 2.81-2.81c.8-.78.8-2.07 0-2.86zM5.41 20L4 18.59l7.72-7.72 1.47 1.35L5.41 20z\"/>\n",
       "  </svg>\n",
       "      </button>\n",
       "      \n",
       "  <style>\n",
       "    .colab-df-container {\n",
       "      display:flex;\n",
       "      flex-wrap:wrap;\n",
       "      gap: 12px;\n",
       "    }\n",
       "\n",
       "    .colab-df-convert {\n",
       "      background-color: #E8F0FE;\n",
       "      border: none;\n",
       "      border-radius: 50%;\n",
       "      cursor: pointer;\n",
       "      display: none;\n",
       "      fill: #1967D2;\n",
       "      height: 32px;\n",
       "      padding: 0 0 0 0;\n",
       "      width: 32px;\n",
       "    }\n",
       "\n",
       "    .colab-df-convert:hover {\n",
       "      background-color: #E2EBFA;\n",
       "      box-shadow: 0px 1px 2px rgba(60, 64, 67, 0.3), 0px 1px 3px 1px rgba(60, 64, 67, 0.15);\n",
       "      fill: #174EA6;\n",
       "    }\n",
       "\n",
       "    [theme=dark] .colab-df-convert {\n",
       "      background-color: #3B4455;\n",
       "      fill: #D2E3FC;\n",
       "    }\n",
       "\n",
       "    [theme=dark] .colab-df-convert:hover {\n",
       "      background-color: #434B5C;\n",
       "      box-shadow: 0px 1px 3px 1px rgba(0, 0, 0, 0.15);\n",
       "      filter: drop-shadow(0px 1px 2px rgba(0, 0, 0, 0.3));\n",
       "      fill: #FFFFFF;\n",
       "    }\n",
       "  </style>\n",
       "\n",
       "      <script>\n",
       "        const buttonEl =\n",
       "          document.querySelector('#df-aa3fb88e-02c1-4ec2-adf2-315ec37dbdfd button.colab-df-convert');\n",
       "        buttonEl.style.display =\n",
       "          google.colab.kernel.accessAllowed ? 'block' : 'none';\n",
       "\n",
       "        async function convertToInteractive(key) {\n",
       "          const element = document.querySelector('#df-aa3fb88e-02c1-4ec2-adf2-315ec37dbdfd');\n",
       "          const dataTable =\n",
       "            await google.colab.kernel.invokeFunction('convertToInteractive',\n",
       "                                                     [key], {});\n",
       "          if (!dataTable) return;\n",
       "\n",
       "          const docLinkHtml = 'Like what you see? Visit the ' +\n",
       "            '<a target=\"_blank\" href=https://colab.research.google.com/notebooks/data_table.ipynb>data table notebook</a>'\n",
       "            + ' to learn more about interactive tables.';\n",
       "          element.innerHTML = '';\n",
       "          dataTable['output_type'] = 'display_data';\n",
       "          await google.colab.output.renderOutput(dataTable, element);\n",
       "          const docLink = document.createElement('div');\n",
       "          docLink.innerHTML = docLinkHtml;\n",
       "          element.appendChild(docLink);\n",
       "        }\n",
       "      </script>\n",
       "    </div>\n",
       "  </div>\n",
       "  "
      ],
      "text/plain": [
       "                name   fold  class  num  \\\n",
       "0     00_01.0045.jpg  00_01      1   45   \n",
       "1     00_01.0046.jpg  00_01      1   46   \n",
       "2     00_01.0047.jpg  00_01      1   47   \n",
       "3     00_01.0048.jpg  00_01      1   48   \n",
       "4     00_01.0049.jpg  00_01      1   49   \n",
       "...              ...    ...    ...  ...   \n",
       "3595  19_77.0072.jpg  19_77     77   72   \n",
       "3596  19_77.0073.jpg  19_77     77   73   \n",
       "3597  19_77.0074.jpg  19_77     77   74   \n",
       "3598  19_77.0075.jpg  19_77     77   75   \n",
       "3599  19_77.0076.jpg  19_77     77   76   \n",
       "\n",
       "                                                   path label  \n",
       "0     /content/drive/MyDrive/data/KSL_rgb (1)/00_01/...    hi  \n",
       "1     /content/drive/MyDrive/data/KSL_rgb (1)/00_01/...    hi  \n",
       "2     /content/drive/MyDrive/data/KSL_rgb (1)/00_01/...    hi  \n",
       "3     /content/drive/MyDrive/data/KSL_rgb (1)/00_01/...    hi  \n",
       "4     /content/drive/MyDrive/data/KSL_rgb (1)/00_01/...    hi  \n",
       "...                                                 ...   ...  \n",
       "3595  /content/drive/MyDrive/data/KSL_rgb (1)/19_77/...  care  \n",
       "3596  /content/drive/MyDrive/data/KSL_rgb (1)/19_77/...  care  \n",
       "3597  /content/drive/MyDrive/data/KSL_rgb (1)/19_77/...  care  \n",
       "3598  /content/drive/MyDrive/data/KSL_rgb (1)/19_77/...  care  \n",
       "3599  /content/drive/MyDrive/data/KSL_rgb (1)/19_77/...  care  \n",
       "\n",
       "[3600 rows x 6 columns]"
      ]
     },
     "execution_count": 58,
     "metadata": {},
     "output_type": "execute_result"
    }
   ],
   "source": [
    "select_df['path']=directory+'/'+select_df['fold']+'/'+select_df['name']\n",
    "select_df"
   ]
  },
  {
   "cell_type": "markdown",
   "id": "x9z0GyUe1WS3",
   "metadata": {
    "id": "x9z0GyUe1WS3"
   },
   "source": [
    "### 모델링 전 최종 전처리"
   ]
  },
  {
   "cell_type": "code",
   "execution_count": 37,
   "id": "DN1eAGlMxdNs",
   "metadata": {
    "id": "DN1eAGlMxdNs"
   },
   "outputs": [],
   "source": [
    "datagen = ImageDataGenerator(rescale=1/ 255, validation_split=0.3)\n",
    "#255로 나누어 정규화.\n",
    "#train:valid set 비율은 7:3"
   ]
  },
  {
   "cell_type": "code",
   "execution_count": 38,
   "id": "moRAMUt11hXC",
   "metadata": {
    "colab": {
     "base_uri": "https://localhost:8080/"
    },
    "id": "moRAMUt11hXC",
    "outputId": "2aa8c399-1a4e-4e1b-a298-94a4325d4206"
   },
   "outputs": [
    {
     "name": "stdout",
     "output_type": "stream",
     "text": [
      "Found 2520 validated image filenames belonging to 10 classes.\n",
      "Found 1080 validated image filenames belonging to 10 classes.\n"
     ]
    }
   ],
   "source": [
    "train_generator = datagen.flow_from_dataframe(\n",
    "          dataframe=select_df,\n",
    "          batch_size=128,\n",
    "          class_mode='categorical',\n",
    "          shuffle=True,\n",
    "          seed=2022,\n",
    "          x_col='path',\n",
    "          y_col='label',\n",
    "          subset = 'training',)\n",
    "\n",
    "valid_generator = datagen.flow_from_dataframe(\n",
    "          dataframe=select_df,\n",
    "          batch_size=128,\n",
    "          class_mode='categorical',\n",
    "          shuffle=True,\n",
    "          seed=2022,\n",
    "          x_col='path',\n",
    "          y_col='label',\n",
    "          subset = 'validation')"
   ]
  },
  {
   "cell_type": "markdown",
   "id": "94c3HFVt1x8K",
   "metadata": {
    "id": "94c3HFVt1x8K"
   },
   "source": [
    "- train dataset : 2520개\n",
    "- validation dataset : 1080개"
   ]
  },
  {
   "cell_type": "markdown",
   "id": "y3PbS_az1_d1",
   "metadata": {
    "id": "y3PbS_az1_d1"
   },
   "source": [
    "## 3. 모델링 (미디어파이프 미적용) & 학습"
   ]
  },
  {
   "cell_type": "markdown",
   "id": "HrNZ_bJS1-oh",
   "metadata": {
    "id": "HrNZ_bJS1-oh"
   },
   "source": [
    "### CNN(+batchnormalization)\n",
    "- 가설1. 미디어파이프 적용 vs 미적용\n",
    "- 아래 코드는 미디어 파이프 적용X"
   ]
  },
  {
   "cell_type": "code",
   "execution_count": 69,
   "id": "a30f1bb5",
   "metadata": {
    "colab": {
     "base_uri": "https://localhost:8080/"
    },
    "id": "a30f1bb5",
    "outputId": "15c1d62b-f99e-4b48-f3b8-b8b37373e78b"
   },
   "outputs": [
    {
     "name": "stdout",
     "output_type": "stream",
     "text": [
      "Model: \"sequential_9\"\n",
      "_________________________________________________________________\n",
      " Layer (type)                Output Shape              Param #   \n",
      "=================================================================\n",
      " conv2d_45 (Conv2D)          (None, 256, 256, 10)      40        \n",
      "                                                                 \n",
      " batch_normalization_47 (Bat  (None, 256, 256, 10)     40        \n",
      " chNormalization)                                                \n",
      "                                                                 \n",
      " activation_52 (Activation)  (None, 256, 256, 10)      0         \n",
      "                                                                 \n",
      " conv2d_46 (Conv2D)          (None, 256, 256, 10)      910       \n",
      "                                                                 \n",
      " batch_normalization_48 (Bat  (None, 256, 256, 10)     40        \n",
      " chNormalization)                                                \n",
      "                                                                 \n",
      " activation_53 (Activation)  (None, 256, 256, 10)      0         \n",
      "                                                                 \n",
      " conv2d_47 (Conv2D)          (None, 256, 256, 10)      910       \n",
      "                                                                 \n",
      " batch_normalization_49 (Bat  (None, 256, 256, 10)     40        \n",
      " chNormalization)                                                \n",
      "                                                                 \n",
      " activation_54 (Activation)  (None, 256, 256, 10)      0         \n",
      "                                                                 \n",
      " max_pooling2d_25 (MaxPoolin  (None, 128, 128, 10)     0         \n",
      " g2D)                                                            \n",
      "                                                                 \n",
      " conv2d_48 (Conv2D)          (None, 128, 128, 20)      220       \n",
      "                                                                 \n",
      " batch_normalization_50 (Bat  (None, 128, 128, 20)     80        \n",
      " chNormalization)                                                \n",
      "                                                                 \n",
      " activation_55 (Activation)  (None, 128, 128, 20)      0         \n",
      "                                                                 \n",
      " conv2d_49 (Conv2D)          (None, 128, 128, 20)      3620      \n",
      "                                                                 \n",
      " batch_normalization_51 (Bat  (None, 128, 128, 20)     80        \n",
      " chNormalization)                                                \n",
      "                                                                 \n",
      " activation_56 (Activation)  (None, 128, 128, 20)      0         \n",
      "                                                                 \n",
      " conv2d_50 (Conv2D)          (None, 128, 128, 20)      3620      \n",
      "                                                                 \n",
      " batch_normalization_52 (Bat  (None, 128, 128, 20)     80        \n",
      " chNormalization)                                                \n",
      "                                                                 \n",
      " activation_57 (Activation)  (None, 128, 128, 20)      0         \n",
      "                                                                 \n",
      " max_pooling2d_26 (MaxPoolin  (None, 64, 64, 20)       0         \n",
      " g2D)                                                            \n",
      "                                                                 \n",
      " conv2d_51 (Conv2D)          (None, 64, 64, 30)        630       \n",
      "                                                                 \n",
      " batch_normalization_53 (Bat  (None, 64, 64, 30)       120       \n",
      " chNormalization)                                                \n",
      "                                                                 \n",
      " activation_58 (Activation)  (None, 64, 64, 30)        0         \n",
      "                                                                 \n",
      " conv2d_52 (Conv2D)          (None, 64, 64, 30)        8130      \n",
      "                                                                 \n",
      " batch_normalization_54 (Bat  (None, 64, 64, 30)       120       \n",
      " chNormalization)                                                \n",
      "                                                                 \n",
      " activation_59 (Activation)  (None, 64, 64, 30)        0         \n",
      "                                                                 \n",
      " conv2d_53 (Conv2D)          (None, 64, 64, 30)        8130      \n",
      "                                                                 \n",
      " batch_normalization_55 (Bat  (None, 64, 64, 30)       120       \n",
      " chNormalization)                                                \n",
      "                                                                 \n",
      " activation_60 (Activation)  (None, 64, 64, 30)        0         \n",
      "                                                                 \n",
      " max_pooling2d_27 (MaxPoolin  (None, 32, 32, 30)       0         \n",
      " g2D)                                                            \n",
      "                                                                 \n",
      " flatten_11 (Flatten)        (None, 30720)             0         \n",
      "                                                                 \n",
      " dense_18 (Dense)            (None, 50)                1536050   \n",
      "                                                                 \n",
      " activation_61 (Activation)  (None, 50)                0         \n",
      "                                                                 \n",
      " dense_19 (Dense)            (None, 10)                510       \n",
      "                                                                 \n",
      "=================================================================\n",
      "Total params: 1,563,490\n",
      "Trainable params: 1,563,130\n",
      "Non-trainable params: 360\n",
      "_________________________________________________________________\n"
     ]
    }
   ],
   "source": [
    "pool_size = 2\n",
    "    \n",
    "model1 = Sequential([\n",
    "  keras.Input(shape=(256,256,3)),\n",
    "  Conv2D(filters = 30, kernel_size = (3,3), padding='same'),  \n",
    "  BatchNormalization(),                                       \n",
    "  Activation('relu'),\n",
    "  Conv2D(filters = 30, kernel_size = (3,3), padding='same'),  \n",
    "  BatchNormalization(),                                       \n",
    "  Activation('relu'),                                           \n",
    "  MaxPooling2D(pool_size=pool_size),                         \n",
    "\n",
    "  Conv2D(filters = 50, kernel_size = (3,3), padding='same'),\n",
    "  BatchNormalization(),\n",
    "  Activation('relu'),\n",
    "  Conv2D(filters = 50, kernel_size = (3,3), padding='same'),  \n",
    "  BatchNormalization(),                                       \n",
    "  Activation('relu'),   \n",
    "  MaxPooling2D(pool_size=pool_size),                         \n",
    "\n",
    "  Conv2D(filters = 80, kernel_size = (3,3), padding='same'),\n",
    "  BatchNormalization(),\n",
    "  Activation('relu'),\n",
    "  Conv2D(filters = 80, kernel_size = (3,3), padding='same'),  \n",
    "  BatchNormalization(),                                       \n",
    "  Activation('relu'),   \n",
    "  MaxPooling2D(pool_size=pool_size),                         \n",
    "\n",
    "  Flatten(),\n",
    "  Dense(50),\n",
    "  Activation('relu'),                                          \n",
    "  \n",
    "  Dense(10, activation='softmax'),\n",
    "])\n",
    "\n",
    "model1.summary()"
   ]
  },
  {
   "cell_type": "code",
   "execution_count": 70,
   "id": "071a1401",
   "metadata": {
    "id": "071a1401"
   },
   "outputs": [],
   "source": [
    "model1.compile(\n",
    "  optimizer='adam',\n",
    "  loss='categorical_crossentropy',\n",
    "  metrics=['accuracy'],\n",
    ")"
   ]
  },
  {
   "cell_type": "code",
   "execution_count": null,
   "id": "dab66687",
   "metadata": {
    "id": "dab66687",
    "outputId": "5d6ac830-0fc6-48c4-c72f-c51b6f6c37ad"
   },
   "outputs": [
    {
     "name": "stdout",
     "output_type": "stream",
     "text": [
      "Epoch 1/15\n",
      "11/11 [==============================] - 128s 12s/step - loss: 2.5131 - accuracy: 0.1220 - val_loss: 2.3140 - val_accuracy: 0.1111\n",
      "Epoch 2/15\n",
      "11/11 [==============================] - 130s 12s/step - loss: 2.3019 - accuracy: 0.1087 - val_loss: 2.3028 - val_accuracy: 0.0889\n",
      "Epoch 3/15\n",
      "11/11 [==============================] - 137s 12s/step - loss: 2.3015 - accuracy: 0.1109 - val_loss: 2.3030 - val_accuracy: 0.1111\n",
      "Epoch 4/15\n",
      "11/11 [==============================] - 130s 12s/step - loss: 2.3022 - accuracy: 0.1028 - val_loss: 2.3031 - val_accuracy: 0.1111\n",
      "Epoch 5/15\n",
      "11/11 [==============================] - 144s 13s/step - loss: 2.2982 - accuracy: 0.1228 - val_loss: 2.3048 - val_accuracy: 0.0889\n",
      "Epoch 6/15\n",
      "11/11 [==============================] - 147s 14s/step - loss: 2.2442 - accuracy: 0.1834 - val_loss: 2.3835 - val_accuracy: 0.1156\n",
      "Epoch 7/15\n",
      "11/11 [==============================] - 145s 13s/step - loss: 1.8985 - accuracy: 0.3417 - val_loss: 3.6735 - val_accuracy: 0.0844\n",
      "Epoch 8/15\n",
      "11/11 [==============================] - 145s 13s/step - loss: 1.1091 - accuracy: 0.6309 - val_loss: 5.4021 - val_accuracy: 0.0800\n",
      "Epoch 9/15\n",
      "11/11 [==============================] - 146s 13s/step - loss: 0.5206 - accuracy: 0.8343 - val_loss: 8.5717 - val_accuracy: 0.1333\n",
      "Epoch 10/15\n",
      "11/11 [==============================] - 145s 13s/step - loss: 0.3333 - accuracy: 0.8861 - val_loss: 13.6648 - val_accuracy: 0.1467\n",
      "Epoch 11/15\n",
      "11/11 [==============================] - 145s 13s/step - loss: 0.2605 - accuracy: 0.9157 - val_loss: 14.5106 - val_accuracy: 0.1111\n",
      "Epoch 12/15\n",
      "11/11 [==============================] - 147s 13s/step - loss: 0.2195 - accuracy: 0.9334 - val_loss: 11.6082 - val_accuracy: 0.1289\n",
      "Epoch 13/15\n",
      "11/11 [==============================] - 146s 13s/step - loss: 0.0710 - accuracy: 0.9793 - val_loss: 16.5634 - val_accuracy: 0.1089\n",
      "Epoch 14/15\n",
      "11/11 [==============================] - 145s 13s/step - loss: 0.0438 - accuracy: 0.9882 - val_loss: 18.0260 - val_accuracy: 0.1133\n",
      "Epoch 15/15\n",
      "11/11 [==============================] - 144s 13s/step - loss: 0.0595 - accuracy: 0.9845 - val_loss: 16.1055 - val_accuracy: 0.1089\n"
     ]
    }
   ],
   "source": [
    "history1= model1.fit(\n",
    "    train_generator,\n",
    "    epochs=15,\n",
    "    validation_data=valid_generator,\n",
    "    shuffle=True)"
   ]
  },
  {
   "cell_type": "markdown",
   "id": "vVBYKvTA352p",
   "metadata": {
    "id": "vVBYKvTA352p"
   },
   "source": [
    "- 최고 val_accuracy는 0.1467\n",
    "- val_loss가 높아지는 것으로 보아 train에 대해서 과적합되는 것으로 보임"
   ]
  },
  {
   "cell_type": "code",
   "execution_count": null,
   "id": "d990b362",
   "metadata": {
    "id": "d990b362",
    "outputId": "4c465281-f564-471e-cdd4-2e0d0db89279"
   },
   "outputs": [
    {
     "data": {
      "image/png": "[encoded data removed]",
      "text/plain": [
       "<Figure size 1400x500 with 2 Axes>"
      ]
     },
     "metadata": {},
     "output_type": "display_data"
    }
   ],
   "source": [
    "plt.figure(figsize=(14, 5))\n",
    "\n",
    "plt.subplot(1, 2, 1)\n",
    "plt.plot(history1.history['accuracy'], label='Training Accuracy')\n",
    "plt.plot(history1.history['val_accuracy'], label='Validation Accuracy')\n",
    "plt.legend(loc='lower right')\n",
    "plt.title('Training and Validation Accuracy')\n",
    "\n",
    "plt.subplot(1, 2, 2)\n",
    "plt.plot(history1.history['loss'], label='Training Loss')\n",
    "plt.plot(history1.history['val_loss'], label='Validation Loss')\n",
    "plt.legend(loc='upper right')\n",
    "plt.title('Training and Validation Loss')\n",
    "\n",
    "plt.show()"
   ]
  },
  {
   "cell_type": "markdown",
   "id": "5809Bk-O5Q0T",
   "metadata": {
    "id": "5809Bk-O5Q0T"
   },
   "source": [
    "### CNN+LSTM"
   ]
  },
  {
   "cell_type": "code",
   "execution_count": 39,
   "id": "b9755dd6",
   "metadata": {
    "colab": {
     "base_uri": "https://localhost:8080/"
    },
    "id": "b9755dd6",
    "outputId": "12db4f83-f5df-479d-b45c-c6caa1161692"
   },
   "outputs": [
    {
     "name": "stderr",
     "output_type": "stream",
     "text": [
      "WARNING:tensorflow:Layer lstm_2 will not use cuDNN kernels since it doesn't meet the criteria. It will use a generic GPU kernel as fallback when running on GPU.\n",
      "WARNING:tensorflow:Layer lstm_2 will not use cuDNN kernels since it doesn't meet the criteria. It will use a generic GPU kernel as fallback when running on GPU.\n",
      "WARNING:tensorflow:Layer lstm_2 will not use cuDNN kernels since it doesn't meet the criteria. It will use a generic GPU kernel as fallback when running on GPU.\n",
      "WARNING:tensorflow:Layer lstm_3 will not use cuDNN kernels since it doesn't meet the criteria. It will use a generic GPU kernel as fallback when running on GPU.\n",
      "WARNING:tensorflow:Layer lstm_3 will not use cuDNN kernels since it doesn't meet the criteria. It will use a generic GPU kernel as fallback when running on GPU.\n",
      "WARNING:tensorflow:Layer lstm_3 will not use cuDNN kernels since it doesn't meet the criteria. It will use a generic GPU kernel as fallback when running on GPU.\n"
     ]
    }
   ],
   "source": [
    "Model = Sequential()\n",
    "\n",
    "Model.add(SeparableConv2D(12,(3,3),activation=\"relu\",\n",
    "                 input_shape=(256,256,3)))\n",
    "Model.add(BatchNormalization())\n",
    "Model.add(MaxPooling2D((2,2)))\n",
    "\n",
    "Model.add(SeparableConv2D(24,(3,3),\n",
    "                 activation=\"relu\",padding=\"same\"))\n",
    "Model.add(Dropout(0.2))\n",
    "Model.add(MaxPooling2D((2,2)))\n",
    "\n",
    "Model.add(TimeDistributed(Flatten()))\n",
    "Model.add(Bidirectional(LSTM(64,\n",
    "                                  return_sequences=True,\n",
    "                                  dropout=0.5,\n",
    "                                  recurrent_dropout=0.5)))\n",
    "Model.add(Bidirectional(LSTM(64,\n",
    "                                  return_sequences=True,\n",
    "                                  dropout=0.5,\n",
    "                                  recurrent_dropout=0.5)))\n",
    "\n",
    "Model.add(Flatten())\n",
    "Model.add(Dense(128,activation=\"relu\"))\n",
    "Model.add(Dropout(0.5))\n",
    "Model.add(Dense(10,activation=\"softmax\"))"
   ]
  },
  {
   "cell_type": "code",
   "execution_count": 40,
   "id": "8ab53b9e",
   "metadata": {
    "id": "8ab53b9e"
   },
   "outputs": [],
   "source": [
    "Model.compile(\n",
    "  optimizer='adam',\n",
    "  loss='categorical_crossentropy',\n",
    "  metrics=['accuracy'],\n",
    ")"
   ]
  },
  {
   "cell_type": "code",
   "execution_count": null,
   "id": "acF-7esM5r0y",
   "metadata": {
    "id": "acF-7esM5r0y"
   },
   "outputs": [],
   "source": [
    "checkpoint_filepath = 'C:/Users/HOME/Desktop/AI_project/KSL/h5/' + 'best_model_{val_accuracy:.4f}.h5'\n",
    "model_checkpoint_callback = ModelCheckpoint(\n",
    "    filepath=checkpoint_filepath,\n",
    "    save_weights_only=True,\n",
    "    monitor='val_accuracy',\n",
    "    mode='max',\n",
    "    save_best_only=True,\n",
    "    verbose=1)"
   ]
  },
  {
   "cell_type": "code",
   "execution_count": 41,
   "id": "an6QUyWy501Q",
   "metadata": {
    "colab": {
     "base_uri": "https://localhost:8080/"
    },
    "id": "an6QUyWy501Q",
    "outputId": "69a98697-0f03-419e-919a-4866d07d23eb"
   },
   "outputs": [
    {
     "name": "stdout",
     "output_type": "stream",
     "text": [
      "Epoch 1/10\n",
      "20/20 [==============================] - 1174s 57s/step - loss: 2.3364 - accuracy: 0.1139 - val_loss: 2.3030 - val_accuracy: 0.1111\n",
      "Epoch 2/10\n",
      "20/20 [==============================] - 40s 2s/step - loss: 2.1324 - accuracy: 0.2115 - val_loss: 2.2928 - val_accuracy: 0.1194\n",
      "Epoch 3/10\n",
      "20/20 [==============================] - 39s 2s/step - loss: 1.6201 - accuracy: 0.3968 - val_loss: 2.2727 - val_accuracy: 0.1093\n",
      "Epoch 4/10\n",
      "20/20 [==============================] - 39s 2s/step - loss: 1.2331 - accuracy: 0.5456 - val_loss: 2.2472 - val_accuracy: 0.1046\n",
      "Epoch 5/10\n",
      "20/20 [==============================] - 39s 2s/step - loss: 0.9111 - accuracy: 0.6472 - val_loss: 2.1941 - val_accuracy: 0.1935\n",
      "Epoch 6/10\n",
      "20/20 [==============================] - 39s 2s/step - loss: 0.6689 - accuracy: 0.7417 - val_loss: 2.1420 - val_accuracy: 0.2185\n",
      "Epoch 7/10\n",
      "20/20 [==============================] - 40s 2s/step - loss: 0.5238 - accuracy: 0.7929 - val_loss: 2.1064 - val_accuracy: 0.2296\n",
      "Epoch 8/10\n",
      "20/20 [==============================] - 38s 2s/step - loss: 0.4179 - accuracy: 0.8413 - val_loss: 2.0670 - val_accuracy: 0.2880\n",
      "Epoch 9/10\n",
      "20/20 [==============================] - 39s 2s/step - loss: 0.3711 - accuracy: 0.8583 - val_loss: 2.2291 - val_accuracy: 0.2046\n",
      "Epoch 10/10\n",
      "20/20 [==============================] - 39s 2s/step - loss: 0.3169 - accuracy: 0.8790 - val_loss: 2.3019 - val_accuracy: 0.2167\n"
     ]
    }
   ],
   "source": [
    "history2= Model.fit(\n",
    "    train_generator,\n",
    "    epochs=10,\n",
    "    validation_data=valid_generator,\n",
    "    shuffle=True)"
   ]
  },
  {
   "cell_type": "code",
   "execution_count": 42,
   "id": "mryCxmuQpkjn",
   "metadata": {
    "colab": {
     "base_uri": "https://localhost:8080/",
     "height": 332
    },
    "id": "mryCxmuQpkjn",
    "outputId": "bc98661a-0c49-418d-84b7-380334a5c6d0"
   },
   "outputs": [
    {
     "data": {
      "image/png": "[encoded data removed]",
      "text/plain": [
       "<Figure size 1008x360 with 2 Axes>"
      ]
     },
     "metadata": {
      "needs_background": "light"
     },
     "output_type": "display_data"
    }
   ],
   "source": [
    "plt.figure(figsize=(14, 5))\n",
    "\n",
    "plt.subplot(1, 2, 1)\n",
    "plt.plot(history2.history['accuracy'], label='Training Accuracy')\n",
    "plt.plot(history2.history['val_accuracy'], label='Validation Accuracy')\n",
    "plt.legend(loc='lower right')\n",
    "plt.title('Training and Validation Accuracy')\n",
    "\n",
    "plt.subplot(1, 2, 2)\n",
    "plt.plot(history2.history['loss'], label='Training Loss')\n",
    "plt.plot(history2.history['val_loss'], label='Validation Loss')\n",
    "plt.legend(loc='upper right')\n",
    "plt.title('Training and Validation Loss')\n",
    "\n",
    "plt.show()"
   ]
  },
  {
   "cell_type": "markdown",
   "id": "YmRsgdr254sg",
   "metadata": {
    "id": "YmRsgdr254sg"
   },
   "source": [
    "- val_loss값이 감소하다가 증가함.\n",
    "- 최고 val_accuracy는 0.2880 (여기서 val_loss 값이 제일 작게 나왔음)"
   ]
  },
  {
   "cell_type": "markdown",
   "id": "nf4qlZH26bCX",
   "metadata": {
    "id": "nf4qlZH26bCX"
   },
   "source": [
    "### CNN+Dropout"
   ]
  },
  {
   "cell_type": "code",
   "execution_count": 66,
   "id": "c1c731e7",
   "metadata": {
    "colab": {
     "base_uri": "https://localhost:8080/"
    },
    "id": "c1c731e7",
    "outputId": "29a1fb70-85a4-4599-afcf-84977bdf2cb1"
   },
   "outputs": [
    {
     "name": "stdout",
     "output_type": "stream",
     "text": [
      "Model: \"sequential_8\"\n",
      "_________________________________________________________________\n",
      " Layer (type)                Output Shape              Param #   \n",
      "=================================================================\n",
      " conv2d_39 (Conv2D)          (None, 256, 256, 30)      840       \n",
      "                                                                 \n",
      " batch_normalization_41 (Bat  (None, 256, 256, 30)     120       \n",
      " chNormalization)                                                \n",
      "                                                                 \n",
      " activation_45 (Activation)  (None, 256, 256, 30)      0         \n",
      "                                                                 \n",
      " dropout_26 (Dropout)        (None, 256, 256, 30)      0         \n",
      "                                                                 \n",
      " conv2d_40 (Conv2D)          (None, 256, 256, 30)      8130      \n",
      "                                                                 \n",
      " batch_normalization_42 (Bat  (None, 256, 256, 30)     120       \n",
      " chNormalization)                                                \n",
      "                                                                 \n",
      " activation_46 (Activation)  (None, 256, 256, 30)      0         \n",
      "                                                                 \n",
      " max_pooling2d_22 (MaxPoolin  (None, 128, 128, 30)     0         \n",
      " g2D)                                                            \n",
      "                                                                 \n",
      " conv2d_41 (Conv2D)          (None, 128, 128, 50)      13550     \n",
      "                                                                 \n",
      " batch_normalization_43 (Bat  (None, 128, 128, 50)     200       \n",
      " chNormalization)                                                \n",
      "                                                                 \n",
      " activation_47 (Activation)  (None, 128, 128, 50)      0         \n",
      "                                                                 \n",
      " dropout_27 (Dropout)        (None, 128, 128, 50)      0         \n",
      "                                                                 \n",
      " conv2d_42 (Conv2D)          (None, 128, 128, 50)      22550     \n",
      "                                                                 \n",
      " batch_normalization_44 (Bat  (None, 128, 128, 50)     200       \n",
      " chNormalization)                                                \n",
      "                                                                 \n",
      " activation_48 (Activation)  (None, 128, 128, 50)      0         \n",
      "                                                                 \n",
      " max_pooling2d_23 (MaxPoolin  (None, 64, 64, 50)       0         \n",
      " g2D)                                                            \n",
      "                                                                 \n",
      " conv2d_43 (Conv2D)          (None, 64, 64, 80)        36080     \n",
      "                                                                 \n",
      " batch_normalization_45 (Bat  (None, 64, 64, 80)       320       \n",
      " chNormalization)                                                \n",
      "                                                                 \n",
      " activation_49 (Activation)  (None, 64, 64, 80)        0         \n",
      "                                                                 \n",
      " dropout_28 (Dropout)        (None, 64, 64, 80)        0         \n",
      "                                                                 \n",
      " conv2d_44 (Conv2D)          (None, 64, 64, 80)        57680     \n",
      "                                                                 \n",
      " batch_normalization_46 (Bat  (None, 64, 64, 80)       320       \n",
      " chNormalization)                                                \n",
      "                                                                 \n",
      " activation_50 (Activation)  (None, 64, 64, 80)        0         \n",
      "                                                                 \n",
      " max_pooling2d_24 (MaxPoolin  (None, 32, 32, 80)       0         \n",
      " g2D)                                                            \n",
      "                                                                 \n",
      " flatten_10 (Flatten)        (None, 81920)             0         \n",
      "                                                                 \n",
      " dense_16 (Dense)            (None, 50)                4096050   \n",
      "                                                                 \n",
      " activation_51 (Activation)  (None, 50)                0         \n",
      "                                                                 \n",
      " dropout_29 (Dropout)        (None, 50)                0         \n",
      "                                                                 \n",
      " dense_17 (Dense)            (None, 10)                510       \n",
      "                                                                 \n",
      "=================================================================\n",
      "Total params: 4,236,670\n",
      "Trainable params: 4,236,030\n",
      "Non-trainable params: 640\n",
      "_________________________________________________________________\n"
     ]
    }
   ],
   "source": [
    "pool_size = 2\n",
    "    \n",
    "model3 = Sequential([\n",
    "  keras.Input(shape=(256,256,3)),\n",
    "  Conv2D(filters = 30, kernel_size = (3,3), padding='same'),  \n",
    "  BatchNormalization(),                                       \n",
    "  Activation('relu'),\n",
    "  Dropout(0.5),\n",
    "  Conv2D(filters = 30, kernel_size = (3,3), padding='same'),  \n",
    "  BatchNormalization(),                                       \n",
    "  Activation('relu'),                                          \n",
    "  MaxPooling2D(pool_size=pool_size),                         \n",
    "\n",
    "  Conv2D(filters = 50, kernel_size = (3,3), padding='same'),\n",
    "  BatchNormalization(),\n",
    "  Activation('relu'),\n",
    "  Dropout(0.5),\n",
    "  Conv2D(filters = 50, kernel_size = (3,3), padding='same'),  \n",
    "  BatchNormalization(),                                       \n",
    "  Activation('relu'),\n",
    "  MaxPooling2D(pool_size=pool_size),                         \n",
    "\n",
    "  Conv2D(filters = 80, kernel_size = (3,3), padding='same'),\n",
    "  BatchNormalization(),\n",
    "  Activation('relu'),\n",
    "  Dropout(0.5),\n",
    "  Conv2D(filters = 80, kernel_size = (3,3), padding='same'),  \n",
    "  BatchNormalization(),                                       \n",
    "  Activation('relu'), \n",
    "  MaxPooling2D(pool_size=pool_size),                         \n",
    "\n",
    "  Flatten(),\n",
    "  Dense(50),\n",
    "  Activation('relu'),\n",
    "  Dropout(0.5),                                          \n",
    "  \n",
    "  Dense(10, activation='softmax'),\n",
    "])\n",
    "\n",
    "model3.summary()"
   ]
  },
  {
   "cell_type": "code",
   "execution_count": 67,
   "id": "e89f19e0",
   "metadata": {
    "id": "e89f19e0"
   },
   "outputs": [],
   "source": [
    "model3.compile(\n",
    "  optimizer='adam',\n",
    "  loss='categorical_crossentropy',\n",
    "  metrics=['accuracy']\n",
    ")"
   ]
  },
  {
   "cell_type": "code",
   "execution_count": 46,
   "id": "p4pM2yk4rCIl",
   "metadata": {
    "colab": {
     "base_uri": "https://localhost:8080/"
    },
    "id": "p4pM2yk4rCIl",
    "outputId": "76f3d258-b11f-484c-87d0-c8fa59944474"
   },
   "outputs": [
    {
     "name": "stdout",
     "output_type": "stream",
     "text": [
      "Epoch 1/15\n",
      "20/20 [==============================] - 24s 953ms/step - loss: 3.0649 - accuracy: 0.1060 - val_loss: 2.3023 - val_accuracy: 0.1111\n",
      "Epoch 2/15\n",
      "20/20 [==============================] - 15s 727ms/step - loss: 2.3021 - accuracy: 0.1032 - val_loss: 2.3020 - val_accuracy: 0.1111\n",
      "Epoch 3/15\n",
      "20/20 [==============================] - 15s 764ms/step - loss: 2.3013 - accuracy: 0.1198 - val_loss: 2.3018 - val_accuracy: 0.0926\n",
      "Epoch 4/15\n",
      "20/20 [==============================] - 15s 749ms/step - loss: 2.3004 - accuracy: 0.1190 - val_loss: 2.3016 - val_accuracy: 0.0926\n",
      "Epoch 5/15\n",
      "20/20 [==============================] - 15s 732ms/step - loss: 2.2998 - accuracy: 0.1190 - val_loss: 2.3016 - val_accuracy: 0.0926\n",
      "Epoch 6/15\n",
      "20/20 [==============================] - 15s 729ms/step - loss: 2.2991 - accuracy: 0.1190 - val_loss: 2.3014 - val_accuracy: 0.0926\n",
      "Epoch 7/15\n",
      "20/20 [==============================] - 15s 729ms/step - loss: 2.2986 - accuracy: 0.1190 - val_loss: 2.3015 - val_accuracy: 0.0926\n",
      "Epoch 8/15\n",
      "20/20 [==============================] - 15s 730ms/step - loss: 2.2980 - accuracy: 0.1190 - val_loss: 2.3015 - val_accuracy: 0.0926\n",
      "Epoch 9/15\n",
      "20/20 [==============================] - 15s 736ms/step - loss: 2.2975 - accuracy: 0.1190 - val_loss: 2.3016 - val_accuracy: 0.0926\n",
      "Epoch 10/15\n",
      "20/20 [==============================] - 15s 733ms/step - loss: 2.2972 - accuracy: 0.1190 - val_loss: 2.3017 - val_accuracy: 0.0926\n",
      "Epoch 11/15\n",
      "20/20 [==============================] - 15s 733ms/step - loss: 2.2968 - accuracy: 0.1190 - val_loss: 2.3017 - val_accuracy: 0.0926\n",
      "Epoch 12/15\n",
      "20/20 [==============================] - 15s 728ms/step - loss: 2.2964 - accuracy: 0.1190 - val_loss: 2.3017 - val_accuracy: 0.0926\n",
      "Epoch 13/15\n",
      "20/20 [==============================] - 15s 741ms/step - loss: 2.2962 - accuracy: 0.1190 - val_loss: 2.3019 - val_accuracy: 0.0926\n",
      "Epoch 14/15\n",
      "20/20 [==============================] - 15s 734ms/step - loss: 2.2959 - accuracy: 0.1190 - val_loss: 2.3020 - val_accuracy: 0.0926\n",
      "Epoch 15/15\n",
      "20/20 [==============================] - 15s 732ms/step - loss: 2.2957 - accuracy: 0.1190 - val_loss: 2.3022 - val_accuracy: 0.0926\n"
     ]
    }
   ],
   "source": [
    "history3= model3.fit(\n",
    "    train_generator,\n",
    "    epochs=15,\n",
    "    validation_data=valid_generator,\n",
    "    shuffle=True)"
   ]
  },
  {
   "cell_type": "code",
   "execution_count": 47,
   "id": "CUQQkkBj3rRV",
   "metadata": {
    "colab": {
     "base_uri": "https://localhost:8080/",
     "height": 336
    },
    "id": "CUQQkkBj3rRV",
    "outputId": "77be87d4-25d5-4d56-9c3b-5e03baf2e1f3"
   },
   "outputs": [
    {
     "data": {
      "image/png": "[encoded data removed]",
      "text/plain": [
       "<Figure size 1008x360 with 2 Axes>"
      ]
     },
     "metadata": {
      "needs_background": "light"
     },
     "output_type": "display_data"
    }
   ],
   "source": [
    "plt.figure(figsize=(14, 5))\n",
    "\n",
    "plt.subplot(1, 2, 1)\n",
    "plt.plot(history3.history['accuracy'], label='Training Accuracy')\n",
    "plt.plot(history3.history['val_accuracy'], label='Validation Accuracy')\n",
    "plt.legend(loc='lower right')\n",
    "plt.title('Training and Validation Accuracy')\n",
    "\n",
    "plt.subplot(1, 2, 2)\n",
    "plt.plot(history3.history['loss'], label='Training Loss')\n",
    "plt.plot(history3.history['val_loss'], label='Validation Loss')\n",
    "plt.legend(loc='upper right')\n",
    "plt.title('Training and Validation Loss')\n",
    "\n",
    "plt.show()"
   ]
  },
  {
   "cell_type": "markdown",
   "id": "holwcIRM6nh8",
   "metadata": {
    "id": "holwcIRM6nh8"
   },
   "source": [
    "- 학습을 진행할수록 accuracy,loss값에 큰 변화가 없음\n",
    "- train에 대해서도 학습이 잘 되지 않음\n",
    "- 최고 val_accuracy는 0.1111 (dropout 적용 안한 것보다 낮음)"
   ]
  }
 ],
 "metadata": {
  "accelerator": "GPU",
  "colab": {
   "collapsed_sections": [
    "731376d1",
    "d123d904",
    "kLR-UFZ9xAMg",
    "I0_FxxZKzTvn",
    "8rePAfzjylTz",
    "x9z0GyUe1WS3",
    "y3PbS_az1_d1",
    "HrNZ_bJS1-oh",
    "5809Bk-O5Q0T",
    "nf4qlZH26bCX"
   ],
   "provenance": []
  },
  "gpuClass": "standard",
  "kernelspec": {
   "display_name": "Python 3 (ipykernel)",
   "language": "python",
   "name": "python3"
  },
  "language_info": {
   "codemirror_mode": {
    "name": "ipython",
    "version": 3
   },
   "file_extension": ".py",
   "mimetype": "text/x-python",
   "name": "python",
   "nbconvert_exporter": "python",
   "pygments_lexer": "ipython3",
   "version": "3.9.13"
  }
 },
 "nbformat": 4,
 "nbformat_minor": 5
}
