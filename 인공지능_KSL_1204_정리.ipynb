{
 "cells": [
  {
   "cell_type": "markdown",
   "id": "731376d1",
   "metadata": {
    "id": "731376d1"
   },
   "source": [
    "## 0. 모듈 불러오기"
   ]
  },
  {
   "cell_type": "code",
   "execution_count": null,
   "id": "52d4c3d5",
   "metadata": {
    "id": "52d4c3d5"
   },
   "outputs": [],
   "source": [
    "import os\n",
    "import glob\n",
    "from pathlib import Path\n",
    "\n",
    "import pandas as pd\n",
    "import numpy as np\n",
    "import seaborn as sns\n",
    "import matplotlib.pyplot as plt\n",
    "import random\n",
    "import math\n",
    "\n",
    "import pickle\n",
    "import cv2\n",
    "import mediapipe as mp\n",
    "\n",
    "from tensorflow.keras.preprocessing.image import ImageDataGenerator\n",
    "\n",
    "from tensorflow.keras import models, layers, Model\n",
    "from tensorflow.keras.models import Sequential\n",
    "from tensorflow.keras.layers import Conv2D, MaxPooling2D, Activation\n",
    "from tensorflow.keras.layers import Dense, Dropout, Flatten, BatchNormalization\n",
    "from tensorflow import keras\n",
    "\n",
    "from keras.callbacks import ModelCheckpoint\n",
    "\n",
    "from keras.layers import Dense, Dropout, Flatten, Conv2D, BatchNormalization, MaxPooling2D,\\\n",
    "                        Permute, TimeDistributed, Bidirectional,GRU, LeakyReLU, SimpleRNN,\\\n",
    "LSTM, GlobalAveragePooling2D, SeparableConv2D, ZeroPadding2D, Reshape\n",
    "from keras import models\n",
    "from keras import layers\n",
    "import tensorflow as tf"
   ]
  },
  {
   "cell_type": "markdown",
   "id": "d123d904",
   "metadata": {
    "id": "d123d904"
   },
   "source": [
    "## 1. 영상 데이터 확인"
   ]
  },
  {
   "cell_type": "code",
   "execution_count": null,
   "id": "09ee404b",
   "metadata": {
    "id": "09ee404b"
   },
   "outputs": [],
   "source": [
    "Main_Video_Path = Path('C:/Users/HOME/Desktop/AI_project/KSL/KSL_ACTION_VIDEO')\n",
    "Video_Path = list(Main_Video_Path.glob(r'*/*.MP4'))\n",
    "Video_Labels = list(map(lambda x: os.path.split(os.path.split(x)[0])[1],Video_Path))\n",
    "Video_Path_Series = pd.Series(Video_Path,name='MP4').astype(str)\n",
    "Video_Labels_Series = pd.Series(Video_Labels,name='CATEGORY')\n",
    "video_df = pd.concat([Video_Path_Series,Video_Labels_Series],axis=1)"
   ]
  },
  {
   "cell_type": "code",
   "execution_count": null,
   "id": "55cdafbb",
   "metadata": {
    "id": "55cdafbb"
   },
   "outputs": [],
   "source": [
    "video_df.sort_values(by=['CATEGORY'],ignore_index=True,inplace=True)"
   ]
  },
  {
   "cell_type": "code",
   "execution_count": null,
   "id": "a0413f07",
   "metadata": {
    "id": "a0413f07",
    "outputId": "c40e7ac7-b8ee-4962-836d-9fa88fbc76eb"
   },
   "outputs": [
    {
     "data": {
      "text/html": [
       "<div>\n",
       "<style scoped>\n",
       "    .dataframe tbody tr th:only-of-type {\n",
       "        vertical-align: middle;\n",
       "    }\n",
       "\n",
       "    .dataframe tbody tr th {\n",
       "        vertical-align: top;\n",
       "    }\n",
       "\n",
       "    .dataframe thead th {\n",
       "        text-align: right;\n",
       "    }\n",
       "</style>\n",
       "<table border=\"1\" class=\"dataframe\">\n",
       "  <thead>\n",
       "    <tr style=\"text-align: right;\">\n",
       "      <th></th>\n",
       "      <th>MP4</th>\n",
       "      <th>CATEGORY</th>\n",
       "    </tr>\n",
       "  </thead>\n",
       "  <tbody>\n",
       "    <tr>\n",
       "      <th>0</th>\n",
       "      <td>C:\\Users\\HOME\\Desktop\\AI_project\\KSL\\KSL_ACTIO...</td>\n",
       "      <td>01</td>\n",
       "    </tr>\n",
       "    <tr>\n",
       "      <th>1</th>\n",
       "      <td>C:\\Users\\HOME\\Desktop\\AI_project\\KSL\\KSL_ACTIO...</td>\n",
       "      <td>01</td>\n",
       "    </tr>\n",
       "    <tr>\n",
       "      <th>2</th>\n",
       "      <td>C:\\Users\\HOME\\Desktop\\AI_project\\KSL\\KSL_ACTIO...</td>\n",
       "      <td>01</td>\n",
       "    </tr>\n",
       "    <tr>\n",
       "      <th>3</th>\n",
       "      <td>C:\\Users\\HOME\\Desktop\\AI_project\\KSL\\KSL_ACTIO...</td>\n",
       "      <td>01</td>\n",
       "    </tr>\n",
       "    <tr>\n",
       "      <th>4</th>\n",
       "      <td>C:\\Users\\HOME\\Desktop\\AI_project\\KSL\\KSL_ACTIO...</td>\n",
       "      <td>01</td>\n",
       "    </tr>\n",
       "    <tr>\n",
       "      <th>...</th>\n",
       "      <td>...</td>\n",
       "      <td>...</td>\n",
       "    </tr>\n",
       "    <tr>\n",
       "      <th>1224</th>\n",
       "      <td>C:\\Users\\HOME\\Desktop\\AI_project\\KSL\\KSL_ACTIO...</td>\n",
       "      <td>77</td>\n",
       "    </tr>\n",
       "    <tr>\n",
       "      <th>1225</th>\n",
       "      <td>C:\\Users\\HOME\\Desktop\\AI_project\\KSL\\KSL_ACTIO...</td>\n",
       "      <td>77</td>\n",
       "    </tr>\n",
       "    <tr>\n",
       "      <th>1226</th>\n",
       "      <td>C:\\Users\\HOME\\Desktop\\AI_project\\KSL\\KSL_ACTIO...</td>\n",
       "      <td>77</td>\n",
       "    </tr>\n",
       "    <tr>\n",
       "      <th>1227</th>\n",
       "      <td>C:\\Users\\HOME\\Desktop\\AI_project\\KSL\\KSL_ACTIO...</td>\n",
       "      <td>77</td>\n",
       "    </tr>\n",
       "    <tr>\n",
       "      <th>1228</th>\n",
       "      <td>C:\\Users\\HOME\\Desktop\\AI_project\\KSL\\KSL_ACTIO...</td>\n",
       "      <td>77</td>\n",
       "    </tr>\n",
       "  </tbody>\n",
       "</table>\n",
       "<p>1229 rows × 2 columns</p>\n",
       "</div>"
      ],
      "text/plain": [
       "                                                    MP4 CATEGORY\n",
       "0     C:\\Users\\HOME\\Desktop\\AI_project\\KSL\\KSL_ACTIO...       01\n",
       "1     C:\\Users\\HOME\\Desktop\\AI_project\\KSL\\KSL_ACTIO...       01\n",
       "2     C:\\Users\\HOME\\Desktop\\AI_project\\KSL\\KSL_ACTIO...       01\n",
       "3     C:\\Users\\HOME\\Desktop\\AI_project\\KSL\\KSL_ACTIO...       01\n",
       "4     C:\\Users\\HOME\\Desktop\\AI_project\\KSL\\KSL_ACTIO...       01\n",
       "...                                                 ...      ...\n",
       "1224  C:\\Users\\HOME\\Desktop\\AI_project\\KSL\\KSL_ACTIO...       77\n",
       "1225  C:\\Users\\HOME\\Desktop\\AI_project\\KSL\\KSL_ACTIO...       77\n",
       "1226  C:\\Users\\HOME\\Desktop\\AI_project\\KSL\\KSL_ACTIO...       77\n",
       "1227  C:\\Users\\HOME\\Desktop\\AI_project\\KSL\\KSL_ACTIO...       77\n",
       "1228  C:\\Users\\HOME\\Desktop\\AI_project\\KSL\\KSL_ACTIO...       77\n",
       "\n",
       "[1229 rows x 2 columns]"
      ]
     },
     "execution_count": 117,
     "metadata": {},
     "output_type": "execute_result"
    }
   ],
   "source": [
    "video_df"
   ]
  },
  {
   "cell_type": "code",
   "execution_count": null,
   "id": "b3499fad",
   "metadata": {
    "id": "b3499fad",
    "outputId": "d71f1732-077b-47d3-9fc5-1364fd4e871a"
   },
   "outputs": [
    {
     "data": {
      "text/html": [
       "<div>\n",
       "<style scoped>\n",
       "    .dataframe tbody tr th:only-of-type {\n",
       "        vertical-align: middle;\n",
       "    }\n",
       "\n",
       "    .dataframe tbody tr th {\n",
       "        vertical-align: top;\n",
       "    }\n",
       "\n",
       "    .dataframe thead th {\n",
       "        text-align: right;\n",
       "    }\n",
       "</style>\n",
       "<table border=\"1\" class=\"dataframe\">\n",
       "  <thead>\n",
       "    <tr style=\"text-align: right;\">\n",
       "      <th></th>\n",
       "      <th>MP4</th>\n",
       "    </tr>\n",
       "    <tr>\n",
       "      <th>CATEGORY</th>\n",
       "      <th></th>\n",
       "    </tr>\n",
       "  </thead>\n",
       "  <tbody>\n",
       "    <tr>\n",
       "      <th>01</th>\n",
       "      <td>20</td>\n",
       "    </tr>\n",
       "    <tr>\n",
       "      <th>02</th>\n",
       "      <td>20</td>\n",
       "    </tr>\n",
       "    <tr>\n",
       "      <th>03</th>\n",
       "      <td>20</td>\n",
       "    </tr>\n",
       "    <tr>\n",
       "      <th>04</th>\n",
       "      <td>20</td>\n",
       "    </tr>\n",
       "    <tr>\n",
       "      <th>05</th>\n",
       "      <td>19</td>\n",
       "    </tr>\n",
       "    <tr>\n",
       "      <th>...</th>\n",
       "      <td>...</td>\n",
       "    </tr>\n",
       "    <tr>\n",
       "      <th>71</th>\n",
       "      <td>14</td>\n",
       "    </tr>\n",
       "    <tr>\n",
       "      <th>72</th>\n",
       "      <td>19</td>\n",
       "    </tr>\n",
       "    <tr>\n",
       "      <th>74</th>\n",
       "      <td>20</td>\n",
       "    </tr>\n",
       "    <tr>\n",
       "      <th>76</th>\n",
       "      <td>20</td>\n",
       "    </tr>\n",
       "    <tr>\n",
       "      <th>77</th>\n",
       "      <td>20</td>\n",
       "    </tr>\n",
       "  </tbody>\n",
       "</table>\n",
       "<p>67 rows × 1 columns</p>\n",
       "</div>"
      ],
      "text/plain": [
       "          MP4\n",
       "CATEGORY     \n",
       "01         20\n",
       "02         20\n",
       "03         20\n",
       "04         20\n",
       "05         19\n",
       "...       ...\n",
       "71         14\n",
       "72         19\n",
       "74         20\n",
       "76         20\n",
       "77         20\n",
       "\n",
       "[67 rows x 1 columns]"
      ]
     },
     "execution_count": 118,
     "metadata": {},
     "output_type": "execute_result"
    }
   ],
   "source": [
    "video_df.groupby('CATEGORY').agg('count')"
   ]
  },
  {
   "cell_type": "markdown",
   "id": "7309be93",
   "metadata": {
    "id": "7309be93"
   },
   "source": [
    "- 라벨(카테고리)는 총 67개"
   ]
  },
  {
   "cell_type": "code",
   "execution_count": null,
   "id": "1ea34168",
   "metadata": {
    "id": "1ea34168",
    "outputId": "11f97817-e2a6-4aa3-9916-a4200572bdab"
   },
   "outputs": [
    {
     "data": {
      "text/plain": [
       "<AxesSubplot:xlabel='CATEGORY', ylabel='count'>"
      ]
     },
     "execution_count": 119,
     "metadata": {},
     "output_type": "execute_result"
    },
    {
     "data": {
      "image/png": "[encoded data removed]",
      "text/plain": [
       "<Figure size 1500x1200 with 1 Axes>"
      ]
     },
     "metadata": {},
     "output_type": "display_data"
    }
   ],
   "source": [
    "plt.figure(figsize=(15,12))\n",
    "sns.countplot(data=video_df, x='CATEGORY')"
   ]
  },
  {
   "cell_type": "markdown",
   "id": "Qu3jucoJwjJ6",
   "metadata": {
    "id": "Qu3jucoJwjJ6"
   },
   "source": [
    "### 선정한 10개 단어만 분리"
   ]
  },
  {
   "cell_type": "code",
   "execution_count": null,
   "id": "dd36be9c",
   "metadata": {
    "id": "dd36be9c",
    "outputId": "a357d953-29f3-4d13-df97-24cb83c12cbe"
   },
   "outputs": [
    {
     "data": {
      "text/html": [
       "<div>\n",
       "<style scoped>\n",
       "    .dataframe tbody tr th:only-of-type {\n",
       "        vertical-align: middle;\n",
       "    }\n",
       "\n",
       "    .dataframe tbody tr th {\n",
       "        vertical-align: top;\n",
       "    }\n",
       "\n",
       "    .dataframe thead th {\n",
       "        text-align: right;\n",
       "    }\n",
       "</style>\n",
       "<table border=\"1\" class=\"dataframe\">\n",
       "  <thead>\n",
       "    <tr style=\"text-align: right;\">\n",
       "      <th></th>\n",
       "      <th>MP4</th>\n",
       "      <th>CATEGORY</th>\n",
       "    </tr>\n",
       "  </thead>\n",
       "  <tbody>\n",
       "    <tr>\n",
       "      <th>0</th>\n",
       "      <td>C:\\Users\\HOME\\Desktop\\AI_project\\KSL\\KSL_ACTIO...</td>\n",
       "      <td>01</td>\n",
       "    </tr>\n",
       "    <tr>\n",
       "      <th>1</th>\n",
       "      <td>C:\\Users\\HOME\\Desktop\\AI_project\\KSL\\KSL_ACTIO...</td>\n",
       "      <td>01</td>\n",
       "    </tr>\n",
       "    <tr>\n",
       "      <th>2</th>\n",
       "      <td>C:\\Users\\HOME\\Desktop\\AI_project\\KSL\\KSL_ACTIO...</td>\n",
       "      <td>01</td>\n",
       "    </tr>\n",
       "    <tr>\n",
       "      <th>3</th>\n",
       "      <td>C:\\Users\\HOME\\Desktop\\AI_project\\KSL\\KSL_ACTIO...</td>\n",
       "      <td>01</td>\n",
       "    </tr>\n",
       "    <tr>\n",
       "      <th>4</th>\n",
       "      <td>C:\\Users\\HOME\\Desktop\\AI_project\\KSL\\KSL_ACTIO...</td>\n",
       "      <td>01</td>\n",
       "    </tr>\n",
       "    <tr>\n",
       "      <th>...</th>\n",
       "      <td>...</td>\n",
       "      <td>...</td>\n",
       "    </tr>\n",
       "    <tr>\n",
       "      <th>1224</th>\n",
       "      <td>C:\\Users\\HOME\\Desktop\\AI_project\\KSL\\KSL_ACTIO...</td>\n",
       "      <td>77</td>\n",
       "    </tr>\n",
       "    <tr>\n",
       "      <th>1225</th>\n",
       "      <td>C:\\Users\\HOME\\Desktop\\AI_project\\KSL\\KSL_ACTIO...</td>\n",
       "      <td>77</td>\n",
       "    </tr>\n",
       "    <tr>\n",
       "      <th>1226</th>\n",
       "      <td>C:\\Users\\HOME\\Desktop\\AI_project\\KSL\\KSL_ACTIO...</td>\n",
       "      <td>77</td>\n",
       "    </tr>\n",
       "    <tr>\n",
       "      <th>1227</th>\n",
       "      <td>C:\\Users\\HOME\\Desktop\\AI_project\\KSL\\KSL_ACTIO...</td>\n",
       "      <td>77</td>\n",
       "    </tr>\n",
       "    <tr>\n",
       "      <th>1228</th>\n",
       "      <td>C:\\Users\\HOME\\Desktop\\AI_project\\KSL\\KSL_ACTIO...</td>\n",
       "      <td>77</td>\n",
       "    </tr>\n",
       "  </tbody>\n",
       "</table>\n",
       "<p>180 rows × 2 columns</p>\n",
       "</div>"
      ],
      "text/plain": [
       "                                                    MP4 CATEGORY\n",
       "0     C:\\Users\\HOME\\Desktop\\AI_project\\KSL\\KSL_ACTIO...       01\n",
       "1     C:\\Users\\HOME\\Desktop\\AI_project\\KSL\\KSL_ACTIO...       01\n",
       "2     C:\\Users\\HOME\\Desktop\\AI_project\\KSL\\KSL_ACTIO...       01\n",
       "3     C:\\Users\\HOME\\Desktop\\AI_project\\KSL\\KSL_ACTIO...       01\n",
       "4     C:\\Users\\HOME\\Desktop\\AI_project\\KSL\\KSL_ACTIO...       01\n",
       "...                                                 ...      ...\n",
       "1224  C:\\Users\\HOME\\Desktop\\AI_project\\KSL\\KSL_ACTIO...       77\n",
       "1225  C:\\Users\\HOME\\Desktop\\AI_project\\KSL\\KSL_ACTIO...       77\n",
       "1226  C:\\Users\\HOME\\Desktop\\AI_project\\KSL\\KSL_ACTIO...       77\n",
       "1227  C:\\Users\\HOME\\Desktop\\AI_project\\KSL\\KSL_ACTIO...       77\n",
       "1228  C:\\Users\\HOME\\Desktop\\AI_project\\KSL\\KSL_ACTIO...       77\n",
       "\n",
       "[180 rows x 2 columns]"
      ]
     },
     "execution_count": 120,
     "metadata": {},
     "output_type": "execute_result"
    }
   ],
   "source": [
    "video_df_slct=video_df[(video_df['CATEGORY']=='15')|(video_df['CATEGORY']=='13')|(video_df['CATEGORY']=='60')|\n",
    "                       (video_df['CATEGORY']=='01')|(video_df['CATEGORY']=='07')|(video_df['CATEGORY']=='55')|\n",
    "                       (video_df['CATEGORY']=='77')|(video_df['CATEGORY']=='11')|(video_df['CATEGORY']=='16')|\n",
    "                       (video_df['CATEGORY']=='17')]\n",
    "video_df_slct"
   ]
  },
  {
   "cell_type": "code",
   "execution_count": null,
   "id": "ovtk5A5IwRYf",
   "metadata": {
    "colab": {
     "base_uri": "https://localhost:8080/",
     "height": 394
    },
    "id": "ovtk5A5IwRYf",
    "outputId": "1368968a-f665-4478-f5e1-fb040967e1dd"
   },
   "outputs": [
    {
     "data": {
      "text/html": [
       "\n",
       "  <div id=\"df-444a4194-90c3-4ca3-9536-f800ff2781de\">\n",
       "    <div class=\"colab-df-container\">\n",
       "      <div>\n",
       "<style scoped>\n",
       "    .dataframe tbody tr th:only-of-type {\n",
       "        vertical-align: middle;\n",
       "    }\n",
       "\n",
       "    .dataframe tbody tr th {\n",
       "        vertical-align: top;\n",
       "    }\n",
       "\n",
       "    .dataframe thead th {\n",
       "        text-align: right;\n",
       "    }\n",
       "</style>\n",
       "<table border=\"1\" class=\"dataframe\">\n",
       "  <thead>\n",
       "    <tr style=\"text-align: right;\">\n",
       "      <th></th>\n",
       "      <th>MP4</th>\n",
       "    </tr>\n",
       "    <tr>\n",
       "      <th>CATEGORY</th>\n",
       "      <th></th>\n",
       "    </tr>\n",
       "  </thead>\n",
       "  <tbody>\n",
       "    <tr>\n",
       "      <th>01</th>\n",
       "      <td>20</td>\n",
       "    </tr>\n",
       "    <tr>\n",
       "      <th>07</th>\n",
       "      <td>19</td>\n",
       "    </tr>\n",
       "    <tr>\n",
       "      <th>11</th>\n",
       "      <td>15</td>\n",
       "    </tr>\n",
       "    <tr>\n",
       "      <th>13</th>\n",
       "      <td>20</td>\n",
       "    </tr>\n",
       "    <tr>\n",
       "      <th>15</th>\n",
       "      <td>16</td>\n",
       "    </tr>\n",
       "    <tr>\n",
       "      <th>16</th>\n",
       "      <td>17</td>\n",
       "    </tr>\n",
       "    <tr>\n",
       "      <th>17</th>\n",
       "      <td>19</td>\n",
       "    </tr>\n",
       "    <tr>\n",
       "      <th>55</th>\n",
       "      <td>19</td>\n",
       "    </tr>\n",
       "    <tr>\n",
       "      <th>60</th>\n",
       "      <td>15</td>\n",
       "    </tr>\n",
       "    <tr>\n",
       "      <th>77</th>\n",
       "      <td>20</td>\n",
       "    </tr>\n",
       "  </tbody>\n",
       "</table>\n",
       "</div>\n",
       "      <button class=\"colab-df-convert\" onclick=\"convertToInteractive('df-444a4194-90c3-4ca3-9536-f800ff2781de')\"\n",
       "              title=\"Convert this dataframe to an interactive table.\"\n",
       "              style=\"display:none;\">\n",
       "        \n",
       "  <svg xmlns=\"http://www.w3.org/2000/svg\" height=\"24px\"viewBox=\"0 0 24 24\"\n",
       "       width=\"24px\">\n",
       "    <path d=\"M0 0h24v24H0V0z\" fill=\"none\"/>\n",
       "    <path d=\"M18.56 5.44l.94 2.06.94-2.06 2.06-.94-2.06-.94-.94-2.06-.94 2.06-2.06.94zm-11 1L8.5 8.5l.94-2.06 2.06-.94-2.06-.94L8.5 2.5l-.94 2.06-2.06.94zm10 10l.94 2.06.94-2.06 2.06-.94-2.06-.94-.94-2.06-.94 2.06-2.06.94z\"/><path d=\"M17.41 7.96l-1.37-1.37c-.4-.4-.92-.59-1.43-.59-.52 0-1.04.2-1.43.59L10.3 9.45l-7.72 7.72c-.78.78-.78 2.05 0 2.83L4 21.41c.39.39.9.59 1.41.59.51 0 1.02-.2 1.41-.59l7.78-7.78 2.81-2.81c.8-.78.8-2.07 0-2.86zM5.41 20L4 18.59l7.72-7.72 1.47 1.35L5.41 20z\"/>\n",
       "  </svg>\n",
       "      </button>\n",
       "      \n",
       "  <style>\n",
       "    .colab-df-container {\n",
       "      display:flex;\n",
       "      flex-wrap:wrap;\n",
       "      gap: 12px;\n",
       "    }\n",
       "\n",
       "    .colab-df-convert {\n",
       "      background-color: #E8F0FE;\n",
       "      border: none;\n",
       "      border-radius: 50%;\n",
       "      cursor: pointer;\n",
       "      display: none;\n",
       "      fill: #1967D2;\n",
       "      height: 32px;\n",
       "      padding: 0 0 0 0;\n",
       "      width: 32px;\n",
       "    }\n",
       "\n",
       "    .colab-df-convert:hover {\n",
       "      background-color: #E2EBFA;\n",
       "      box-shadow: 0px 1px 2px rgba(60, 64, 67, 0.3), 0px 1px 3px 1px rgba(60, 64, 67, 0.15);\n",
       "      fill: #174EA6;\n",
       "    }\n",
       "\n",
       "    [theme=dark] .colab-df-convert {\n",
       "      background-color: #3B4455;\n",
       "      fill: #D2E3FC;\n",
       "    }\n",
       "\n",
       "    [theme=dark] .colab-df-convert:hover {\n",
       "      background-color: #434B5C;\n",
       "      box-shadow: 0px 1px 3px 1px rgba(0, 0, 0, 0.15);\n",
       "      filter: drop-shadow(0px 1px 2px rgba(0, 0, 0, 0.3));\n",
       "      fill: #FFFFFF;\n",
       "    }\n",
       "  </style>\n",
       "\n",
       "      <script>\n",
       "        const buttonEl =\n",
       "          document.querySelector('#df-444a4194-90c3-4ca3-9536-f800ff2781de button.colab-df-convert');\n",
       "        buttonEl.style.display =\n",
       "          google.colab.kernel.accessAllowed ? 'block' : 'none';\n",
       "\n",
       "        async function convertToInteractive(key) {\n",
       "          const element = document.querySelector('#df-444a4194-90c3-4ca3-9536-f800ff2781de');\n",
       "          const dataTable =\n",
       "            await google.colab.kernel.invokeFunction('convertToInteractive',\n",
       "                                                     [key], {});\n",
       "          if (!dataTable) return;\n",
       "\n",
       "          const docLinkHtml = 'Like what you see? Visit the ' +\n",
       "            '<a target=\"_blank\" href=https://colab.research.google.com/notebooks/data_table.ipynb>data table notebook</a>'\n",
       "            + ' to learn more about interactive tables.';\n",
       "          element.innerHTML = '';\n",
       "          dataTable['output_type'] = 'display_data';\n",
       "          await google.colab.output.renderOutput(dataTable, element);\n",
       "          const docLink = document.createElement('div');\n",
       "          docLink.innerHTML = docLinkHtml;\n",
       "          element.appendChild(docLink);\n",
       "        }\n",
       "      </script>\n",
       "    </div>\n",
       "  </div>\n",
       "  "
      ],
      "text/plain": [
       "          MP4\n",
       "CATEGORY     \n",
       "01         20\n",
       "07         19\n",
       "11         15\n",
       "13         20\n",
       "15         16\n",
       "16         17\n",
       "17         19\n",
       "55         19\n",
       "60         15\n",
       "77         20"
      ]
     },
     "execution_count": 10,
     "metadata": {},
     "output_type": "execute_result"
    }
   ],
   "source": [
    "video_df_slct.groupby('CATEGORY').agg('count')"
   ]
  },
  {
   "cell_type": "code",
   "execution_count": null,
   "id": "nsXza85MwUai",
   "metadata": {
    "colab": {
     "base_uri": "https://localhost:8080/",
     "height": 298
    },
    "id": "nsXza85MwUai",
    "outputId": "99fa26c2-043f-4b94-b89f-0f768c7fa05e"
   },
   "outputs": [
    {
     "data": {
      "text/plain": [
       "<matplotlib.axes._subplots.AxesSubplot at 0x7f533bc123d0>"
      ]
     },
     "execution_count": 11,
     "metadata": {},
     "output_type": "execute_result"
    },
    {
     "data": {
      "image/png": "[encoded data removed]",
      "text/plain": [
       "<Figure size 432x288 with 1 Axes>"
      ]
     },
     "metadata": {
      "needs_background": "light"
     },
     "output_type": "display_data"
    }
   ],
   "source": [
    "sns.countplot(data=video_df_slct, x='CATEGORY')"
   ]
  },
  {
   "cell_type": "markdown",
   "id": "ab622f29",
   "metadata": {
    "id": "ab622f29"
   },
   "source": [
    "- 라벨별로 14~20개의 영상이 존재함"
   ]
  },
  {
   "cell_type": "code",
   "execution_count": null,
   "id": "19492139",
   "metadata": {
    "id": "19492139"
   },
   "outputs": [],
   "source": []
  },
  {
   "cell_type": "markdown",
   "id": "NrjLFPJ-wxMh",
   "metadata": {
    "id": "NrjLFPJ-wxMh"
   },
   "source": [
    "## 2. 이미지(프레임) 데이터 확인 및 전처리"
   ]
  },
  {
   "cell_type": "markdown",
   "id": "kLR-UFZ9xAMg",
   "metadata": {
    "id": "kLR-UFZ9xAMg"
   },
   "source": [
    "### 파일에 대한 정보를 데이터프레임으로 만들기"
   ]
  },
  {
   "cell_type": "code",
   "execution_count": null,
   "id": "b6d5ebab",
   "metadata": {
    "id": "b6d5ebab"
   },
   "outputs": [],
   "source": [
    "directory = \"C:/Users/HOME/Desktop/AI_project/KSL/KSL_rgb\""
   ]
  },
  {
   "cell_type": "code",
   "execution_count": null,
   "id": "e59934d6",
   "metadata": {
    "id": "e59934d6"
   },
   "outputs": [],
   "source": [
    "Class_name = os.listdir(directory)"
   ]
  },
  {
   "cell_type": "code",
   "execution_count": null,
   "id": "f1c93fa5",
   "metadata": {
    "id": "f1c93fa5"
   },
   "outputs": [],
   "source": [
    "data = []\n",
    "for i in Class_name:\n",
    "    path = os.path.join(directory, i)\n",
    "    file_list = os.listdir(path)\n",
    "    \n",
    "    for j in file_list:\n",
    "        name = j\n",
    "        label1 = i\n",
    "        label2 = i[3:5]\n",
    "        num = j[6:10]\n",
    "    \n",
    "        eda = [name, label1, label2, num]\n",
    "        data.append(eda)"
   ]
  },
  {
   "cell_type": "code",
   "execution_count": null,
   "id": "fbiGVRiRxYBe",
   "metadata": {
    "id": "fbiGVRiRxYBe"
   },
   "outputs": [],
   "source": [
    "DF=pd.DataFrame(data, columns=['name','fold','class','num'])\n",
    "DF['path']=directory+'/'+DF['fold']+'/'+DF['name']"
   ]
  },
  {
   "cell_type": "code",
   "execution_count": null,
   "id": "e1Va9WR0xoTR",
   "metadata": {
    "id": "e1Va9WR0xoTR"
   },
   "outputs": [],
   "source": [
    "##선정한 10개 데이터만 선택\n",
    "DF_select=DF[(DF['class']=='15')|(DF['class']=='13')|(DF['class']=='60')|(DF['class']=='01')|(DF['class']=='07')|\n",
    "             (DF['class']=='55')|(DF['class']=='77')|(DF['class']=='11')|(DF['class']=='16')|(DF['class']=='17')]\n",
    "DF_select['class']=DF_select['class'].astype(int)\n",
    "DF_select['num']=DF_select['num'].astype(int)"
   ]
  },
  {
   "cell_type": "code",
   "execution_count": null,
   "id": "uKbkn3-bxoTR",
   "metadata": {
    "id": "uKbkn3-bxoTR"
   },
   "outputs": [],
   "source": [
    "with open('C:/Users/HOME/Desktop/AI_project/KSL/class_label.p','rb') as f:\n",
    "    Labels=pickle.load(f)"
   ]
  },
  {
   "cell_type": "code",
   "execution_count": null,
   "id": "oJQlyZHqxoTS",
   "metadata": {
    "id": "oJQlyZHqxoTS",
    "scrolled": true
   },
   "outputs": [],
   "source": [
    "DF_label=pd.DataFrame({'class' : Labels.keys(),'label' : Labels.values()})"
   ]
  },
  {
   "cell_type": "code",
   "execution_count": null,
   "id": "0Wt1RLm8xoTS",
   "metadata": {
    "id": "0Wt1RLm8xoTS",
    "outputId": "40e59ac1-cf67-4f3a-a41c-eeb0edefaa73"
   },
   "outputs": [
    {
     "data": {
      "text/html": [
       "<div>\n",
       "<style scoped>\n",
       "    .dataframe tbody tr th:only-of-type {\n",
       "        vertical-align: middle;\n",
       "    }\n",
       "\n",
       "    .dataframe tbody tr th {\n",
       "        vertical-align: top;\n",
       "    }\n",
       "\n",
       "    .dataframe thead th {\n",
       "        text-align: right;\n",
       "    }\n",
       "</style>\n",
       "<table border=\"1\" class=\"dataframe\">\n",
       "  <thead>\n",
       "    <tr style=\"text-align: right;\">\n",
       "      <th></th>\n",
       "      <th>name</th>\n",
       "      <th>fold</th>\n",
       "      <th>class</th>\n",
       "      <th>num</th>\n",
       "      <th>path</th>\n",
       "      <th>label</th>\n",
       "    </tr>\n",
       "  </thead>\n",
       "  <tbody>\n",
       "    <tr>\n",
       "      <th>0</th>\n",
       "      <td>00_01.0001.jpg</td>\n",
       "      <td>00_01</td>\n",
       "      <td>1</td>\n",
       "      <td>1</td>\n",
       "      <td>C:/Users/HOME/Desktop/AI_project/KSL/KSL_rgb/0...</td>\n",
       "      <td>hi</td>\n",
       "    </tr>\n",
       "    <tr>\n",
       "      <th>1</th>\n",
       "      <td>00_01.0002.jpg</td>\n",
       "      <td>00_01</td>\n",
       "      <td>1</td>\n",
       "      <td>2</td>\n",
       "      <td>C:/Users/HOME/Desktop/AI_project/KSL/KSL_rgb/0...</td>\n",
       "      <td>hi</td>\n",
       "    </tr>\n",
       "    <tr>\n",
       "      <th>2</th>\n",
       "      <td>00_01.0003.jpg</td>\n",
       "      <td>00_01</td>\n",
       "      <td>1</td>\n",
       "      <td>3</td>\n",
       "      <td>C:/Users/HOME/Desktop/AI_project/KSL/KSL_rgb/0...</td>\n",
       "      <td>hi</td>\n",
       "    </tr>\n",
       "    <tr>\n",
       "      <th>3</th>\n",
       "      <td>00_01.0004.jpg</td>\n",
       "      <td>00_01</td>\n",
       "      <td>1</td>\n",
       "      <td>4</td>\n",
       "      <td>C:/Users/HOME/Desktop/AI_project/KSL/KSL_rgb/0...</td>\n",
       "      <td>hi</td>\n",
       "    </tr>\n",
       "    <tr>\n",
       "      <th>4</th>\n",
       "      <td>00_01.0005.jpg</td>\n",
       "      <td>00_01</td>\n",
       "      <td>1</td>\n",
       "      <td>5</td>\n",
       "      <td>C:/Users/HOME/Desktop/AI_project/KSL/KSL_rgb/0...</td>\n",
       "      <td>hi</td>\n",
       "    </tr>\n",
       "    <tr>\n",
       "      <th>...</th>\n",
       "      <td>...</td>\n",
       "      <td>...</td>\n",
       "      <td>...</td>\n",
       "      <td>...</td>\n",
       "      <td>...</td>\n",
       "      <td>...</td>\n",
       "    </tr>\n",
       "    <tr>\n",
       "      <th>16214</th>\n",
       "      <td>19_77.0123.jpg</td>\n",
       "      <td>19_77</td>\n",
       "      <td>77</td>\n",
       "      <td>123</td>\n",
       "      <td>C:/Users/HOME/Desktop/AI_project/KSL/KSL_rgb/1...</td>\n",
       "      <td>care</td>\n",
       "    </tr>\n",
       "    <tr>\n",
       "      <th>16215</th>\n",
       "      <td>19_77.0124.jpg</td>\n",
       "      <td>19_77</td>\n",
       "      <td>77</td>\n",
       "      <td>124</td>\n",
       "      <td>C:/Users/HOME/Desktop/AI_project/KSL/KSL_rgb/1...</td>\n",
       "      <td>care</td>\n",
       "    </tr>\n",
       "    <tr>\n",
       "      <th>16216</th>\n",
       "      <td>19_77.0125.jpg</td>\n",
       "      <td>19_77</td>\n",
       "      <td>77</td>\n",
       "      <td>125</td>\n",
       "      <td>C:/Users/HOME/Desktop/AI_project/KSL/KSL_rgb/1...</td>\n",
       "      <td>care</td>\n",
       "    </tr>\n",
       "    <tr>\n",
       "      <th>16217</th>\n",
       "      <td>19_77.0126.jpg</td>\n",
       "      <td>19_77</td>\n",
       "      <td>77</td>\n",
       "      <td>126</td>\n",
       "      <td>C:/Users/HOME/Desktop/AI_project/KSL/KSL_rgb/1...</td>\n",
       "      <td>care</td>\n",
       "    </tr>\n",
       "    <tr>\n",
       "      <th>16218</th>\n",
       "      <td>19_77.0127.jpg</td>\n",
       "      <td>19_77</td>\n",
       "      <td>77</td>\n",
       "      <td>127</td>\n",
       "      <td>C:/Users/HOME/Desktop/AI_project/KSL/KSL_rgb/1...</td>\n",
       "      <td>care</td>\n",
       "    </tr>\n",
       "  </tbody>\n",
       "</table>\n",
       "<p>16219 rows × 6 columns</p>\n",
       "</div>"
      ],
      "text/plain": [
       "                 name   fold  class  num  \\\n",
       "0      00_01.0001.jpg  00_01      1    1   \n",
       "1      00_01.0002.jpg  00_01      1    2   \n",
       "2      00_01.0003.jpg  00_01      1    3   \n",
       "3      00_01.0004.jpg  00_01      1    4   \n",
       "4      00_01.0005.jpg  00_01      1    5   \n",
       "...               ...    ...    ...  ...   \n",
       "16214  19_77.0123.jpg  19_77     77  123   \n",
       "16215  19_77.0124.jpg  19_77     77  124   \n",
       "16216  19_77.0125.jpg  19_77     77  125   \n",
       "16217  19_77.0126.jpg  19_77     77  126   \n",
       "16218  19_77.0127.jpg  19_77     77  127   \n",
       "\n",
       "                                                    path label  \n",
       "0      C:/Users/HOME/Desktop/AI_project/KSL/KSL_rgb/0...    hi  \n",
       "1      C:/Users/HOME/Desktop/AI_project/KSL/KSL_rgb/0...    hi  \n",
       "2      C:/Users/HOME/Desktop/AI_project/KSL/KSL_rgb/0...    hi  \n",
       "3      C:/Users/HOME/Desktop/AI_project/KSL/KSL_rgb/0...    hi  \n",
       "4      C:/Users/HOME/Desktop/AI_project/KSL/KSL_rgb/0...    hi  \n",
       "...                                                  ...   ...  \n",
       "16214  C:/Users/HOME/Desktop/AI_project/KSL/KSL_rgb/1...  care  \n",
       "16215  C:/Users/HOME/Desktop/AI_project/KSL/KSL_rgb/1...  care  \n",
       "16216  C:/Users/HOME/Desktop/AI_project/KSL/KSL_rgb/1...  care  \n",
       "16217  C:/Users/HOME/Desktop/AI_project/KSL/KSL_rgb/1...  care  \n",
       "16218  C:/Users/HOME/Desktop/AI_project/KSL/KSL_rgb/1...  care  \n",
       "\n",
       "[16219 rows x 6 columns]"
      ]
     },
     "execution_count": 39,
     "metadata": {},
     "output_type": "execute_result"
    }
   ],
   "source": [
    "#파일에 대한 최종 데이터프레임\n",
    "DF_select = pd.merge(DF_select, DF_label, on='class')\n",
    "DF_select"
   ]
  },
  {
   "cell_type": "markdown",
   "id": "9SScxQUgyHFU",
   "metadata": {
    "id": "9SScxQUgyHFU"
   },
   "source": [
    "- name : 파일명\n",
    "- fold : 폴더명\n",
    "- class : 클래스명(숫자)\n",
    "- num : 몇번째 프레임인지\n",
    "- path : 경로\n",
    "- label : 클래스명(뜻)"
   ]
  },
  {
   "cell_type": "markdown",
   "id": "I0_FxxZKzTvn",
   "metadata": {
    "id": "I0_FxxZKzTvn"
   },
   "source": [
    "### 미디어파이프\n",
    "- 손 모양이 중요하므로 손에 대한 정보를 추출하기 위해 진행\n",
    "- 미디어파이프 적용된 이미지는 따로 폴더에 저장"
   ]
  },
  {
   "cell_type": "code",
   "execution_count": null,
   "id": "kxUMbHCszsqx",
   "metadata": {
    "id": "kxUMbHCszsqx"
   },
   "outputs": [],
   "source": [
    "mp_drawing = mp.solutions.drawing_utils\n",
    "mp_drawing_styles = mp.solutions.drawing_styles\n",
    "mp_hands = mp.solutions.hands"
   ]
  },
  {
   "cell_type": "code",
   "execution_count": null,
   "id": "4v2dEt-ezqcR",
   "metadata": {
    "id": "4v2dEt-ezqcR",
    "outputId": "91dea747-d19a-43c4-94b6-d07bc260f9b4"
   },
   "outputs": [],
   "source": [
    "lmList = []\n",
    "\n",
    "with mp_hands.Hands(\n",
    "    static_image_mode=True, #움직임 없는 이미지 인식\n",
    "    max_num_hands=2, #최대 인식 손 개수\n",
    "    min_detection_confidence=0.5) as hands:\n",
    "    for file in select_df['path']:\n",
    "        image = cv2.flip(cv2.imread(file), 1)\n",
    "        results = hands.process(cv2.cvtColor(image, cv2.COLOR_BGR2RGB))\n",
    "\n",
    "        print('Handedness:', results.multi_handedness)\n",
    "        if not results.multi_hand_landmarks:\n",
    "            continue\n",
    "        image_height, image_width, _ = image.shape\n",
    "        annoted_image = image.copy()\n",
    "        for hand_landmarks in results.multi_hand_landmarks:\n",
    "            print('hand_landmarks:', hand_landmarks)\n",
    "            lmList.append([\n",
    "                file[-14:-4]+'.jpg',\n",
    "                hand_landmarks.landmark[mp_hands.HandLandmark.THUMB_TIP].x * image_width, \n",
    "                hand_landmarks.landmark[mp_hands.HandLandmark.THUMB_TIP].y * image_height,\n",
    "                hand_landmarks.landmark[mp_hands.HandLandmark.INDEX_FINGER_TIP].x * image_width, \n",
    "                hand_landmarks.landmark[mp_hands.HandLandmark.INDEX_FINGER_TIP].y * image_height,\n",
    "                hand_landmarks.landmark[mp_hands.HandLandmark.MIDDLE_FINGER_TIP].x * image_width, \n",
    "                hand_landmarks.landmark[mp_hands.HandLandmark.MIDDLE_FINGER_TIP].y * image_height,\n",
    "                hand_landmarks.landmark[mp_hands.HandLandmark.RING_FINGER_TIP].x * image_width, \n",
    "                hand_landmarks.landmark[mp_hands.HandLandmark.RING_FINGER_TIP].y * image_height,\n",
    "                hand_landmarks.landmark[mp_hands.HandLandmark.PINKY_TIP].x * image_width, \n",
    "                hand_landmarks.landmark[mp_hands.HandLandmark.PINKY_TIP].y * image_height,\n",
    "            ])\n",
    "            \n",
    "\n",
    "            mp_drawing.draw_landmarks(\n",
    "              annoted_image,\n",
    "              hand_landmarks,\n",
    "              mp_hands.HAND_CONNECTIONS,\n",
    "              mp_drawing_styles.DrawingSpec(color=(80,110,10), thickness=1, circle_radius=1),\n",
    "              mp_drawing_styles.DrawingSpec(color=(80,256,121), thickness=1, circle_radius=1))\n",
    "            cv2.imwrite(\n",
    "            'C:/Users/HOME/Desktop/AI_project/KSL/KSL_mp_3600/' + file[-14:-4] + '.jpg', cv2.flip(annoted_image, 1))"
   ]
  },
  {
   "cell_type": "code",
   "execution_count": null,
   "id": "PFsSDECj0ZAq",
   "metadata": {
    "id": "PFsSDECj0ZAq",
    "outputId": "578a40b4-3883-4c4e-e025-c5f0cca73b1d"
   },
   "outputs": [
    {
     "data": {
      "text/html": [
       "<div>\n",
       "<style scoped>\n",
       "    .dataframe tbody tr th:only-of-type {\n",
       "        vertical-align: middle;\n",
       "    }\n",
       "\n",
       "    .dataframe tbody tr th {\n",
       "        vertical-align: top;\n",
       "    }\n",
       "\n",
       "    .dataframe thead th {\n",
       "        text-align: right;\n",
       "    }\n",
       "</style>\n",
       "<table border=\"1\" class=\"dataframe\">\n",
       "  <thead>\n",
       "    <tr style=\"text-align: right;\">\n",
       "      <th></th>\n",
       "      <th>name</th>\n",
       "      <th>thumb_x</th>\n",
       "      <th>thumb_y</th>\n",
       "      <th>index_x</th>\n",
       "      <th>index_y</th>\n",
       "      <th>middle_x</th>\n",
       "      <th>middle_y</th>\n",
       "      <th>ring_x</th>\n",
       "      <th>ring_y</th>\n",
       "      <th>pinky_x</th>\n",
       "      <th>pinky_y</th>\n",
       "    </tr>\n",
       "  </thead>\n",
       "  <tbody>\n",
       "    <tr>\n",
       "      <th>0</th>\n",
       "      <td>00_01.0046.jpg</td>\n",
       "      <td>146.054169</td>\n",
       "      <td>83.985329</td>\n",
       "      <td>148.195770</td>\n",
       "      <td>90.121422</td>\n",
       "      <td>150.510498</td>\n",
       "      <td>92.527527</td>\n",
       "      <td>152.951202</td>\n",
       "      <td>93.261421</td>\n",
       "      <td>156.658066</td>\n",
       "      <td>91.576355</td>\n",
       "    </tr>\n",
       "    <tr>\n",
       "      <th>1</th>\n",
       "      <td>00_01.0047.jpg</td>\n",
       "      <td>146.592285</td>\n",
       "      <td>86.029869</td>\n",
       "      <td>148.484238</td>\n",
       "      <td>83.289421</td>\n",
       "      <td>151.111496</td>\n",
       "      <td>88.970001</td>\n",
       "      <td>154.152359</td>\n",
       "      <td>90.922333</td>\n",
       "      <td>157.715210</td>\n",
       "      <td>91.416679</td>\n",
       "    </tr>\n",
       "    <tr>\n",
       "      <th>2</th>\n",
       "      <td>00_01.0048.jpg</td>\n",
       "      <td>149.894150</td>\n",
       "      <td>93.380455</td>\n",
       "      <td>147.515060</td>\n",
       "      <td>92.055321</td>\n",
       "      <td>150.546951</td>\n",
       "      <td>92.396873</td>\n",
       "      <td>153.623566</td>\n",
       "      <td>93.212265</td>\n",
       "      <td>156.802139</td>\n",
       "      <td>93.088387</td>\n",
       "    </tr>\n",
       "    <tr>\n",
       "      <th>3</th>\n",
       "      <td>00_01.0049.jpg</td>\n",
       "      <td>149.160004</td>\n",
       "      <td>94.140656</td>\n",
       "      <td>148.358292</td>\n",
       "      <td>90.409233</td>\n",
       "      <td>150.847076</td>\n",
       "      <td>95.667648</td>\n",
       "      <td>153.752213</td>\n",
       "      <td>96.122932</td>\n",
       "      <td>157.373825</td>\n",
       "      <td>95.369423</td>\n",
       "    </tr>\n",
       "    <tr>\n",
       "      <th>4</th>\n",
       "      <td>00_07.0035.jpg</td>\n",
       "      <td>128.973709</td>\n",
       "      <td>122.620193</td>\n",
       "      <td>114.785782</td>\n",
       "      <td>122.874641</td>\n",
       "      <td>113.314781</td>\n",
       "      <td>127.133591</td>\n",
       "      <td>112.632797</td>\n",
       "      <td>133.263458</td>\n",
       "      <td>114.268280</td>\n",
       "      <td>142.579300</td>\n",
       "    </tr>\n",
       "  </tbody>\n",
       "</table>\n",
       "</div>"
      ],
      "text/plain": [
       "             name     thumb_x     thumb_y     index_x     index_y    middle_x  \\\n",
       "0  00_01.0046.jpg  146.054169   83.985329  148.195770   90.121422  150.510498   \n",
       "1  00_01.0047.jpg  146.592285   86.029869  148.484238   83.289421  151.111496   \n",
       "2  00_01.0048.jpg  149.894150   93.380455  147.515060   92.055321  150.546951   \n",
       "3  00_01.0049.jpg  149.160004   94.140656  148.358292   90.409233  150.847076   \n",
       "4  00_07.0035.jpg  128.973709  122.620193  114.785782  122.874641  113.314781   \n",
       "\n",
       "     middle_y      ring_x      ring_y     pinky_x     pinky_y  \n",
       "0   92.527527  152.951202   93.261421  156.658066   91.576355  \n",
       "1   88.970001  154.152359   90.922333  157.715210   91.416679  \n",
       "2   92.396873  153.623566   93.212265  156.802139   93.088387  \n",
       "3   95.667648  153.752213   96.122932  157.373825   95.369423  \n",
       "4  127.133591  112.632797  133.263458  114.268280  142.579300  "
      ]
     },
     "execution_count": 72,
     "metadata": {},
     "output_type": "execute_result"
    }
   ],
   "source": [
    "#파일명,엄지손가락x좌표,엄지손가락y좌표......새끼손가락x좌표,새끼손가락y좌표\n",
    "pd.DataFrame(lmList, columns=['name','thumb_x','thumb_y','index_x','index_y','middle_x','middle_y','ring_x','ring_y','pinky_x','pinky_y']).head()"
   ]
  },
  {
   "cell_type": "markdown",
   "id": "8rePAfzjylTz",
   "metadata": {
    "id": "8rePAfzjylTz"
   },
   "source": [
    "### 중요 동작 20개씩 뽑아내기\n",
    "\n",
    "(사진 보여주면서) 프레임들 속에는 아무 동작을 하지 않는 사진들도 있어서 중요 동작들만 뽑아냄"
   ]
  },
  {
   "cell_type": "code",
   "execution_count": null,
   "id": "94304a5b",
   "metadata": {
    "id": "94304a5b",
    "outputId": "8ad37e90-c4ab-44d4-9ed4-95a25c0cab71"
   },
   "outputs": [
    {
     "data": {
      "text/html": [
       "<div>\n",
       "<style scoped>\n",
       "    .dataframe tbody tr th:only-of-type {\n",
       "        vertical-align: middle;\n",
       "    }\n",
       "\n",
       "    .dataframe tbody tr th {\n",
       "        vertical-align: top;\n",
       "    }\n",
       "\n",
       "    .dataframe thead th {\n",
       "        text-align: right;\n",
       "    }\n",
       "</style>\n",
       "<table border=\"1\" class=\"dataframe\">\n",
       "  <thead>\n",
       "    <tr style=\"text-align: right;\">\n",
       "      <th></th>\n",
       "      <th>name</th>\n",
       "      <th>fold</th>\n",
       "      <th>class</th>\n",
       "      <th>num</th>\n",
       "      <th>path</th>\n",
       "      <th>label</th>\n",
       "    </tr>\n",
       "  </thead>\n",
       "  <tbody>\n",
       "    <tr>\n",
       "      <th>0</th>\n",
       "      <td>00_01.0045.jpg</td>\n",
       "      <td>00_01</td>\n",
       "      <td>1</td>\n",
       "      <td>45</td>\n",
       "      <td>C:/Users/HOME/Desktop/AI_project/KSL/KSL_rgb/0...</td>\n",
       "      <td>hi</td>\n",
       "    </tr>\n",
       "    <tr>\n",
       "      <th>1</th>\n",
       "      <td>00_01.0046.jpg</td>\n",
       "      <td>00_01</td>\n",
       "      <td>1</td>\n",
       "      <td>46</td>\n",
       "      <td>C:/Users/HOME/Desktop/AI_project/KSL/KSL_rgb/0...</td>\n",
       "      <td>hi</td>\n",
       "    </tr>\n",
       "    <tr>\n",
       "      <th>2</th>\n",
       "      <td>00_01.0047.jpg</td>\n",
       "      <td>00_01</td>\n",
       "      <td>1</td>\n",
       "      <td>47</td>\n",
       "      <td>C:/Users/HOME/Desktop/AI_project/KSL/KSL_rgb/0...</td>\n",
       "      <td>hi</td>\n",
       "    </tr>\n",
       "    <tr>\n",
       "      <th>3</th>\n",
       "      <td>00_01.0048.jpg</td>\n",
       "      <td>00_01</td>\n",
       "      <td>1</td>\n",
       "      <td>48</td>\n",
       "      <td>C:/Users/HOME/Desktop/AI_project/KSL/KSL_rgb/0...</td>\n",
       "      <td>hi</td>\n",
       "    </tr>\n",
       "    <tr>\n",
       "      <th>4</th>\n",
       "      <td>00_01.0049.jpg</td>\n",
       "      <td>00_01</td>\n",
       "      <td>1</td>\n",
       "      <td>49</td>\n",
       "      <td>C:/Users/HOME/Desktop/AI_project/KSL/KSL_rgb/0...</td>\n",
       "      <td>hi</td>\n",
       "    </tr>\n",
       "    <tr>\n",
       "      <th>...</th>\n",
       "      <td>...</td>\n",
       "      <td>...</td>\n",
       "      <td>...</td>\n",
       "      <td>...</td>\n",
       "      <td>...</td>\n",
       "      <td>...</td>\n",
       "    </tr>\n",
       "    <tr>\n",
       "      <th>3595</th>\n",
       "      <td>19_77.0072.jpg</td>\n",
       "      <td>19_77</td>\n",
       "      <td>77</td>\n",
       "      <td>72</td>\n",
       "      <td>C:/Users/HOME/Desktop/AI_project/KSL/KSL_rgb/1...</td>\n",
       "      <td>care</td>\n",
       "    </tr>\n",
       "    <tr>\n",
       "      <th>3596</th>\n",
       "      <td>19_77.0073.jpg</td>\n",
       "      <td>19_77</td>\n",
       "      <td>77</td>\n",
       "      <td>73</td>\n",
       "      <td>C:/Users/HOME/Desktop/AI_project/KSL/KSL_rgb/1...</td>\n",
       "      <td>care</td>\n",
       "    </tr>\n",
       "    <tr>\n",
       "      <th>3597</th>\n",
       "      <td>19_77.0074.jpg</td>\n",
       "      <td>19_77</td>\n",
       "      <td>77</td>\n",
       "      <td>74</td>\n",
       "      <td>C:/Users/HOME/Desktop/AI_project/KSL/KSL_rgb/1...</td>\n",
       "      <td>care</td>\n",
       "    </tr>\n",
       "    <tr>\n",
       "      <th>3598</th>\n",
       "      <td>19_77.0075.jpg</td>\n",
       "      <td>19_77</td>\n",
       "      <td>77</td>\n",
       "      <td>75</td>\n",
       "      <td>C:/Users/HOME/Desktop/AI_project/KSL/KSL_rgb/1...</td>\n",
       "      <td>care</td>\n",
       "    </tr>\n",
       "    <tr>\n",
       "      <th>3599</th>\n",
       "      <td>19_77.0076.jpg</td>\n",
       "      <td>19_77</td>\n",
       "      <td>77</td>\n",
       "      <td>76</td>\n",
       "      <td>C:/Users/HOME/Desktop/AI_project/KSL/KSL_rgb/1...</td>\n",
       "      <td>care</td>\n",
       "    </tr>\n",
       "  </tbody>\n",
       "</table>\n",
       "<p>3600 rows × 6 columns</p>\n",
       "</div>"
      ],
      "text/plain": [
       "                name   fold  class  num  \\\n",
       "0     00_01.0045.jpg  00_01      1   45   \n",
       "1     00_01.0046.jpg  00_01      1   46   \n",
       "2     00_01.0047.jpg  00_01      1   47   \n",
       "3     00_01.0048.jpg  00_01      1   48   \n",
       "4     00_01.0049.jpg  00_01      1   49   \n",
       "...              ...    ...    ...  ...   \n",
       "3595  19_77.0072.jpg  19_77     77   72   \n",
       "3596  19_77.0073.jpg  19_77     77   73   \n",
       "3597  19_77.0074.jpg  19_77     77   74   \n",
       "3598  19_77.0075.jpg  19_77     77   75   \n",
       "3599  19_77.0076.jpg  19_77     77   76   \n",
       "\n",
       "                                                   path label  \n",
       "0     C:/Users/HOME/Desktop/AI_project/KSL/KSL_rgb/0...    hi  \n",
       "1     C:/Users/HOME/Desktop/AI_project/KSL/KSL_rgb/0...    hi  \n",
       "2     C:/Users/HOME/Desktop/AI_project/KSL/KSL_rgb/0...    hi  \n",
       "3     C:/Users/HOME/Desktop/AI_project/KSL/KSL_rgb/0...    hi  \n",
       "4     C:/Users/HOME/Desktop/AI_project/KSL/KSL_rgb/0...    hi  \n",
       "...                                                 ...   ...  \n",
       "3595  C:/Users/HOME/Desktop/AI_project/KSL/KSL_rgb/1...  care  \n",
       "3596  C:/Users/HOME/Desktop/AI_project/KSL/KSL_rgb/1...  care  \n",
       "3597  C:/Users/HOME/Desktop/AI_project/KSL/KSL_rgb/1...  care  \n",
       "3598  C:/Users/HOME/Desktop/AI_project/KSL/KSL_rgb/1...  care  \n",
       "3599  C:/Users/HOME/Desktop/AI_project/KSL/KSL_rgb/1...  care  \n",
       "\n",
       "[3600 rows x 6 columns]"
      ]
     },
     "execution_count": 32,
     "metadata": {},
     "output_type": "execute_result"
    }
   ],
   "source": [
    "#한 폴더당 중심 동작 20개씩 뽑음\n",
    "select_df=pd.read_csv('C:/Users/HOME/Desktop/AI_project/KSL/DF_select.csv')\n",
    "select_df"
   ]
  },
  {
   "cell_type": "markdown",
   "id": "x9z0GyUe1WS3",
   "metadata": {
    "id": "x9z0GyUe1WS3"
   },
   "source": [
    "### 모델링 전 최종 전처리"
   ]
  },
  {
   "cell_type": "code",
   "execution_count": null,
   "id": "DN1eAGlMxdNs",
   "metadata": {
    "id": "DN1eAGlMxdNs"
   },
   "outputs": [],
   "source": [
    "datagen = ImageDataGenerator(rescale=1/ 255, validation_split=0.3)\n",
    "#255로 나누어 정규화.\n",
    "#train:valid set 비율은 7:3"
   ]
  },
  {
   "cell_type": "code",
   "execution_count": null,
   "id": "moRAMUt11hXC",
   "metadata": {
    "id": "moRAMUt11hXC",
    "outputId": "b3d966e2-e726-4b05-ba7d-c6b7f156d051"
   },
   "outputs": [
    {
     "name": "stdout",
     "output_type": "stream",
     "text": [
      "Found 2520 validated image filenames belonging to 10 classes.\n",
      "Found 1080 validated image filenames belonging to 10 classes.\n"
     ]
    }
   ],
   "source": [
    "train_generator = datagen.flow_from_dataframe(\n",
    "          dataframe=select_df,\n",
    "          batch_size=24,\n",
    "          class_mode='categorical',\n",
    "          shuffle=True,\n",
    "          seed=2022,\n",
    "          x_col='path',\n",
    "          y_col='label',\n",
    "          subset = 'training',)\n",
    "\n",
    "valid_generator = datagen.flow_from_dataframe(\n",
    "          dataframe=select_df,\n",
    "          batch_size=24,\n",
    "          class_mode='categorical',\n",
    "          shuffle=True,\n",
    "          seed=2022,\n",
    "          x_col='path',\n",
    "          y_col='label',\n",
    "          subset = 'validation')"
   ]
  },
  {
   "cell_type": "markdown",
   "id": "94c3HFVt1x8K",
   "metadata": {
    "id": "94c3HFVt1x8K"
   },
   "source": [
    "- train dataset : 2520개\n",
    "- validation dataset : 1080개"
   ]
  },
  {
   "cell_type": "markdown",
   "id": "y3PbS_az1_d1",
   "metadata": {
    "id": "y3PbS_az1_d1"
   },
   "source": [
    "## 3. 모델링 (미디어파이프 미적용)"
   ]
  },
  {
   "cell_type": "markdown",
   "id": "HrNZ_bJS1-oh",
   "metadata": {
    "id": "HrNZ_bJS1-oh"
   },
   "source": [
    "### CNN(+batchnormalization)\n",
    "- 가설1. 미디어파이프 적용 vs 미적용\n",
    "- 아래 코드는 미디어 파이프 적용X"
   ]
  },
  {
   "cell_type": "code",
   "execution_count": null,
   "id": "a30f1bb5",
   "metadata": {
    "id": "a30f1bb5",
    "outputId": "3a3415fb-1a6d-4b66-ee34-8cc7672792af"
   },
   "outputs": [
    {
     "name": "stdout",
     "output_type": "stream",
     "text": [
      "Model: \"sequential_1\"\n",
      "_________________________________________________________________\n",
      " Layer (type)                Output Shape              Param #   \n",
      "=================================================================\n",
      " conv2d_6 (Conv2D)           (None, 256, 256, 30)      840       \n",
      "                                                                 \n",
      " batch_normalization_6 (Batc  (None, 256, 256, 30)     120       \n",
      " hNormalization)                                                 \n",
      "                                                                 \n",
      " activation_7 (Activation)   (None, 256, 256, 30)      0         \n",
      "                                                                 \n",
      " conv2d_7 (Conv2D)           (None, 256, 256, 30)      8130      \n",
      "                                                                 \n",
      " batch_normalization_7 (Batc  (None, 256, 256, 30)     120       \n",
      " hNormalization)                                                 \n",
      "                                                                 \n",
      " activation_8 (Activation)   (None, 256, 256, 30)      0         \n",
      "                                                                 \n",
      " max_pooling2d_3 (MaxPooling  (None, 128, 128, 30)     0         \n",
      " 2D)                                                             \n",
      "                                                                 \n",
      " conv2d_8 (Conv2D)           (None, 128, 128, 50)      13550     \n",
      "                                                                 \n",
      " batch_normalization_8 (Batc  (None, 128, 128, 50)     200       \n",
      " hNormalization)                                                 \n",
      "                                                                 \n",
      " activation_9 (Activation)   (None, 128, 128, 50)      0         \n",
      "                                                                 \n",
      " conv2d_9 (Conv2D)           (None, 128, 128, 50)      22550     \n",
      "                                                                 \n",
      " batch_normalization_9 (Batc  (None, 128, 128, 50)     200       \n",
      " hNormalization)                                                 \n",
      "                                                                 \n",
      " activation_10 (Activation)  (None, 128, 128, 50)      0         \n",
      "                                                                 \n",
      " max_pooling2d_4 (MaxPooling  (None, 64, 64, 50)       0         \n",
      " 2D)                                                             \n",
      "                                                                 \n",
      " conv2d_10 (Conv2D)          (None, 64, 64, 80)        36080     \n",
      "                                                                 \n",
      " batch_normalization_10 (Bat  (None, 64, 64, 80)       320       \n",
      " chNormalization)                                                \n",
      "                                                                 \n",
      " activation_11 (Activation)  (None, 64, 64, 80)        0         \n",
      "                                                                 \n",
      " conv2d_11 (Conv2D)          (None, 64, 64, 80)        57680     \n",
      "                                                                 \n",
      " batch_normalization_11 (Bat  (None, 64, 64, 80)       320       \n",
      " chNormalization)                                                \n",
      "                                                                 \n",
      " activation_12 (Activation)  (None, 64, 64, 80)        0         \n",
      "                                                                 \n",
      " max_pooling2d_5 (MaxPooling  (None, 32, 32, 80)       0         \n",
      " 2D)                                                             \n",
      "                                                                 \n",
      " flatten_1 (Flatten)         (None, 81920)             0         \n",
      "                                                                 \n",
      " dense_2 (Dense)             (None, 50)                4096050   \n",
      "                                                                 \n",
      " activation_13 (Activation)  (None, 50)                0         \n",
      "                                                                 \n",
      " dense_3 (Dense)             (None, 10)                510       \n",
      "                                                                 \n",
      "=================================================================\n",
      "Total params: 4,236,670\n",
      "Trainable params: 4,236,030\n",
      "Non-trainable params: 640\n",
      "_________________________________________________________________\n"
     ]
    }
   ],
   "source": [
    "pool_size = 2\n",
    "    \n",
    "model1 = Sequential([\n",
    "  keras.Input(shape=(256,256,3)),\n",
    "  Conv2D(filters = 30, kernel_size = (3,3), padding='same'),  \n",
    "  BatchNormalization(),                                       \n",
    "  Activation('relu'),\n",
    "  Conv2D(filters = 30, kernel_size = (3,3), padding='same'),  \n",
    "  BatchNormalization(),                                       \n",
    "  Activation('relu'),                                           \n",
    "  MaxPooling2D(pool_size=pool_size),                         \n",
    "\n",
    "  Conv2D(filters = 50, kernel_size = (3,3), padding='same'),\n",
    "  BatchNormalization(),\n",
    "  Activation('relu'),\n",
    "  Conv2D(filters = 50, kernel_size = (3,3), padding='same'),  \n",
    "  BatchNormalization(),                                       \n",
    "  Activation('relu'),   \n",
    "  MaxPooling2D(pool_size=pool_size),                         \n",
    "\n",
    "  Conv2D(filters = 80, kernel_size = (3,3), padding='same'),\n",
    "  BatchNormalization(),\n",
    "  Activation('relu'),\n",
    "  Conv2D(filters = 80, kernel_size = (3,3), padding='same'),  \n",
    "  BatchNormalization(),                                       \n",
    "  Activation('relu'),   \n",
    "  MaxPooling2D(pool_size=pool_size),                         \n",
    "\n",
    "  Flatten(),\n",
    "  Dense(50),\n",
    "  Activation('relu'),                                          \n",
    "  \n",
    "  Dense(10, activation='softmax'),\n",
    "])\n",
    "\n",
    "model1.summary()"
   ]
  },
  {
   "cell_type": "code",
   "execution_count": null,
   "id": "071a1401",
   "metadata": {
    "id": "071a1401"
   },
   "outputs": [],
   "source": [
    "model1.compile(\n",
    "  optimizer='adam',\n",
    "  loss='categorical_crossentropy',\n",
    "  metrics=['accuracy'],\n",
    ")"
   ]
  },
  {
   "cell_type": "code",
   "execution_count": null,
   "id": "dab66687",
   "metadata": {
    "id": "dab66687",
    "outputId": "5d6ac830-0fc6-48c4-c72f-c51b6f6c37ad"
   },
   "outputs": [
    {
     "name": "stdout",
     "output_type": "stream",
     "text": [
      "Epoch 1/15\n",
      "11/11 [==============================] - 128s 12s/step - loss: 2.5131 - accuracy: 0.1220 - val_loss: 2.3140 - val_accuracy: 0.1111\n",
      "Epoch 2/15\n",
      "11/11 [==============================] - 130s 12s/step - loss: 2.3019 - accuracy: 0.1087 - val_loss: 2.3028 - val_accuracy: 0.0889\n",
      "Epoch 3/15\n",
      "11/11 [==============================] - 137s 12s/step - loss: 2.3015 - accuracy: 0.1109 - val_loss: 2.3030 - val_accuracy: 0.1111\n",
      "Epoch 4/15\n",
      "11/11 [==============================] - 130s 12s/step - loss: 2.3022 - accuracy: 0.1028 - val_loss: 2.3031 - val_accuracy: 0.1111\n",
      "Epoch 5/15\n",
      "11/11 [==============================] - 144s 13s/step - loss: 2.2982 - accuracy: 0.1228 - val_loss: 2.3048 - val_accuracy: 0.0889\n",
      "Epoch 6/15\n",
      "11/11 [==============================] - 147s 14s/step - loss: 2.2442 - accuracy: 0.1834 - val_loss: 2.3835 - val_accuracy: 0.1156\n",
      "Epoch 7/15\n",
      "11/11 [==============================] - 145s 13s/step - loss: 1.8985 - accuracy: 0.3417 - val_loss: 3.6735 - val_accuracy: 0.0844\n",
      "Epoch 8/15\n",
      "11/11 [==============================] - 145s 13s/step - loss: 1.1091 - accuracy: 0.6309 - val_loss: 5.4021 - val_accuracy: 0.0800\n",
      "Epoch 9/15\n",
      "11/11 [==============================] - 146s 13s/step - loss: 0.5206 - accuracy: 0.8343 - val_loss: 8.5717 - val_accuracy: 0.1333\n",
      "Epoch 10/15\n",
      "11/11 [==============================] - 145s 13s/step - loss: 0.3333 - accuracy: 0.8861 - val_loss: 13.6648 - val_accuracy: 0.1467\n",
      "Epoch 11/15\n",
      "11/11 [==============================] - 145s 13s/step - loss: 0.2605 - accuracy: 0.9157 - val_loss: 14.5106 - val_accuracy: 0.1111\n",
      "Epoch 12/15\n",
      "11/11 [==============================] - 147s 13s/step - loss: 0.2195 - accuracy: 0.9334 - val_loss: 11.6082 - val_accuracy: 0.1289\n",
      "Epoch 13/15\n",
      "11/11 [==============================] - 146s 13s/step - loss: 0.0710 - accuracy: 0.9793 - val_loss: 16.5634 - val_accuracy: 0.1089\n",
      "Epoch 14/15\n",
      "11/11 [==============================] - 145s 13s/step - loss: 0.0438 - accuracy: 0.9882 - val_loss: 18.0260 - val_accuracy: 0.1133\n",
      "Epoch 15/15\n",
      "11/11 [==============================] - 144s 13s/step - loss: 0.0595 - accuracy: 0.9845 - val_loss: 16.1055 - val_accuracy: 0.1089\n"
     ]
    }
   ],
   "source": [
    "history1= model1.fit(\n",
    "    train_generator,\n",
    "    epochs=15,\n",
    "    validation_data=valid_generator,\n",
    "    shuffle=True)"
   ]
  },
  {
   "cell_type": "markdown",
   "id": "vVBYKvTA352p",
   "metadata": {
    "id": "vVBYKvTA352p"
   },
   "source": [
    "- 최고 val_accuracy는 0.1467\n",
    "- val_loss가 높아지는 것으로 보아 train에 대해서 과적합되는 것으로 보임"
   ]
  },
  {
   "cell_type": "code",
   "execution_count": null,
   "id": "d990b362",
   "metadata": {
    "id": "d990b362",
    "outputId": "4c465281-f564-471e-cdd4-2e0d0db89279"
   },
   "outputs": [
    {
     "data": {
      "image/png": "[encoded data removed]",
      "text/plain": [
       "<Figure size 1400x500 with 2 Axes>"
      ]
     },
     "metadata": {},
     "output_type": "display_data"
    }
   ],
   "source": [
    "plt.figure(figsize=(14, 5))\n",
    "\n",
    "plt.subplot(1, 2, 1)\n",
    "plt.plot(history1.history['accuracy'], label='Training Accuracy')\n",
    "plt.plot(history1.history['val_accuracy'], label='Validation Accuracy')\n",
    "plt.legend(loc='lower right')\n",
    "plt.title('Training and Validation Accuracy')\n",
    "\n",
    "plt.subplot(1, 2, 2)\n",
    "plt.plot(history1.history['loss'], label='Training Loss')\n",
    "plt.plot(history1.history['val_loss'], label='Validation Loss')\n",
    "plt.legend(loc='upper right')\n",
    "plt.title('Training and Validation Loss')\n",
    "\n",
    "plt.show()"
   ]
  },
  {
   "cell_type": "markdown",
   "id": "5809Bk-O5Q0T",
   "metadata": {
    "id": "5809Bk-O5Q0T"
   },
   "source": [
    "### CNN+LSTM\n",
    "- 이건 ppt에 안넣어도 될 것 같아요"
   ]
  },
  {
   "cell_type": "code",
   "execution_count": null,
   "id": "b9755dd6",
   "metadata": {
    "id": "b9755dd6"
   },
   "outputs": [],
   "source": [
    "Model = Sequential()\n",
    "\n",
    "Model.add(SeparableConv2D(12,(3,3),activation=\"relu\",\n",
    "                 input_shape=(256,256,3)))\n",
    "Model.add(BatchNormalization())\n",
    "Model.add(MaxPooling2D((2,2)))\n",
    "\n",
    "Model.add(SeparableConv2D(24,(3,3),\n",
    "                 activation=\"relu\",padding=\"same\"))\n",
    "Model.add(Dropout(0.2))\n",
    "Model.add(MaxPooling2D((2,2)))\n",
    "\n",
    "Model.add(TimeDistributed(Flatten()))\n",
    "Model.add(Bidirectional(LSTM(64,\n",
    "                                  return_sequences=True,\n",
    "                                  dropout=0.5,\n",
    "                                  recurrent_dropout=0.5)))\n",
    "Model.add(Bidirectional(LSTM(64,\n",
    "                                  return_sequences=True,\n",
    "                                  dropout=0.5,\n",
    "                                  recurrent_dropout=0.5)))\n",
    "\n",
    "Model.add(Flatten())\n",
    "Model.add(Dense(128,activation=\"relu\"))\n",
    "Model.add(Dropout(0.5))\n",
    "Model.add(Dense(10,activation=\"softmax\"))"
   ]
  },
  {
   "cell_type": "code",
   "execution_count": null,
   "id": "8ab53b9e",
   "metadata": {
    "id": "8ab53b9e"
   },
   "outputs": [],
   "source": [
    "Model.compile(\n",
    "  optimizer='adam',\n",
    "  loss='categorical_crossentropy',\n",
    "  metrics=['accuracy'],\n",
    ")"
   ]
  },
  {
   "cell_type": "code",
   "execution_count": null,
   "id": "acF-7esM5r0y",
   "metadata": {
    "id": "acF-7esM5r0y"
   },
   "outputs": [],
   "source": [
    "checkpoint_filepath = 'C:/Users/HOME/Desktop/AI_project/KSL/h5/' + 'best_model_{val_accuracy:.4f}.h5'\n",
    "model_checkpoint_callback = ModelCheckpoint(\n",
    "    filepath=checkpoint_filepath,\n",
    "    save_weights_only=True,\n",
    "    monitor='val_accuracy',\n",
    "    mode='max',\n",
    "    save_best_only=True,\n",
    "    verbose=1)"
   ]
  },
  {
   "cell_type": "code",
   "execution_count": null,
   "id": "an6QUyWy501Q",
   "metadata": {
    "id": "an6QUyWy501Q",
    "outputId": "4ce9318b-8028-491b-e287-3dcbb69cc56a"
   },
   "outputs": [
    {
     "name": "stdout",
     "output_type": "stream",
     "text": [
      "Epoch 1/10\n",
      "20/20 [==============================] - 79s 4s/step - loss: 2.3396 - accuracy: 0.1175 - val_loss: 2.3019 - val_accuracy: 0.1111\n",
      "Epoch 2/10\n",
      "20/20 [==============================] - 87s 4s/step - loss: 2.2692 - accuracy: 0.1512 - val_loss: 2.3025 - val_accuracy: 0.0926\n",
      "Epoch 3/10\n",
      "20/20 [==============================] - 77s 4s/step - loss: 1.9466 - accuracy: 0.3024 - val_loss: 2.3056 - val_accuracy: 0.0796\n",
      "Epoch 4/10\n",
      "20/20 [==============================] - 90s 5s/step - loss: 1.2316 - accuracy: 0.5532 - val_loss: 2.3040 - val_accuracy: 0.1083\n",
      "Epoch 5/10\n",
      "20/20 [==============================] - 72s 4s/step - loss: 0.7859 - accuracy: 0.7139 - val_loss: 2.3024 - val_accuracy: 0.1120\n",
      "Epoch 6/10\n",
      "20/20 [==============================] - 84s 4s/step - loss: 0.5282 - accuracy: 0.8048 - val_loss: 2.3171 - val_accuracy: 0.1546\n",
      "Epoch 7/10\n",
      "20/20 [==============================] - 73s 4s/step - loss: 0.4270 - accuracy: 0.8560 - val_loss: 2.3396 - val_accuracy: 0.1324\n",
      "Epoch 8/10\n",
      "20/20 [==============================] - 83s 4s/step - loss: 0.2552 - accuracy: 0.9099 - val_loss: 2.4314 - val_accuracy: 0.1315\n",
      "Epoch 9/10\n",
      "20/20 [==============================] - 75s 4s/step - loss: 0.1935 - accuracy: 0.9298 - val_loss: 2.4862 - val_accuracy: 0.1259\n",
      "Epoch 10/10\n",
      "20/20 [==============================] - 80s 4s/step - loss: 0.1528 - accuracy: 0.9480 - val_loss: 2.6492 - val_accuracy: 0.1185\n"
     ]
    }
   ],
   "source": [
    "history2= Model.fit(\n",
    "    train_generator,\n",
    "    epochs=10,\n",
    "    validation_data=valid_generator,\n",
    "    shuffle=True)"
   ]
  },
  {
   "cell_type": "markdown",
   "id": "YmRsgdr254sg",
   "metadata": {
    "id": "YmRsgdr254sg"
   },
   "source": [
    "- cnn만 적용한 것과 다르게 val_loss값이 크게 증가하지는 않지만, 감소하지 않으므르 좋지 않음\n",
    "- 최고 val_accuracy는 0.1546 (cnn만 적용한 것보다는 크게 나옴)"
   ]
  },
  {
   "cell_type": "markdown",
   "id": "nf4qlZH26bCX",
   "metadata": {
    "id": "nf4qlZH26bCX"
   },
   "source": [
    "### CNN+Dropout\n",
    "- 이것도 ppt에 안넣어도 될 것 같아요"
   ]
  },
  {
   "cell_type": "code",
   "execution_count": null,
   "id": "c1c731e7",
   "metadata": {
    "id": "c1c731e7",
    "outputId": "0369a190-341f-486f-b1ce-5036e6a4f084"
   },
   "outputs": [
    {
     "name": "stdout",
     "output_type": "stream",
     "text": [
      "Model: \"sequential_5\"\n",
      "_________________________________________________________________\n",
      " Layer (type)                Output Shape              Param #   \n",
      "=================================================================\n",
      " conv2d_22 (Conv2D)          (None, 256, 256, 30)      840       \n",
      "                                                                 \n",
      " batch_normalization_7 (Batc  (None, 256, 256, 30)     120       \n",
      " hNormalization)                                                 \n",
      "                                                                 \n",
      " activation_26 (Activation)  (None, 256, 256, 30)      0         \n",
      "                                                                 \n",
      " conv2d_23 (Conv2D)          (None, 256, 256, 30)      8130      \n",
      "                                                                 \n",
      " batch_normalization_8 (Batc  (None, 256, 256, 30)     120       \n",
      " hNormalization)                                                 \n",
      "                                                                 \n",
      " activation_27 (Activation)  (None, 256, 256, 30)      0         \n",
      "                                                                 \n",
      " max_pooling2d_13 (MaxPoolin  (None, 128, 128, 30)     0         \n",
      " g2D)                                                            \n",
      "                                                                 \n",
      " conv2d_24 (Conv2D)          (None, 128, 128, 30)      8130      \n",
      "                                                                 \n",
      " batch_normalization_9 (Batc  (None, 128, 128, 30)     120       \n",
      " hNormalization)                                                 \n",
      "                                                                 \n",
      " activation_28 (Activation)  (None, 128, 128, 30)      0         \n",
      "                                                                 \n",
      " conv2d_25 (Conv2D)          (None, 128, 128, 30)      8130      \n",
      "                                                                 \n",
      " batch_normalization_10 (Bat  (None, 128, 128, 30)     120       \n",
      " chNormalization)                                                \n",
      "                                                                 \n",
      " activation_29 (Activation)  (None, 128, 128, 30)      0         \n",
      "                                                                 \n",
      " max_pooling2d_14 (MaxPoolin  (None, 64, 64, 30)       0         \n",
      " g2D)                                                            \n",
      "                                                                 \n",
      " conv2d_26 (Conv2D)          (None, 64, 64, 30)        8130      \n",
      "                                                                 \n",
      " batch_normalization_11 (Bat  (None, 64, 64, 30)       120       \n",
      " chNormalization)                                                \n",
      "                                                                 \n",
      " activation_30 (Activation)  (None, 64, 64, 30)        0         \n",
      "                                                                 \n",
      " conv2d_27 (Conv2D)          (None, 64, 64, 30)        8130      \n",
      "                                                                 \n",
      " batch_normalization_12 (Bat  (None, 64, 64, 30)       120       \n",
      " chNormalization)                                                \n",
      "                                                                 \n",
      " activation_31 (Activation)  (None, 64, 64, 30)        0         \n",
      "                                                                 \n",
      " max_pooling2d_15 (MaxPoolin  (None, 32, 32, 30)       0         \n",
      " g2D)                                                            \n",
      "                                                                 \n",
      " flatten_6 (Flatten)         (None, 30720)             0         \n",
      "                                                                 \n",
      " dense_10 (Dense)            (None, 50)                1536050   \n",
      "                                                                 \n",
      " activation_32 (Activation)  (None, 50)                0         \n",
      "                                                                 \n",
      " dense_11 (Dense)            (None, 10)                510       \n",
      "                                                                 \n",
      "=================================================================\n",
      "Total params: 1,578,770\n",
      "Trainable params: 1,578,410\n",
      "Non-trainable params: 360\n",
      "_________________________________________________________________\n"
     ]
    }
   ],
   "source": [
    "pool_size = 2\n",
    "    \n",
    "model3 = Sequential([\n",
    "  keras.Input(shape=(256,256,3)),\n",
    "  Conv2D(filters = 30, kernel_size = (3,3), padding='same'),  \n",
    "  BatchNormalization(),                                       \n",
    "  Activation('relu'),\n",
    "  Conv2D(filters = 30, kernel_size = (3,3), padding='same'),  \n",
    "  BatchNormalization(),                                       \n",
    "  Activation('relu'),                                           \n",
    "  MaxPooling2D(pool_size=pool_size),                         \n",
    "\n",
    "  Conv2D(filters = 30, kernel_size = (3,3), padding='same'),\n",
    "  BatchNormalization(),\n",
    "  Activation('relu'),\n",
    "  Conv2D(filters = 30, kernel_size = (3,3), padding='same'),  \n",
    "  BatchNormalization(),                                       \n",
    "  Activation('relu'),   \n",
    "  MaxPooling2D(pool_size=pool_size),                         \n",
    "\n",
    "  Conv2D(filters = 30, kernel_size = (3,3), padding='same'),\n",
    "  BatchNormalization(),\n",
    "  Activation('relu'),\n",
    "  Conv2D(filters = 30, kernel_size = (3,3), padding='same'),  \n",
    "  BatchNormalization(),                                       \n",
    "  Activation('relu'),   \n",
    "  MaxPooling2D(pool_size=pool_size),                         \n",
    "\n",
    "  Flatten(),\n",
    "  Dense(50),\n",
    "  Activation('relu'),\n",
    "  Dropout(0.5),                                          \n",
    "  \n",
    "  Dense(10, activation='softmax'),\n",
    "])\n",
    "\n",
    "model3.summary()"
   ]
  },
  {
   "cell_type": "code",
   "execution_count": null,
   "id": "e89f19e0",
   "metadata": {
    "id": "e89f19e0"
   },
   "outputs": [],
   "source": [
    "model3.compile(\n",
    "  optimizer='adam',\n",
    "  loss='categorical_crossentropy',\n",
    "  metrics=['accuracy']\n",
    ")"
   ]
  },
  {
   "cell_type": "code",
   "execution_count": null,
   "id": "3b13b88c",
   "metadata": {
    "id": "3b13b88c",
    "outputId": "6b6cedba-f777-4296-98d2-78c878bd6620"
   },
   "outputs": [
    {
     "name": "stdout",
     "output_type": "stream",
     "text": [
      "Epoch 1/15\n",
      "105/105 [==============================] - 238s 2s/step - loss: 2.7885 - accuracy: 0.1067 - val_loss: 2.3019 - val_accuracy: 0.0926\n",
      "Epoch 2/15\n",
      "105/105 [==============================] - 247s 2s/step - loss: 2.3015 - accuracy: 0.1131 - val_loss: 2.3017 - val_accuracy: 0.0926\n",
      "Epoch 3/15\n",
      "105/105 [==============================] - 251s 2s/step - loss: 2.2989 - accuracy: 0.1190 - val_loss: 2.3015 - val_accuracy: 0.0926\n",
      "Epoch 4/15\n",
      "105/105 [==============================] - 238s 2s/step - loss: 2.2977 - accuracy: 0.1190 - val_loss: 2.3016 - val_accuracy: 0.0926\n",
      "Epoch 5/15\n",
      "105/105 [==============================] - 246s 2s/step - loss: 2.2968 - accuracy: 0.1190 - val_loss: 2.3020 - val_accuracy: 0.0926\n",
      "Epoch 6/15\n",
      "105/105 [==============================] - 249s 2s/step - loss: 2.2961 - accuracy: 0.1190 - val_loss: 2.3022 - val_accuracy: 0.0926\n",
      "Epoch 7/15\n",
      "105/105 [==============================] - 248s 2s/step - loss: 2.2956 - accuracy: 0.1190 - val_loss: 2.3026 - val_accuracy: 0.0926\n",
      "Epoch 8/15\n",
      "105/105 [==============================] - 270s 3s/step - loss: 2.2952 - accuracy: 0.1190 - val_loss: 2.3028 - val_accuracy: 0.0926\n",
      "Epoch 9/15\n",
      "105/105 [==============================] - 244s 2s/step - loss: 2.2950 - accuracy: 0.1190 - val_loss: 2.3032 - val_accuracy: 0.0926\n",
      "Epoch 10/15\n",
      "105/105 [==============================] - 249s 2s/step - loss: 2.2949 - accuracy: 0.1190 - val_loss: 2.3035 - val_accuracy: 0.0926\n",
      "Epoch 11/15\n",
      "105/105 [==============================] - 240s 2s/step - loss: 2.2947 - accuracy: 0.1190 - val_loss: 2.3038 - val_accuracy: 0.0926\n",
      "Epoch 12/15\n",
      "105/105 [==============================] - 247s 2s/step - loss: 2.2945 - accuracy: 0.1190 - val_loss: 2.3039 - val_accuracy: 0.0926\n",
      "Epoch 13/15\n",
      "105/105 [==============================] - 250s 2s/step - loss: 2.2945 - accuracy: 0.1190 - val_loss: 2.3041 - val_accuracy: 0.0926\n",
      "Epoch 14/15\n",
      "105/105 [==============================] - 241s 2s/step - loss: 2.2944 - accuracy: 0.1190 - val_loss: 2.3044 - val_accuracy: 0.0926\n",
      "Epoch 15/15\n",
      "105/105 [==============================] - 247s 2s/step - loss: 2.2944 - accuracy: 0.1190 - val_loss: 2.3046 - val_accuracy: 0.0926\n"
     ]
    }
   ],
   "source": [
    "history3= model3.fit(\n",
    "    train_generator,\n",
    "    epochs=15,\n",
    "    validation_data=valid_generator,\n",
    "    shuffle=True)"
   ]
  },
  {
   "cell_type": "markdown",
   "id": "holwcIRM6nh8",
   "metadata": {
    "id": "holwcIRM6nh8"
   },
   "source": [
    "- 학습이 전혀 되지 않음....?"
   ]
  },
  {
   "cell_type": "code",
   "execution_count": null,
   "id": "CUQQkkBj3rRV",
   "metadata": {
    "id": "CUQQkkBj3rRV"
   },
   "outputs": [],
   "source": []
  }
 ],
 "metadata": {
  "colab": {
   "collapsed_sections": [
    "d123d904",
    "kLR-UFZ9xAMg",
    "8rePAfzjylTz",
    "x9z0GyUe1WS3"
   ],
   "provenance": []
  },
  "kernelspec": {
   "display_name": "Python 3 (ipykernel)",
   "language": "python",
   "name": "python3"
  },
  "language_info": {
   "codemirror_mode": {
    "name": "ipython",
    "version": 3
   },
   "file_extension": ".py",
   "mimetype": "text/x-python",
   "name": "python",
   "nbconvert_exporter": "python",
   "pygments_lexer": "ipython3",
   "version": "3.9.13"
  }
 },
 "nbformat": 4,
 "nbformat_minor": 5
}
